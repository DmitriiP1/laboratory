{
 "cells": [
  {
   "cell_type": "code",
   "execution_count": 1,
   "metadata": {},
   "outputs": [],
   "source": [
    "%matplotlib inline\n",
    "import numpy as np\n",
    "import matplotlib.pyplot as plt\n",
    "from scipy import interpolate\n",
    "import pandas as pd"
   ]
  },
  {
   "cell_type": "markdown",
   "metadata": {},
   "source": [
    "# Библиотека LabPlot"
   ]
  },
  {
   "cell_type": "code",
   "execution_count": 2,
   "metadata": {},
   "outputs": [],
   "source": [
    "# LabPlt created by Nikita Balagansky. MIPT.\n",
    "# https://github.com/PUSSYMIPT/labplot\n",
    "# This Python file uses the following encoding: utf-8\n",
    "\n",
    "def leastsqr(x, y):\n",
    "    import numpy as np\n",
    "    b = (np.mean(x * y) - np.mean(x) * np.mean(y)) /\\\n",
    "        (np.mean(x * x) - np.mean(x) ** 2)\n",
    "    a = np.mean(y) - b * np.mean(x)\n",
    "    sig_b = np.sqrt(((np.mean(y ** 2) - np.mean(y) ** 2)/((np.mean(x ** 2) - np.mean(x) ** 2)) - b ** 2)/len(x))\n",
    "    sig_a = sig_b * (np.mean(x * x) - np.mean(x) ** 2) ** 0.5\n",
    "    return b, a, sig_b, sig_a\n",
    "\n",
    "\n",
    "def make_plot(x, y, lab_x='', lab_y='', title='', err_y=None, grid=True,\n",
    "                y_scale='linear', interpolate_type='RBF', degree=None,\n",
    "                smooth=True, linear=True, borders=True):\n",
    "    import numpy as np\n",
    "    from matplotlib import pyplot as plt\n",
    "    from scipy.interpolate import Rbf, InterpolatedUnivariateSpline, interpolate, BarycentricInterpolator\n",
    "    from sklearn.pipeline import make_pipeline\n",
    "    from sklearn.preprocessing import PolynomialFeatures\n",
    "    from sklearn.linear_model import TheilSenRegressor, Ridge\n",
    "    left_boarder = min(x) if borders else min(x) - 0.1 * (max(x) - min(x))\n",
    "    right_boarder = max(x) if borders else max(x) + 0.1 * (max(x) - min(x))\n",
    "    x1 = np.linspace(left_boarder, right_boarder, 400)\n",
    "    fig, ax = plt.subplots(figsize=(12, 8))\n",
    "    plt.xlabel(lab_x)\n",
    "    plt.ylabel(lab_y)\n",
    "    plt.grid(grid)\n",
    "    ax.set_yscale(y_scale)\n",
    "    ax.errorbar(x, y, yerr=err_y, color='r', label=u'Данные', fmt='.')\n",
    "    if smooth:\n",
    "        X_plot = x1[:, np.newaxis]\n",
    "        flag_model = False\n",
    "        if interpolate_type == 'RBF':\n",
    "            smth = Rbf(x, y)\n",
    "        elif interpolate_type == 'IUS':\n",
    "            smth = InterpolatedUnivariateSpline(x, y)\n",
    "        elif interpolate_type == 'cubic':\n",
    "            smth = interpolate(x, y, kind='cubic', bc_type='natural')\n",
    "        elif interpolate_type == 'polynomial_r':\n",
    "            X = x[:, np.newaxis]\n",
    "            degree = int(degree)\n",
    "            import warnings\n",
    "            warnings.filterwarnings(action=\"ignore\", module=\"scipy\",\n",
    "                                    message=\"^internal gelsd\")\n",
    "            smth = make_pipeline(PolynomialFeatures(degree),\n",
    "                                 Ridge(alpha=1*10**-16))\n",
    "            smth.fit(X, y)\n",
    "            flag_model = True\n",
    "        elif interpolate_type == 'polynomial_t':\n",
    "            X = x[:, np.newaxis]\n",
    "            degree = int(degree)\n",
    "            import warnings\n",
    "            warnings.filterwarnings(action=\"ignore\", module=\"scipy\",\n",
    "                                    message=\"^internal gelsd\")\n",
    "            smth = make_pipeline(PolynomialFeatures(degree),\n",
    "                                 TheilSenRegressor())\n",
    "            smth.fit(X, y)\n",
    "            flag_model = True\n",
    "        else:\n",
    "            print(\"Invalid interpolate type: You can choose\\\n",
    "                   RBF, IUS, cubic or polynomial\")\n",
    "            return\n",
    "        if flag_model:\n",
    "            y1 = smth.predict(X_plot)\n",
    "        else:\n",
    "            y1 = smth(x1)\n",
    "        plt.plot(x1, y1, color='g', label=u'Сглаживание')\n",
    "    b1, a1, sig_b1, sig_a1 = leastsqr(x, y)\n",
    "    label_ = u'\\nb={}±{}  a={}±{}'.format(np.round(b1, 3), np.round(sig_b1, 3),\n",
    "                                          np.round(a1, 3), np.round(sig_a1, 3))\n",
    "    ax.set_title(title)\n",
    "    if linear:\n",
    "        plt.plot(x1, b1 * x1 + a1, label=u'Линейная апроксимация' + label_)\n",
    "    plt.legend()\n",
    "    return fig, ax\n",
    "\n",
    "\n",
    "def make_plots(x_array, y_array, labels, err_y=0, title='', x_label='',\n",
    "               style='different', y_label='', grid=False, method='cubic',\n",
    "               degree=1):\n",
    "    import numpy as np\n",
    "    from matplotlib import pyplot as plt\n",
    "    from scipy.interpolate import CubicSpline\n",
    "    from sklearn.pipeline import make_pipeline\n",
    "    from sklearn.preprocessing import PolynomialFeatures\n",
    "    from sklearn.linear_model import LinearRegression, Ridge\n",
    "    from matplotlib import cm\n",
    "    fig, ax = plt.subplots(figsize=(12, 8))\n",
    "    if style == 'blue':\n",
    "        colors_points = cm.autumn(np.linspace(0, 1, len(x_array)))\n",
    "        colors_plots = ['b' for i in range(len(x_array))]\n",
    "    if style == 'different':\n",
    "        colors_points = cm.tab10(np.linspace(0, 0.49, len(x_array)))\n",
    "        colors_plots = cm.tab10(np.linspace(0.5, 1, len(x_array)))\n",
    "    \n",
    "    if err_y:\n",
    "        for x, y, c_point, l, c_plot, e_y in zip(x_array, y_array, colors_points,\n",
    "                                        labels, colors_plots, err_y):\n",
    "            x_plot = np.linspace(min(x), max(x), 200)\n",
    "            ax.errorbar(x, y, fmt='o', yerr=e_y, label=l, color=c_point)\n",
    "            plt.legend()\n",
    "            if method == 'cubic':\n",
    "                smth = CubicSpline(x, y)\n",
    "                y_plot = smth(x_plot)\n",
    "            elif method == 'polynomial':\n",
    "                x_pol = x[:, np.newaxis]\n",
    "                degree = int(degree)\n",
    "                import warnings\n",
    "                warnings.filterwarnings(action=\"ignore\", module=\"scipy\",\n",
    "                                        message=\"^internal gelsd\")\n",
    "                smth = make_pipeline(PolynomialFeatures(degree),\n",
    "                                     Ridge(alpha=1*10**-16))\n",
    "                smth.fit(x_pol, y)\n",
    "                y_plot = smth.predict(x_plot[:, np.newaxis])\n",
    "            plt.plot(x_plot, y_plot, color=c_plot)\n",
    "    else:\n",
    "        for x, y, c_point, l, c_plot in zip(x_array, y_array, colors_points,\n",
    "                                        labels, colors_plots):\n",
    "            x_plot = np.linspace(min(x), max(x), 200)\n",
    "            ax.errorbar(x, y, fmt='o', yerr=0, label=l, color=c_point)\n",
    "            plt.legend()\n",
    "            if method == 'cubic':\n",
    "                smth = CubicSpline(x, y)\n",
    "                y_plot = smth(x_plot)\n",
    "            elif method == 'polynomial':\n",
    "                x_pol = x[:, np.newaxis]\n",
    "                degree = int(degree)\n",
    "                import warnings\n",
    "                warnings.filterwarnings(action=\"ignore\", module=\"scipy\",\n",
    "                                        message=\"^internal gelsd\")\n",
    "                smth = make_pipeline(PolynomialFeatures(degree),\n",
    "                                     Ridge(alpha=1*10**-16))\n",
    "                smth.fit(x_pol, y)\n",
    "                y_plot = smth.predict(x_plot[:, np.newaxis])\n",
    "            plt.plot(x_plot, y_plot, color=c_plot)\n",
    "    ax.set_title(title)\n",
    "    plt.grid(grid)\n",
    "    plt.xlabel(x_label)\n",
    "    plt.ylabel(y_label)\n",
    "\n",
    "\n",
    "def interpolate_values(x, y, method='cubic'):\n",
    "    from scipy.interpolate import CubicSpline\n",
    "    import numpy as np\n",
    "    x_interpolated = np.linspace(min(x), max(x), 500)\n",
    "    if method == 'cubic':\n",
    "        smth = CubicSpline(x, y)\n",
    "        y_interpolated = smth(x_interpolated)\n",
    "    return x_interpolated, y_interpolated\n",
    "\n",
    "\n",
    "def find_nearest(array, value):\n",
    "    import numpy as np\n",
    "    array = np.asarray(array)\n",
    "    idx = (np.abs(array - value)).argmin()\n",
    "    return idx\n"
   ]
  },
  {
   "cell_type": "markdown",
   "metadata": {},
   "source": [
    "Запись таблиц в csv."
   ]
  },
  {
   "cell_type": "code",
   "execution_count": 3,
   "metadata": {},
   "outputs": [
    {
     "ename": "NameError",
     "evalue": "name 'x9' is not defined",
     "output_type": "error",
     "traceback": [
      "\u001b[0;31m---------------------------------------------------------------------------\u001b[0m",
      "\u001b[0;31mNameError\u001b[0m                                 Traceback (most recent call last)",
      "\u001b[0;32m<ipython-input-3-644c1d4b0b64>\u001b[0m in \u001b[0;36m<module>\u001b[0;34m()\u001b[0m\n\u001b[0;32m----> 1\u001b[0;31m \u001b[0mframe1\u001b[0m \u001b[0;34m=\u001b[0m \u001b[0mpd\u001b[0m\u001b[0;34m.\u001b[0m\u001b[0mDataFrame\u001b[0m\u001b[0;34m(\u001b[0m\u001b[0mx9\u001b[0m\u001b[0;34m)\u001b[0m\u001b[0;34m\u001b[0m\u001b[0m\n\u001b[0m\u001b[1;32m      2\u001b[0m \u001b[0mframe1\u001b[0m \u001b[0;34m=\u001b[0m \u001b[0mframe1\u001b[0m\u001b[0;34m.\u001b[0m\u001b[0mcopy\u001b[0m\u001b[0;34m(\u001b[0m\u001b[0;34m)\u001b[0m\u001b[0;34m.\u001b[0m\u001b[0mT\u001b[0m\u001b[0;34m\u001b[0m\u001b[0m\n\u001b[1;32m      3\u001b[0m frame1.columns = [first, \n\u001b[1;32m      4\u001b[0m                   \u001b[0msecond\u001b[0m\u001b[0;34m,\u001b[0m\u001b[0;34m\u001b[0m\u001b[0m\n\u001b[1;32m      5\u001b[0m                   third]\n",
      "\u001b[0;31mNameError\u001b[0m: name 'x9' is not defined"
     ]
    }
   ],
   "source": [
    "frame1 = pd.DataFrame(x9)\n",
    "frame1 = frame1.copy().T\n",
    "frame1.columns = [first, \n",
    "                  second, \n",
    "                  third]\n",
    "frame1"
   ]
  },
  {
   "cell_type": "code",
   "execution_count": null,
   "metadata": {},
   "outputs": [],
   "source": [
    "frame1.to_csv('zink_dataset.csv', sep=',', header=True, index=False)"
   ]
  },
  {
   "cell_type": "markdown",
   "metadata": {},
   "source": [
    "# Измерения"
   ]
  },
  {
   "cell_type": "markdown",
   "metadata": {},
   "source": [
    "$\\textbf{Таблица 1.}$ Зависимость индукции магнитного поля от тока через магнит."
   ]
  },
  {
   "cell_type": "code",
   "execution_count": 4,
   "metadata": {},
   "outputs": [],
   "source": [
    "x1 = np.array([[0.15, 0.25, 0.4, 0.55, 0.7, 0.85, 1, 1.15, 1.28], \n",
    "               [174.3, 304.7, 488.4, 665, 812.2, 935.4, 1011.4, 1065.3, 1103.8]])"
   ]
  },
  {
   "cell_type": "markdown",
   "metadata": {},
   "source": [
    "$\\textbf{График 1.}$ Зависимость индукции магнитного поля от тока через магнит.\n",
    "\n",
    "Погрешность магнитометра $\\sigma_B = 0.1$"
   ]
  },
  {
   "cell_type": "code",
   "execution_count": 5,
   "metadata": {},
   "outputs": [],
   "source": [
    "params = ['I', 'B']"
   ]
  },
  {
   "cell_type": "code",
   "execution_count": 6,
   "metadata": {},
   "outputs": [],
   "source": [
    "fr = pd.read_csv('tubs/dataset.csv', header=0, sep=',')"
   ]
  },
  {
   "cell_type": "code",
   "execution_count": 94,
   "metadata": {},
   "outputs": [
    {
     "data": {
      "text/plain": [
       "'make_plot(fr[params[0]],\\n          fr[params[1]], \\n          lab_x=\\'Ток через магнит, А\\', \\n          lab_y=\\'Магнитная индукция, мТл\\',\\n          linear=False,\\n          interpolate_type=\"polynomial_t\",\\n          degree=2)'"
      ]
     },
     "execution_count": 94,
     "metadata": {},
     "output_type": "execute_result"
    }
   ],
   "source": [
    "'''make_plot(fr[params[0]],\n",
    "          fr[params[1]], \n",
    "          lab_x='Ток через магнит, А', \n",
    "          lab_y='Магнитная индукция, мТл',\n",
    "          linear=False,\n",
    "          interpolate_type=\"polynomial_t\",\n",
    "          degree=2)'''"
   ]
  },
  {
   "cell_type": "markdown",
   "metadata": {},
   "source": [
    "$\\textbf{Таблица 2.}$ Зависимость ЭДС Холла от индукции при различных значениях тока через медный образец."
   ]
  },
  {
   "cell_type": "markdown",
   "metadata": {},
   "source": [
    "$I_{обр} = 0.2А$"
   ]
  },
  {
   "cell_type": "code",
   "execution_count": 8,
   "metadata": {},
   "outputs": [],
   "source": [
    "x2 = np.array([[0.2, 0.38, 0.50, 0.7, 0.85, 1.09, 1.26], \n",
    "               [308.5, 457.27, 561.73, 728.16, 851.73, 1053.64, 1195.96],\n",
    "               [3, 9, 12, 15, 18, 21, 23]])"
   ]
  },
  {
   "cell_type": "markdown",
   "metadata": {},
   "source": [
    "$I_{обр} = 0.32А$"
   ]
  },
  {
   "cell_type": "code",
   "execution_count": 9,
   "metadata": {},
   "outputs": [],
   "source": [
    "x3 = np.array([[0.19, 0.36, 0.49, 0.68, 0.84, 1.08, 1.24], \n",
    "               [303.21, 450.11, 552.36, 716.60, 849.15, 1040.48, 1184.19],\n",
    "               [6, 13, 18, 24, 29, 33, 36]])"
   ]
  },
  {
   "cell_type": "markdown",
   "metadata": {},
   "source": [
    "$I_{обр} = 0.45А$"
   ]
  },
  {
   "cell_type": "code",
   "execution_count": 10,
   "metadata": {},
   "outputs": [],
   "source": [
    "x4 = np.array([[0.18, 0.35, 0.48, 0.67, 0.84, 1.07, 1.22], \n",
    "               [287.84, 434.95, 544.99, 704.04, 840.57, 1029.32, 1177.43],\n",
    "               [8, 17, 24, 32, 39, 45, 48]])"
   ]
  },
  {
   "cell_type": "markdown",
   "metadata": {},
   "source": [
    "$I_{обр} = 0.58А$"
   ]
  },
  {
   "cell_type": "code",
   "execution_count": 11,
   "metadata": {},
   "outputs": [],
   "source": [
    "x5 = np.array([[0.16, 0.34, 0.47, 0.65, 0.83, 1.06, 1.21], \n",
    "               [280.47, 423.79, 532.62, 686.49, 837.99, 1023.16, 1166.66],\n",
    "               [11, 21, 30, 41, 50, 57, 61]])"
   ]
  },
  {
   "cell_type": "markdown",
   "metadata": {},
   "source": [
    "$I_{обр} = 0.71А$"
   ]
  },
  {
   "cell_type": "code",
   "execution_count": 12,
   "metadata": {},
   "outputs": [],
   "source": [
    "x6 = np.array([[0.16, 0.33, 0.46, 0.64, 0.83, 1.04, 1.2], \n",
    "               [278.09, 415.62, 528.24, 675.93, 831.40, 1006.99, 1154.89],\n",
    "               [13, 25, 36, 49, 60, 69, 74]])"
   ]
  },
  {
   "cell_type": "markdown",
   "metadata": {},
   "source": [
    "$I_{обр} = 0.84А$"
   ]
  },
  {
   "cell_type": "code",
   "execution_count": 13,
   "metadata": {},
   "outputs": [],
   "source": [
    "x7 = np.array([[0.15, 0.32, 0.45, 0.62, 0.82, 1.03, 1.2], \n",
    "               [263.72, 401.46, 515.87, 662.37, 823.82, 996.83, 1146.13],\n",
    "               [16, 29, 42, 58, 71, 81, 86]])"
   ]
  },
  {
   "cell_type": "markdown",
   "metadata": {},
   "source": [
    "$I_{обр}  = 0.97А$"
   ]
  },
  {
   "cell_type": "code",
   "execution_count": 14,
   "metadata": {},
   "outputs": [],
   "source": [
    "x8 = np.array([[0.14, 0.30, 0.44, 0.61, 0.81, 1.01, 1.19], \n",
    "               [258.35, 392.30, 510.50, 653.81, 819.24, 986.67, 1139.36], \n",
    "               [18, 33, 48, 66, 81, 93, 99]])"
   ]
  },
  {
   "cell_type": "markdown",
   "metadata": {},
   "source": [
    "$\\textbf{График 2.}$ Зависимость ЭДС Холла от индукции при различных значениях тока через медный образец."
   ]
  },
  {
   "cell_type": "markdown",
   "metadata": {},
   "source": [
    "Таблица с параметрами прямых, соответсвующих зависимости ЭДС Холла от магнитной индукции, и погрешностями."
   ]
  },
  {
   "cell_type": "code",
   "execution_count": 15,
   "metadata": {},
   "outputs": [],
   "source": [
    "lines_and_sigms = pd.DataFrame({'b1':[], 'a1':[], 'sig_b1':[], 'sig_a1':[]}) #датафрейм с прямыми"
   ]
  },
  {
   "cell_type": "code",
   "execution_count": 95,
   "metadata": {},
   "outputs": [
    {
     "data": {
      "text/plain": [
       "'make_plot(x2[1],\\n          x2[2],\\n          linear=False,\\n          interpolate_type=\"polynomial_t\",\\n          degree=3,\\n          err_y=0)'"
      ]
     },
     "execution_count": 95,
     "metadata": {},
     "output_type": "execute_result"
    }
   ],
   "source": [
    "'''make_plot(x2[1],\n",
    "          x2[2],\n",
    "          linear=False,\n",
    "          interpolate_type=\"polynomial_t\",\n",
    "          degree=3,\n",
    "          err_y=0)'''"
   ]
  },
  {
   "cell_type": "code",
   "execution_count": 17,
   "metadata": {},
   "outputs": [
    {
     "name": "stdout",
     "output_type": "stream",
     "text": [
      "0.02150183817197492 -1.412109204927562 0.0015657578046523466 0.46475261047795235\n"
     ]
    }
   ],
   "source": [
    "b1, a1, sig_b1, sig_a1 = leastsqr(x2[1], x2[2])\n",
    "# y = bx + a\n",
    "print(b1, a1, sig_b1, sig_a1)"
   ]
  },
  {
   "cell_type": "code",
   "execution_count": 18,
   "metadata": {},
   "outputs": [],
   "source": [
    "new_line = {'b1': b1, 'a1': a1, 'sig_b1': sig_b1, 'sig_a1': sig_a1}\n",
    "lines_and_sigms = lines_and_sigms.append(new_line, ignore_index=True)"
   ]
  },
  {
   "cell_type": "code",
   "execution_count": 96,
   "metadata": {},
   "outputs": [
    {
     "data": {
      "text/plain": [
       "'make_plot(x3[1],\\n          x3[2],\\n          linear=False,\\n          interpolate_type=\"polynomial_t\",\\n          degree=3,\\n          err_y=0)'"
      ]
     },
     "execution_count": 96,
     "metadata": {},
     "output_type": "execute_result"
    }
   ],
   "source": [
    "'''make_plot(x3[1],\n",
    "          x3[2],\n",
    "          linear=False,\n",
    "          interpolate_type=\"polynomial_t\",\n",
    "          degree=3,\n",
    "          err_y=0)'''"
   ]
  },
  {
   "cell_type": "code",
   "execution_count": 20,
   "metadata": {},
   "outputs": [
    {
     "name": "stdout",
     "output_type": "stream",
     "text": [
      "0.03390253706292293 -1.9672455894802177 0.002131135304417715 0.6286354547138409\n"
     ]
    }
   ],
   "source": [
    "b1, a1, sig_b1, sig_a1 = leastsqr(x3[1], x3[2])\n",
    "# y = bx + a\n",
    "print(b1, a1, sig_b1, sig_a1)"
   ]
  },
  {
   "cell_type": "code",
   "execution_count": 21,
   "metadata": {},
   "outputs": [],
   "source": [
    "new_line = {'b1': b1, 'a1': a1, 'sig_b1': sig_b1, 'sig_a1': sig_a1}\n",
    "lines_and_sigms = lines_and_sigms.append(new_line, ignore_index=True)"
   ]
  },
  {
   "cell_type": "code",
   "execution_count": 97,
   "metadata": {},
   "outputs": [
    {
     "data": {
      "text/plain": [
       "'make_plot(x4[1],\\n          x4[2],\\n          linear=False,\\n          interpolate_type=\"polynomial_t\",\\n          degree=3,\\n          err_y=0)'"
      ]
     },
     "execution_count": 97,
     "metadata": {},
     "output_type": "execute_result"
    }
   ],
   "source": [
    "'''make_plot(x4[1],\n",
    "          x4[2],\n",
    "          linear=False,\n",
    "          interpolate_type=\"polynomial_t\",\n",
    "          degree=3,\n",
    "          err_y=0)'''"
   ]
  },
  {
   "cell_type": "code",
   "execution_count": 23,
   "metadata": {},
   "outputs": [
    {
     "name": "stdout",
     "output_type": "stream",
     "text": [
      "0.0456075483779347 -2.2729529093753165 0.002869228571429052 0.8527348274190503\n"
     ]
    }
   ],
   "source": [
    "b1, a1, sig_b1, sig_a1 = leastsqr(x4[1], x4[2])\n",
    "# y = bx + a\n",
    "print(b1, a1, sig_b1, sig_a1)"
   ]
  },
  {
   "cell_type": "code",
   "execution_count": 24,
   "metadata": {},
   "outputs": [],
   "source": [
    "new_line = {'b1': b1, 'a1': a1, 'sig_b1': sig_b1, 'sig_a1': sig_a1}\n",
    "lines_and_sigms = lines_and_sigms.append(new_line, ignore_index=True)"
   ]
  },
  {
   "cell_type": "code",
   "execution_count": 98,
   "metadata": {},
   "outputs": [
    {
     "data": {
      "text/plain": [
       "'make_plot(x5[1],\\n          x5[2],\\n          linear=False,\\n          interpolate_type=\"polynomial_t\",\\n          degree=3,\\n          err_y=0)'"
      ]
     },
     "execution_count": 98,
     "metadata": {},
     "output_type": "execute_result"
    }
   ],
   "source": [
    "'''make_plot(x5[1],\n",
    "          x5[2],\n",
    "          linear=False,\n",
    "          interpolate_type=\"polynomial_t\",\n",
    "          degree=3,\n",
    "          err_y=0)'''"
   ]
  },
  {
   "cell_type": "code",
   "execution_count": 26,
   "metadata": {},
   "outputs": [
    {
     "name": "stdout",
     "output_type": "stream",
     "text": [
      "0.05763733128782491 -2.0532574179504195 0.0036266805668677933 1.0805238584141617\n"
     ]
    }
   ],
   "source": [
    "b1, a1, sig_b1, sig_a1 = leastsqr(x5[1], x5[2])\n",
    "# y = bx + a\n",
    "print(b1, a1, sig_b1, sig_a1)"
   ]
  },
  {
   "cell_type": "code",
   "execution_count": 27,
   "metadata": {},
   "outputs": [],
   "source": [
    "new_line = {'b1': b1, 'a1': a1, 'sig_b1': sig_b1, 'sig_a1': sig_a1}\n",
    "lines_and_sigms = lines_and_sigms.append(new_line, ignore_index=True)"
   ]
  },
  {
   "cell_type": "code",
   "execution_count": 99,
   "metadata": {},
   "outputs": [
    {
     "data": {
      "text/plain": [
       "'make_plot(x6[1],\\n          x6[2],\\n          linear=False,\\n          interpolate_type=\"polynomial_t\",\\n          degree=3,\\n          err_y=0)'"
      ]
     },
     "execution_count": 99,
     "metadata": {},
     "output_type": "execute_result"
    }
   ],
   "source": [
    "'''make_plot(x6[1],\n",
    "          x6[2],\n",
    "          linear=False,\n",
    "          interpolate_type=\"polynomial_t\",\n",
    "          degree=3,\n",
    "          err_y=0)'''"
   ]
  },
  {
   "cell_type": "code",
   "execution_count": 29,
   "metadata": {},
   "outputs": [
    {
     "name": "stdout",
     "output_type": "stream",
     "text": [
      "0.07109634031965124 -3.1062251311236366 0.004216200281456567 1.2419488074259577\n"
     ]
    }
   ],
   "source": [
    "b1, a1, sig_b1, sig_a1 = leastsqr(x6[1], x6[2])\n",
    "# y = bx + a\n",
    "print(b1, a1, sig_b1, sig_a1)"
   ]
  },
  {
   "cell_type": "code",
   "execution_count": 30,
   "metadata": {},
   "outputs": [],
   "source": [
    "new_line = {'b1': b1, 'a1': a1, 'sig_b1': sig_b1, 'sig_a1': sig_a1}\n",
    "lines_and_sigms = lines_and_sigms.append(new_line, ignore_index=True)"
   ]
  },
  {
   "cell_type": "code",
   "execution_count": 100,
   "metadata": {},
   "outputs": [
    {
     "data": {
      "text/plain": [
       "'make_plot(x7[1],\\n          x7[2],\\n          linear=False,\\n          interpolate_type=\"polynomial_t\",\\n          degree=3,\\n          err_y=0)'"
      ]
     },
     "execution_count": 100,
     "metadata": {},
     "output_type": "execute_result"
    }
   ],
   "source": [
    "'''make_plot(x7[1],\n",
    "          x7[2],\n",
    "          linear=False,\n",
    "          interpolate_type=\"polynomial_t\",\n",
    "          degree=3,\n",
    "          err_y=0)'''"
   ]
  },
  {
   "cell_type": "code",
   "execution_count": 32,
   "metadata": {},
   "outputs": [
    {
     "name": "stdout",
     "output_type": "stream",
     "text": [
      "0.0820651983004936 -1.6785738378620465 0.005233941254391631 1.5527710369676195\n"
     ]
    }
   ],
   "source": [
    "b1, a1, sig_b1, sig_a1 = leastsqr(x7[1], x7[2])\n",
    "# y = bx + a\n",
    "print(b1, a1, sig_b1, sig_a1)"
   ]
  },
  {
   "cell_type": "code",
   "execution_count": 33,
   "metadata": {},
   "outputs": [],
   "source": [
    "new_line = {'b1': b1, 'a1': a1, 'sig_b1': sig_b1, 'sig_a1': sig_a1}\n",
    "lines_and_sigms = lines_and_sigms.append(new_line, ignore_index=True)"
   ]
  },
  {
   "cell_type": "code",
   "execution_count": 101,
   "metadata": {},
   "outputs": [
    {
     "data": {
      "text/plain": [
       "'make_plot(x8[1],\\n          x8[2],\\n          linear=False,\\n          interpolate_type=\"polynomial_t\",\\n          degree=3,\\n          err_y=0)'"
      ]
     },
     "execution_count": 101,
     "metadata": {},
     "output_type": "execute_result"
    }
   ],
   "source": [
    "'''make_plot(x8[1],\n",
    "          x8[2],\n",
    "          linear=False,\n",
    "          interpolate_type=\"polynomial_t\",\n",
    "          degree=3,\n",
    "          err_y=0)'''"
   ]
  },
  {
   "cell_type": "code",
   "execution_count": 35,
   "metadata": {},
   "outputs": [
    {
     "name": "stdout",
     "output_type": "stream",
     "text": [
      "0.09490652043264085 -1.9681236798671335 0.00577546798391493 1.7110848899097566\n"
     ]
    }
   ],
   "source": [
    "b1, a1, sig_b1, sig_a1 = leastsqr(x8[1], x8[2])\n",
    "# y = bx + a\n",
    "print(b1, a1, sig_b1, sig_a1)"
   ]
  },
  {
   "cell_type": "code",
   "execution_count": 36,
   "metadata": {},
   "outputs": [],
   "source": [
    "new_line = {'b1': b1, 'a1': a1, 'sig_b1': sig_b1, 'sig_a1': sig_a1}\n",
    "lines_and_sigms = lines_and_sigms.append(new_line, ignore_index=True)"
   ]
  },
  {
   "cell_type": "code",
   "execution_count": 37,
   "metadata": {},
   "outputs": [
    {
     "data": {
      "text/html": [
       "<div>\n",
       "<style scoped>\n",
       "    .dataframe tbody tr th:only-of-type {\n",
       "        vertical-align: middle;\n",
       "    }\n",
       "\n",
       "    .dataframe tbody tr th {\n",
       "        vertical-align: top;\n",
       "    }\n",
       "\n",
       "    .dataframe thead th {\n",
       "        text-align: right;\n",
       "    }\n",
       "</style>\n",
       "<table border=\"1\" class=\"dataframe\">\n",
       "  <thead>\n",
       "    <tr style=\"text-align: right;\">\n",
       "      <th></th>\n",
       "      <th>b1</th>\n",
       "      <th>a1</th>\n",
       "      <th>sig_b1</th>\n",
       "      <th>sig_a1</th>\n",
       "    </tr>\n",
       "  </thead>\n",
       "  <tbody>\n",
       "    <tr>\n",
       "      <th>0</th>\n",
       "      <td>0.021502</td>\n",
       "      <td>-1.412109</td>\n",
       "      <td>0.001566</td>\n",
       "      <td>0.464753</td>\n",
       "    </tr>\n",
       "    <tr>\n",
       "      <th>1</th>\n",
       "      <td>0.033903</td>\n",
       "      <td>-1.967246</td>\n",
       "      <td>0.002131</td>\n",
       "      <td>0.628635</td>\n",
       "    </tr>\n",
       "    <tr>\n",
       "      <th>2</th>\n",
       "      <td>0.045608</td>\n",
       "      <td>-2.272953</td>\n",
       "      <td>0.002869</td>\n",
       "      <td>0.852735</td>\n",
       "    </tr>\n",
       "    <tr>\n",
       "      <th>3</th>\n",
       "      <td>0.057637</td>\n",
       "      <td>-2.053257</td>\n",
       "      <td>0.003627</td>\n",
       "      <td>1.080524</td>\n",
       "    </tr>\n",
       "    <tr>\n",
       "      <th>4</th>\n",
       "      <td>0.071096</td>\n",
       "      <td>-3.106225</td>\n",
       "      <td>0.004216</td>\n",
       "      <td>1.241949</td>\n",
       "    </tr>\n",
       "    <tr>\n",
       "      <th>5</th>\n",
       "      <td>0.082065</td>\n",
       "      <td>-1.678574</td>\n",
       "      <td>0.005234</td>\n",
       "      <td>1.552771</td>\n",
       "    </tr>\n",
       "    <tr>\n",
       "      <th>6</th>\n",
       "      <td>0.094907</td>\n",
       "      <td>-1.968124</td>\n",
       "      <td>0.005775</td>\n",
       "      <td>1.711085</td>\n",
       "    </tr>\n",
       "  </tbody>\n",
       "</table>\n",
       "</div>"
      ],
      "text/plain": [
       "         b1        a1    sig_b1    sig_a1\n",
       "0  0.021502 -1.412109  0.001566  0.464753\n",
       "1  0.033903 -1.967246  0.002131  0.628635\n",
       "2  0.045608 -2.272953  0.002869  0.852735\n",
       "3  0.057637 -2.053257  0.003627  1.080524\n",
       "4  0.071096 -3.106225  0.004216  1.241949\n",
       "5  0.082065 -1.678574  0.005234  1.552771\n",
       "6  0.094907 -1.968124  0.005775  1.711085"
      ]
     },
     "execution_count": 37,
     "metadata": {},
     "output_type": "execute_result"
    }
   ],
   "source": [
    "lines_and_sigms"
   ]
  },
  {
   "cell_type": "code",
   "execution_count": 38,
   "metadata": {},
   "outputs": [],
   "source": [
    "lines_and_sigms.to_csv('lines_and_sigms.csv', sep=',', header=True, index=False)"
   ]
  },
  {
   "cell_type": "markdown",
   "metadata": {},
   "source": [
    "### Зависимость $K = f(I)$"
   ]
  },
  {
   "cell_type": "code",
   "execution_count": 39,
   "metadata": {},
   "outputs": [],
   "source": [
    "params = ['I', 'K']\n",
    "a = 0.05#мм, толщина пластинки"
   ]
  },
  {
   "cell_type": "code",
   "execution_count": 40,
   "metadata": {},
   "outputs": [],
   "source": [
    "x10 = np.array([[0.2, 0.32, 0.45, 0.58, 0.71, 0.84, 0.97],\n",
    "                [0.094907, 0.082065, 0.071096, 0.057637, 0.045608, 0.033903, 0.021502]])"
   ]
  },
  {
   "cell_type": "code",
   "execution_count": 41,
   "metadata": {},
   "outputs": [
    {
     "data": {
      "text/plain": [
       "(<Figure size 864x576 with 1 Axes>,\n",
       " <matplotlib.axes._subplots.AxesSubplot at 0x1a1fbc0f28>)"
      ]
     },
     "execution_count": 41,
     "metadata": {},
     "output_type": "execute_result"
    },
    {
     "data": {
      "image/png": "[encoded data removed]",
      "text/plain": [
       "<Figure size 864x576 with 1 Axes>"
      ]
     },
     "metadata": {},
     "output_type": "display_data"
    }
   ],
   "source": [
    "make_plot(x10[0],\n",
    "          x10[1], \n",
    "          lab_x='Ток через электромагнит, А', \n",
    "          lab_y='Коэффициент наклона графика',\n",
    "          linear=False,\n",
    "          interpolate_type=\"polynomial_t\",\n",
    "          degree=3,\n",
    "          err_y=0)"
   ]
  },
  {
   "cell_type": "code",
   "execution_count": 56,
   "metadata": {},
   "outputs": [
    {
     "name": "stdout",
     "output_type": "stream",
     "text": [
      "-0.09473000859317418 0.11318130499631698 0.0007798097623144063 0.00020109108911656046\n"
     ]
    }
   ],
   "source": [
    "b1, a1, sig_b1, sig_a1 = leastsqr(x10[0], x10[1])\n",
    "# y = bx + a\n",
    "print(b1, a1, sig_b1, sig_a1)"
   ]
  },
  {
   "cell_type": "markdown",
   "metadata": {},
   "source": [
    "Найдем постоянную Холла $R_x$. $R_x = -\\dfrac{\\partial E_x}{\\partial B}\\cdot\\dfrac{a}{I}$. Значение $a = 0.05$ мм. Остальное лежит в x10."
   ]
  },
  {
   "cell_type": "code",
   "execution_count": 92,
   "metadata": {},
   "outputs": [],
   "source": [
    "R = -x10[1]/x10[0]*0.05/1000/1000"
   ]
  },
  {
   "cell_type": "code",
   "execution_count": 93,
   "metadata": {},
   "outputs": [
    {
     "data": {
      "text/plain": [
       "array([-2.37267500e-08, -1.28226563e-08, -7.89955556e-09, -4.96870690e-09,\n",
       "       -3.21183099e-09, -2.01803571e-09, -1.10835052e-09])"
      ]
     },
     "execution_count": 93,
     "metadata": {},
     "output_type": "execute_result"
    }
   ],
   "source": [
    "R#постоянная Холла"
   ]
  },
  {
   "cell_type": "code",
   "execution_count": 91,
   "metadata": {},
   "outputs": [
    {
     "data": {
      "text/plain": [
       "-7.658775538155551e-09"
      ]
     },
     "execution_count": 91,
     "metadata": {},
     "output_type": "execute_result"
    }
   ],
   "source": [
    "R.mean()"
   ]
  },
  {
   "cell_type": "markdown",
   "metadata": {},
   "source": [
    "#### Концентрация носителей заряда в медном проводнике:"
   ]
  },
  {
   "cell_type": "code",
   "execution_count": 102,
   "metadata": {},
   "outputs": [],
   "source": [
    "e = -1.6021766208*(10**(-19))"
   ]
  },
  {
   "cell_type": "code",
   "execution_count": 103,
   "metadata": {},
   "outputs": [],
   "source": [
    "n = 1/R/e"
   ]
  },
  {
   "cell_type": "code",
   "execution_count": 104,
   "metadata": {},
   "outputs": [
    {
     "data": {
      "text/plain": [
       "1.9233695414565388e+27"
      ]
     },
     "execution_count": 104,
     "metadata": {},
     "output_type": "execute_result"
    }
   ],
   "source": [
    "n.mean()#среднее значение"
   ]
  },
  {
   "cell_type": "code",
   "execution_count": 105,
   "metadata": {},
   "outputs": [
    {
     "data": {
      "text/plain": [
       "array([2.63057904e+26, 4.86756332e+26, 7.90108897e+26, 1.25616368e+27,\n",
       "       1.94328691e+27, 3.09286356e+27, 5.63134950e+27])"
      ]
     },
     "execution_count": 105,
     "metadata": {},
     "output_type": "execute_result"
    }
   ],
   "source": [
    "n"
   ]
  },
  {
   "cell_type": "markdown",
   "metadata": {},
   "source": [
    "#### Концентрация носителей заряда в цинковом проводнике:"
   ]
  },
  {
   "cell_type": "code",
   "execution_count": 77,
   "metadata": {},
   "outputs": [],
   "source": [
    "n = 1/(4.57*10**(-9))/e"
   ]
  },
  {
   "cell_type": "code",
   "execution_count": 78,
   "metadata": {},
   "outputs": [
    {
     "data": {
      "text/plain": [
       "-1.365756920324564e+27"
      ]
     },
     "execution_count": 78,
     "metadata": {},
     "output_type": "execute_result"
    }
   ],
   "source": [
    "n"
   ]
  },
  {
   "cell_type": "markdown",
   "metadata": {},
   "source": [
    "$\\textbf{Таблица 3.}$ Зависимость ЭДС Холла от индукции при различных значениях тока через цинковый образец."
   ]
  },
  {
   "cell_type": "code",
   "execution_count": 44,
   "metadata": {},
   "outputs": [],
   "source": [
    "x9 = np.array([[0.15, 0.30, 0.45, 0.59, 0.76, 0.93, 1.10], \n",
    "               [266.72, 392.30, 517.87, 635.07, 777.38, 919.70, 1062.02],\n",
    "               [-12, -24, -39, -51, -63, -72, -78]])"
   ]
  },
  {
   "cell_type": "markdown",
   "metadata": {},
   "source": [
    "$\\textbf{График 3.}$ Зависимость ЭДС Холла от индукции при различных значениях тока через цинковый образец."
   ]
  },
  {
   "cell_type": "code",
   "execution_count": 45,
   "metadata": {},
   "outputs": [],
   "source": [
    "params = ['I', 'B', 'E_x']"
   ]
  },
  {
   "cell_type": "code",
   "execution_count": 46,
   "metadata": {},
   "outputs": [],
   "source": [
    "fr = pd.read_csv('tubs/zink_dataset.csv', header=0, sep=',')"
   ]
  },
  {
   "cell_type": "code",
   "execution_count": 47,
   "metadata": {},
   "outputs": [
    {
     "data": {
      "text/plain": [
       "(<Figure size 864x576 with 1 Axes>,\n",
       " <matplotlib.axes._subplots.AxesSubplot at 0x1a201966d8>)"
      ]
     },
     "execution_count": 47,
     "metadata": {},
     "output_type": "execute_result"
    },
    {
     "data": {
      "image/png": "[encoded data removed]",
      "text/plain": [
       "<Figure size 864x576 with 1 Axes>"
      ]
     },
     "metadata": {},
     "output_type": "display_data"
    }
   ],
   "source": [
    "make_plot(fr[params[1]],\n",
    "          fr[params[2]], \n",
    "          lab_x='Магнитная индукция, мТл', \n",
    "          lab_y='ЭДС Холла, мкВ',\n",
    "          linear=False,\n",
    "          interpolate_type=\"polynomial_t\",\n",
    "          degree=3)\n",
    "          #err_y=0.05*x9[2])"
   ]
  },
  {
   "cell_type": "code",
   "execution_count": 48,
   "metadata": {},
   "outputs": [
    {
     "name": "stdout",
     "output_type": "stream",
     "text": [
      "0.09490652043264085 -1.9681236798671335 0.00577546798391493 1.7110848899097566\n"
     ]
    }
   ],
   "source": [
    "b1, a1, sig_b1, sig_a1 = leastsqr(x8[1], x8[2])\n",
    "# y = bx + a\n",
    "print(b1, a1, sig_b1, sig_a1)"
   ]
  },
  {
   "cell_type": "markdown",
   "metadata": {},
   "source": [
    "$\\textbf{График 4.}$ Серия измерений."
   ]
  },
  {
   "cell_type": "code",
   "execution_count": 49,
   "metadata": {},
   "outputs": [],
   "source": [
    "params = ['I', 'B', 'E_x']"
   ]
  },
  {
   "cell_type": "code",
   "execution_count": 50,
   "metadata": {},
   "outputs": [],
   "source": [
    "fr1 = pd.read_csv('tubs/1_dataset.csv', header=0, sep=',')\n",
    "fr2 = pd.read_csv('tubs/2_dataset.csv', header=0, sep=',')\n",
    "fr3 = pd.read_csv('tubs/3_dataset.csv', header=0, sep=',')\n",
    "fr4 = pd.read_csv('tubs/4_dataset.csv', header=0, sep=',')\n",
    "fr5 = pd.read_csv('tubs/5_dataset.csv', header=0, sep=',')\n",
    "fr6 = pd.read_csv('tubs/6_dataset.csv', header=0, sep=',')\n",
    "fr7 = pd.read_csv('tubs/7_dataset.csv', header=0, sep=',')"
   ]
  },
  {
   "cell_type": "code",
   "execution_count": 51,
   "metadata": {},
   "outputs": [
    {
     "name": "stderr",
     "output_type": "stream",
     "text": [
      "/anaconda3/lib/python3.6/site-packages/sklearn/linear_model/ridge.py:112: LinAlgWarning: scipy.linalg.solve\n",
      "Ill-conditioned matrix detected. Result is not guaranteed to be accurate.\n",
      "Reciprocal condition number4.228945e-35\n",
      "  overwrite_a=True).T\n",
      "/anaconda3/lib/python3.6/site-packages/sklearn/linear_model/ridge.py:112: LinAlgWarning: scipy.linalg.solve\n",
      "Ill-conditioned matrix detected. Result is not guaranteed to be accurate.\n",
      "Reciprocal condition number4.490163e-35\n",
      "  overwrite_a=True).T\n",
      "/anaconda3/lib/python3.6/site-packages/sklearn/linear_model/ridge.py:112: LinAlgWarning: scipy.linalg.solve\n",
      "Ill-conditioned matrix detected. Result is not guaranteed to be accurate.\n",
      "Reciprocal condition number4.644875e-35\n",
      "  overwrite_a=True).T\n",
      "/anaconda3/lib/python3.6/site-packages/sklearn/linear_model/ridge.py:112: LinAlgWarning: scipy.linalg.solve\n",
      "Ill-conditioned matrix detected. Result is not guaranteed to be accurate.\n",
      "Reciprocal condition number4.841272e-35\n",
      "  overwrite_a=True).T\n",
      "/anaconda3/lib/python3.6/site-packages/sklearn/linear_model/ridge.py:112: LinAlgWarning: scipy.linalg.solve\n",
      "Ill-conditioned matrix detected. Result is not guaranteed to be accurate.\n",
      "Reciprocal condition number5.183170e-35\n",
      "  overwrite_a=True).T\n",
      "/anaconda3/lib/python3.6/site-packages/sklearn/linear_model/ridge.py:112: LinAlgWarning: scipy.linalg.solve\n",
      "Ill-conditioned matrix detected. Result is not guaranteed to be accurate.\n",
      "Reciprocal condition number5.396471e-35\n",
      "  overwrite_a=True).T\n",
      "/anaconda3/lib/python3.6/site-packages/sklearn/linear_model/ridge.py:112: LinAlgWarning: scipy.linalg.solve\n",
      "Ill-conditioned matrix detected. Result is not guaranteed to be accurate.\n",
      "Reciprocal condition number5.604920e-35\n",
      "  overwrite_a=True).T\n"
     ]
    },
    {
     "data": {
      "image/png": "[encoded data removed]",
      "text/plain": [
       "<Figure size 864x576 with 1 Axes>"
      ]
     },
     "metadata": {},
     "output_type": "display_data"
    }
   ],
   "source": [
    "X = [fr1[params[1]], fr2[params[1]],\n",
    "     fr3[params[1]], fr4[params[1]],\n",
    "     fr5[params[1]], fr6[params[1]], fr7[params[1]]]\n",
    "Y = [fr1[params[2]], fr2[params[2]],\n",
    "     fr3[params[2]], fr4[params[2]],\n",
    "     fr5[params[2]], fr6[params[2]], fr7[params[2]]]\n",
    "#Err_y = [0.05*x2[2], 0.05*x7[2]]\n",
    "labels = ['I = 0.2 A', 'I = 0.32 A', \n",
    "          'I = 0.45 A', 'I = 0.58 A', \n",
    "          'I = 0.71 A', 'I = 0.84 A', 'I = 0.97 A']\n",
    "import warnings\n",
    "warnings.filterwarnings(action=\"ignore\", module=\"sklearn\",\n",
    "                                    message=\"^internal gelsd\")\n",
    "make_plots(X, Y, x_label='Магнитная индукция, мТл', y_label='ЭДС Холла, мкВ', labels=labels, method='polynomial', degree=3)"
   ]
  },
  {
   "cell_type": "markdown",
   "metadata": {},
   "source": [
    "# Остальное."
   ]
  },
  {
   "cell_type": "code",
   "execution_count": 52,
   "metadata": {},
   "outputs": [],
   "source": [
    "x = np.array([0, 0.2, 0.38, 0.49, 0.7, 0.85])\n",
    "y = np.array([-4, -3, -1, 0, 1, 2])"
   ]
  },
  {
   "cell_type": "code",
   "execution_count": 53,
   "metadata": {},
   "outputs": [],
   "source": [
    "# calc the trendline (it is simply a linear fitting)\n",
    "z = np.polyfit(x, y, 1)\n",
    "p = np.poly1d(z)\n",
    "\n",
    "polyX = np.linspace(x.min(), x.max(), 10)"
   ]
  },
  {
   "cell_type": "code",
   "execution_count": 54,
   "metadata": {},
   "outputs": [
    {
     "name": "stdout",
     "output_type": "stream",
     "text": [
      "y=7.309981x+(-4.025358)\n"
     ]
    },
    {
     "data": {
      "image/png": "[encoded data removed]",
      "text/plain": [
       "<Figure size 432x288 with 1 Axes>"
      ]
     },
     "metadata": {},
     "output_type": "display_data"
    }
   ],
   "source": [
    "# the line equation:\n",
    "print(\"y=%.6fx+(%.6f)\"%(z[0],z[1]))\n",
    "\n",
    "plt.plot(x, y, 'o')\n",
    "plt.plot(x, p(x), \"b\")\n",
    "plt.show()"
   ]
  },
  {
   "cell_type": "code",
   "execution_count": null,
   "metadata": {},
   "outputs": [],
   "source": []
  },
  {
   "cell_type": "code",
   "execution_count": null,
   "metadata": {},
   "outputs": [],
   "source": []
  }
 ],
 "metadata": {
  "kernelspec": {
   "display_name": "Python 3",
   "language": "python",
   "name": "python3"
  },
  "language_info": {
   "codemirror_mode": {
    "name": "ipython",
    "version": 3
   },
   "file_extension": ".py",
   "mimetype": "text/x-python",
   "name": "python",
   "nbconvert_exporter": "python",
   "pygments_lexer": "ipython3",
   "version": "3.6.5"
  }
 },
 "nbformat": 4,
 "nbformat_minor": 2
}
