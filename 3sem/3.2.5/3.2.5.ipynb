{
 "cells": [
  {
   "cell_type": "code",
   "execution_count": 42,
   "metadata": {},
   "outputs": [],
   "source": [
    "%matplotlib inline\n",
    "import numpy as np\n",
    "import matplotlib.pyplot as plt\n",
    "from scipy import interpolate\n",
    "import pandas as pd"
   ]
  },
  {
   "cell_type": "markdown",
   "metadata": {},
   "source": [
    "# Библиотека LabPlot"
   ]
  },
  {
   "cell_type": "code",
   "execution_count": 43,
   "metadata": {},
   "outputs": [],
   "source": [
    "# This Python file uses the following encoding: utf-8\n",
    "# Created by Nikita Balagansky. LabPlot. MIPT."
    "\n",
    "\n",
    "def leastsqr(x, y):\n",
    "    import numpy as np\n",
    "    b = (np.mean(x * y) - np.mean(x) * np.mean(y)) /\\\n",
    "        (np.mean(x * x) - np.mean(x) ** 2)\n",
    "    a = np.mean(y) - b * np.mean(x)\n",
    "    sig_b = np.sqrt(((np.mean(y ** 2) - np.mean(y) ** 2)/((np.mean(x ** 2) - np.mean(x) ** 2)) - b ** 2)/len(x))\n",
    "    sig_a = sig_b * (np.mean(x * x) - np.mean(x) ** 2) ** 0.5\n",
    "    return b, a, sig_b, sig_a\n",
    "\n",
    "\n",
    "def make_plot(x, y, lab_x='', lab_y='', title='', err_y=None, grid=True,\n",
    "                y_scale='linear', interpolate_type='RBF', degree=None,\n",
    "                smooth=True, linear=True, borders=True):\n",
    "    import numpy as np\n",
    "    from matplotlib import pyplot as plt\n",
    "    from scipy.interpolate import Rbf, InterpolatedUnivariateSpline, interpolate, BarycentricInterpolator\n",
    "    from sklearn.pipeline import make_pipeline\n",
    "    from sklearn.preprocessing import PolynomialFeatures\n",
    "    from sklearn.linear_model import TheilSenRegressor, Ridge\n",
    "    left_boarder = min(x) if borders else min(x) - 0.1 * (max(x) - min(x))\n",
    "    right_boarder = max(x) if borders else max(x) + 0.1 * (max(x) - min(x))\n",
    "    x1 = np.linspace(left_boarder, right_boarder, 400)\n",
    "    fig, ax = plt.subplots(figsize=(12, 8))\n",
    "    plt.xlabel(lab_x)\n",
    "    plt.ylabel(lab_y)\n",
    "    plt.grid(grid)\n",
    "    ax.set_yscale(y_scale)\n",
    "    ax.errorbar(x, y, yerr=err_y, color='r', label=u'Данные', fmt='.')\n",
    "    if smooth:\n",
    "        X_plot = x1[:, np.newaxis]\n",
    "        flag_model = False\n",
    "        if interpolate_type == 'RBF':\n",
    "            smth = Rbf(x, y)\n",
    "        elif interpolate_type == 'IUS':\n",
    "            smth = InterpolatedUnivariateSpline(x, y)\n",
    "        elif interpolate_type == 'cubic':\n",
    "            smth = interpolate(x, y, kind='cubic', bc_type='natural')\n",
    "        elif interpolate_type == 'polynomial_r':\n",
    "            X = x[:, np.newaxis]\n",
    "            degree = int(degree)\n",
    "            import warnings\n",
    "            warnings.filterwarnings(action=\"ignore\", module=\"scipy\",\n",
    "                                    message=\"^internal gelsd\")\n",
    "            smth = make_pipeline(PolynomialFeatures(degree),\n",
    "                                 Ridge(alpha=1*10**-16))\n",
    "            smth.fit(X, y)\n",
    "            flag_model = True\n",
    "        elif interpolate_type == 'polynomial_t':\n",
    "            X = x[:, np.newaxis]\n",
    "            degree = int(degree)\n",
    "            import warnings\n",
    "            warnings.filterwarnings(action=\"ignore\", module=\"scipy\",\n",
    "                                    message=\"^internal gelsd\")\n",
    "            smth = make_pipeline(PolynomialFeatures(degree),\n",
    "                                 TheilSenRegressor())\n",
    "            smth.fit(X, y)\n",
    "            flag_model = True\n",
    "        else:\n",
    "            print(\"Invalid interpolate type: You can choose\\\n",
    "                   RBF, IUS, cubic or polynomial\")\n",
    "            return\n",
    "        if flag_model:\n",
    "            y1 = smth.predict(X_plot)\n",
    "        else:\n",
    "            y1 = smth(x1)\n",
    "        plt.plot(x1, y1, color='g', label=u'Сглаживание')\n",
    "    b1, a1, sig_b1, sig_a1 = leastsqr(x, y)\n",
    "    label_ = u'\\nb={}±{}  a={}±{}'.format(np.round(b1, 3), np.round(sig_b1, 3),\n",
    "                                          np.round(a1, 3), np.round(sig_a1, 3))\n",
    "    ax.set_title(title)\n",
    "    if linear:\n",
    "        plt.plot(x1, b1 * x1 + a1, label=u'Линейная апроксимация' + label_)\n",
    "    plt.legend()\n",
    "    return fig, ax\n",
    "\n",
    "\n",
    "def make_plots(x_array, y_array, labels, err_y=0, title='', x_label='',\n",
    "               style='different', y_label='', grid=False, method='cubic',\n",
    "               degree=1):\n",
    "    import numpy as np\n",
    "    from matplotlib import pyplot as plt\n",
    "    from scipy.interpolate import CubicSpline\n",
    "    from sklearn.pipeline import make_pipeline\n",
    "    from sklearn.preprocessing import PolynomialFeatures\n",
    "    from sklearn.linear_model import LinearRegression, Ridge\n",
    "    from matplotlib import cm\n",
    "    fig, ax = plt.subplots(figsize=(12, 8))\n",
    "    if style == 'blue':\n",
    "        colors_points = cm.autumn(np.linspace(0, 1, len(x_array)))\n",
    "        colors_plots = ['b' for i in range(len(x_array))]\n",
    "    if style == 'different':\n",
    "        colors_points = cm.tab10(np.linspace(0, 0.49, len(x_array)))\n",
    "        colors_plots = cm.tab10(np.linspace(0.5, 1, len(x_array)))\n",
    "    \n",
    "    if err_y:\n",
    "        for x, y, c_point, l, c_plot, e_y in zip(x_array, y_array, colors_points,\n",
    "                                        labels, colors_plots, err_y):\n",
    "            x_plot = np.linspace(min(x), max(x), 200)\n",
    "            ax.errorbar(x, y, fmt='o', yerr=e_y, label=l, color=c_point)\n",
    "            plt.legend()\n",
    "            if method == 'cubic':\n",
    "                smth = CubicSpline(x, y)\n",
    "                y_plot = smth(x_plot)\n",
    "            elif method == 'polynomial':\n",
    "                x_pol = x[:, np.newaxis]\n",
    "                degree = int(degree)\n",
    "                import warnings\n",
    "                warnings.filterwarnings(action=\"ignore\", module=\"scipy\",\n",
    "                                        message=\"^internal gelsd\")\n",
    "                smth = make_pipeline(PolynomialFeatures(degree),\n",
    "                                     Ridge(alpha=1*10**-16))\n",
    "                smth.fit(x_pol, y)\n",
    "                y_plot = smth.predict(x_plot[:, np.newaxis])\n",
    "            plt.plot(x_plot, y_plot, color=c_plot)\n",
    "    else:\n",
    "        for x, y, c_point, l, c_plot in zip(x_array, y_array, colors_points,\n",
    "                                        labels, colors_plots):\n",
    "            x_plot = np.linspace(min(x), max(x), 200)\n",
    "            ax.errorbar(x, y, fmt='o', yerr=0, label=l, color=c_point)\n",
    "            plt.legend()\n",
    "            if method == 'cubic':\n",
    "                smth = CubicSpline(x, y)\n",
    "                y_plot = smth(x_plot)\n",
    "            elif method == 'polynomial':\n",
    "                x_pol = x[:, np.newaxis]\n",
    "                degree = int(degree)\n",
    "                import warnings\n",
    "                warnings.filterwarnings(action=\"ignore\", module=\"scipy\",\n",
    "                                        message=\"^internal gelsd\")\n",
    "                smth = make_pipeline(PolynomialFeatures(degree),\n",
    "                                     Ridge(alpha=1*10**-16))\n",
    "                smth.fit(x_pol, y)\n",
    "                y_plot = smth.predict(x_plot[:, np.newaxis])\n",
    "            plt.plot(x_plot, y_plot, color=c_plot)\n",
    "    ax.set_title(title)\n",
    "    plt.grid(grid)\n",
    "    plt.xlabel(x_label)\n",
    "    plt.ylabel(y_label)\n",
    "\n",
    "\n",
    "def interpolate_values(x, y, method='cubic'):\n",
    "    from scipy.interpolate import CubicSpline\n",
    "    import numpy as np\n",
    "    x_interpolated = np.linspace(min(x), max(x), 500)\n",
    "    if method == 'cubic':\n",
    "        smth = CubicSpline(x, y)\n",
    "        y_interpolated = smth(x_interpolated)\n",
    "    return x_interpolated, y_interpolated\n",
    "\n",
    "\n",
    "def find_nearest(array, value):\n",
    "    import numpy as np\n",
    "    array = np.asarray(array)\n",
    "    idx = (np.abs(array - value)).argmin()\n",
    "    return idx\n",
    "\n"
   ]
  },
  {
   "cell_type": "markdown",
   "metadata": {},
   "source": [
    "# Измерения."
   ]
  },
  {
   "cell_type": "code",
   "execution_count": 44,
   "metadata": {},
   "outputs": [],
   "source": [
    "L = float(100 * 10^(-3))"
   ]
  },
  {
   "cell_type": "code",
   "execution_count": 45,
   "metadata": {},
   "outputs": [],
   "source": [
    "C = float(10^(-7))"
   ]
  },
  {
   "cell_type": "code",
   "execution_count": 46,
   "metadata": {},
   "outputs": [
    {
     "ename": "TypeError",
     "evalue": "'float' object is not callable",
     "output_type": "error",
     "traceback": [
      "\u001b[0;31m---------------------------------------------------------------------------\u001b[0m",
      "\u001b[0;31mTypeError\u001b[0m                                 Traceback (most recent call last)",
      "\u001b[0;32m<ipython-input-46-8e0cf8bc5bc2>\u001b[0m in \u001b[0;36m<module>\u001b[0;34m()\u001b[0m\n\u001b[0;32m----> 1\u001b[0;31m \u001b[0mnu\u001b[0m \u001b[0;34m=\u001b[0m \u001b[0;36m1\u001b[0m\u001b[0;34m/\u001b[0m\u001b[0;34m(\u001b[0m\u001b[0;36m2\u001b[0m\u001b[0;34m*\u001b[0m\u001b[0;36m3.14\u001b[0m\u001b[0;34m*\u001b[0m\u001b[0;34m(\u001b[0m\u001b[0mL\u001b[0m\u001b[0;34m*\u001b[0m\u001b[0mC\u001b[0m\u001b[0;34m)\u001b[0m\u001b[0;34m(\u001b[0m\u001b[0;36m0.5\u001b[0m\u001b[0;34m)\u001b[0m\u001b[0;34m)\u001b[0m\u001b[0;34m\u001b[0m\u001b[0m\n\u001b[0m",
      "\u001b[0;31mTypeError\u001b[0m: 'float' object is not callable"
     ]
    }
   ],
   "source": [
    "nu = 1/(2*3.14*(L*C)(0.5))"
   ]
  },
  {
   "cell_type": "code",
   "execution_count": 47,
   "metadata": {},
   "outputs": [],
   "source": [
    "frame1 = pd.DataFrame(x2)\n",
    "frame1 = frame1.copy().T\n",
    "frame1.columns = [params[0],\n",
    "                  params[1]]\n",
    "#frame1"
   ]
  },
  {
   "cell_type": "code",
   "execution_count": 48,
   "metadata": {},
   "outputs": [],
   "source": [
    "frame1.to_csv('2_dataset.csv', sep=',', header=True, index=False)"
   ]
  },
  {
   "cell_type": "markdown",
   "metadata": {},
   "source": [
    "$\\textbf{Таблица 1.}$ Зависимость $U(\\nu)$; $U, B$; $\\nu, \\text{Гц}$"
   ]
  },
  {
   "cell_type": "code",
   "execution_count": 49,
   "metadata": {},
   "outputs": [],
   "source": [
    "params = ['nu','rel']"
   ]
  },
  {
   "cell_type": "code",
   "execution_count": 50,
   "metadata": {},
   "outputs": [],
   "source": [
    "x1 = np.array([[1566, 1578, 1584, 1589, 1595, 1601, 1610, 1616, 1629, 1643,\n",
    "                1556, 1551, 1549, 1542, 1537, 1532, 1524, 1513, 1503],\n",
    "               [1, 0.94, 0.86, 0.78, 0.7, 0.62, 0.54, 0.48, 0.4, 0.32, 0.92,\n",
    "                0.84, 0.8, 0.7, 0.64, 0.58, 0.48, 0.4, 0.32]])"
   ]
  },
  {
   "cell_type": "markdown",
   "metadata": {},
   "source": [
    "$\\textbf{Таблица 2.}$ Зависимость $U(\\nu)$; $U, B$; $\\nu, \\text{Гц}$"
   ]
  },
  {
   "cell_type": "code",
   "execution_count": 70,
   "metadata": {},
   "outputs": [],
   "source": [
    "x2 = np.array([[1568, 1537, 1518, 1505, 1481, 1455, 1446, 1417, 1385, 1355,\n",
    "                1600, 1615, 1635, 1654, 1681, 1713, 1738, 1764, 1819],\n",
    "               [1, 0.94, 0.88, 0.82, 0.72, 0.62, 0.56, 0.5, 0.42,\n",
    "                0.36, 0.98, 0.94, 0.88, 0.82, 0.74, 0.66, 0.6, 0.52, 0.46]])"
   ]
  },
  {
   "cell_type": "markdown",
   "metadata": {},
   "source": [
    "# Графики"
   ]
  },
  {
   "cell_type": "code",
   "execution_count": 52,
   "metadata": {},
   "outputs": [],
   "source": [
    "params = ['nu','rel']"
   ]
  },
  {
   "cell_type": "code",
   "execution_count": 56,
   "metadata": {},
   "outputs": [],
   "source": [
    "fr1 = pd.read_csv('tubs/1_dataset.csv', header=0, sep=',')\n",
    "fr2 = pd.read_csv('tubs/2_dataset.csv', header=0, sep=',')"
   ]
  },
  {
   "cell_type": "code",
   "execution_count": 69,
   "metadata": {},
   "outputs": [
    {
     "data": {
      "text/html": [
       "<div>\n",
       "<style scoped>\n",
       "    .dataframe tbody tr th:only-of-type {\n",
       "        vertical-align: middle;\n",
       "    }\n",
       "\n",
       "    .dataframe tbody tr th {\n",
       "        vertical-align: top;\n",
       "    }\n",
       "\n",
       "    .dataframe thead th {\n",
       "        text-align: right;\n",
       "    }\n",
       "</style>\n",
       "<table border=\"1\" class=\"dataframe\">\n",
       "  <thead>\n",
       "    <tr style=\"text-align: right;\">\n",
       "      <th></th>\n",
       "      <th>nu</th>\n",
       "      <th>rel</th>\n",
       "    </tr>\n",
       "  </thead>\n",
       "  <tbody>\n",
       "    <tr>\n",
       "      <th>0</th>\n",
       "      <td>1566.0</td>\n",
       "      <td>1.00</td>\n",
       "    </tr>\n",
       "    <tr>\n",
       "      <th>1</th>\n",
       "      <td>1578.0</td>\n",
       "      <td>0.94</td>\n",
       "    </tr>\n",
       "    <tr>\n",
       "      <th>2</th>\n",
       "      <td>1584.0</td>\n",
       "      <td>0.86</td>\n",
       "    </tr>\n",
       "    <tr>\n",
       "      <th>3</th>\n",
       "      <td>1589.0</td>\n",
       "      <td>0.78</td>\n",
       "    </tr>\n",
       "    <tr>\n",
       "      <th>4</th>\n",
       "      <td>1595.0</td>\n",
       "      <td>0.70</td>\n",
       "    </tr>\n",
       "    <tr>\n",
       "      <th>5</th>\n",
       "      <td>1601.0</td>\n",
       "      <td>0.62</td>\n",
       "    </tr>\n",
       "    <tr>\n",
       "      <th>6</th>\n",
       "      <td>1610.0</td>\n",
       "      <td>0.54</td>\n",
       "    </tr>\n",
       "    <tr>\n",
       "      <th>7</th>\n",
       "      <td>1616.0</td>\n",
       "      <td>0.48</td>\n",
       "    </tr>\n",
       "    <tr>\n",
       "      <th>8</th>\n",
       "      <td>1629.0</td>\n",
       "      <td>0.40</td>\n",
       "    </tr>\n",
       "    <tr>\n",
       "      <th>9</th>\n",
       "      <td>1643.0</td>\n",
       "      <td>0.32</td>\n",
       "    </tr>\n",
       "    <tr>\n",
       "      <th>10</th>\n",
       "      <td>1556.0</td>\n",
       "      <td>0.92</td>\n",
       "    </tr>\n",
       "    <tr>\n",
       "      <th>11</th>\n",
       "      <td>1551.0</td>\n",
       "      <td>0.84</td>\n",
       "    </tr>\n",
       "    <tr>\n",
       "      <th>12</th>\n",
       "      <td>1549.0</td>\n",
       "      <td>0.80</td>\n",
       "    </tr>\n",
       "    <tr>\n",
       "      <th>13</th>\n",
       "      <td>1542.0</td>\n",
       "      <td>0.70</td>\n",
       "    </tr>\n",
       "    <tr>\n",
       "      <th>14</th>\n",
       "      <td>1537.0</td>\n",
       "      <td>0.64</td>\n",
       "    </tr>\n",
       "    <tr>\n",
       "      <th>15</th>\n",
       "      <td>1532.0</td>\n",
       "      <td>0.58</td>\n",
       "    </tr>\n",
       "    <tr>\n",
       "      <th>16</th>\n",
       "      <td>1524.0</td>\n",
       "      <td>0.48</td>\n",
       "    </tr>\n",
       "    <tr>\n",
       "      <th>17</th>\n",
       "      <td>1513.0</td>\n",
       "      <td>0.40</td>\n",
       "    </tr>\n",
       "    <tr>\n",
       "      <th>18</th>\n",
       "      <td>1503.0</td>\n",
       "      <td>0.32</td>\n",
       "    </tr>\n",
       "  </tbody>\n",
       "</table>\n",
       "</div>"
      ],
      "text/plain": [
       "        nu   rel\n",
       "0   1566.0  1.00\n",
       "1   1578.0  0.94\n",
       "2   1584.0  0.86\n",
       "3   1589.0  0.78\n",
       "4   1595.0  0.70\n",
       "5   1601.0  0.62\n",
       "6   1610.0  0.54\n",
       "7   1616.0  0.48\n",
       "8   1629.0  0.40\n",
       "9   1643.0  0.32\n",
       "10  1556.0  0.92\n",
       "11  1551.0  0.84\n",
       "12  1549.0  0.80\n",
       "13  1542.0  0.70\n",
       "14  1537.0  0.64\n",
       "15  1532.0  0.58\n",
       "16  1524.0  0.48\n",
       "17  1513.0  0.40\n",
       "18  1503.0  0.32"
      ]
     },
     "execution_count": 69,
     "metadata": {},
     "output_type": "execute_result"
    }
   ],
   "source": [
    "fr1"
   ]
  },
  {
   "cell_type": "code",
   "execution_count": 60,
   "metadata": {},
   "outputs": [
    {
     "data": {
      "image/png": "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\n",
      "text/plain": [
       "<Figure size 432x288 with 1 Axes>"
      ]
     },
     "metadata": {},
     "output_type": "display_data"
    }
   ],
   "source": [
    "plt.plot(fr1['nu'], fr1['rel'], 'o', fr1['nu'], fr1['rel'], '-')\n",
    "plt.show()"
   ]
  },
  {
   "cell_type": "code",
   "execution_count": 68,
   "metadata": {},
   "outputs": [
    {
     "data": {
      "text/plain": [
       "(<Figure size 864x576 with 1 Axes>,\n",
       " <matplotlib.axes._subplots.AxesSubplot at 0x1111c6198>)"
      ]
     },
     "execution_count": 68,
     "metadata": {},
     "output_type": "execute_result"
    },
    {
     "data": {
      "image/png": "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\n",
      "text/plain": [
       "<Figure size 864x576 with 1 Axes>"
      ]
     },
     "metadata": {},
     "output_type": "display_data"
    }
   ],
   "source": [
    "make_plot(fr1[params[0]],\n",
    "          fr1[params[1]],\n",
    "          linear=False,\n",
    "          interpolate_type=\"polynomial_r\",\n",
    "          degree=6)"
   ]
  },
  {
   "cell_type": "code",
   "execution_count": 71,
   "metadata": {},
   "outputs": [
    {
     "data": {
      "text/plain": [
       "(<Figure size 864x576 with 1 Axes>,\n",
       " <matplotlib.axes._subplots.AxesSubplot at 0x10cd8e0f0>)"
      ]
     },
     "execution_count": 71,
     "metadata": {},
     "output_type": "execute_result"
    },
    {
     "data": {
      "image/png": "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\n",
      "text/plain": [
       "<Figure size 864x576 with 1 Axes>"
      ]
     },
     "metadata": {},
     "output_type": "display_data"
    }
   ],
   "source": [
    "make_plot(fr2[params[0]],\n",
    "          fr2[params[1]],\n",
    "          linear=False,\n",
    "          interpolate_type=\"polynomial_t\",\n",
    "          degree=8)"
   ]
  },
  {
   "cell_type": "code",
   "execution_count": null,
   "metadata": {},
   "outputs": [],
   "source": []
  }
 ],
 "metadata": {
  "kernelspec": {
   "display_name": "Python 3",
   "language": "python",
   "name": "python3"
  },
  "language_info": {
   "codemirror_mode": {
    "name": "ipython",
    "version": 3
   },
   "file_extension": ".py",
   "mimetype": "text/x-python",
   "name": "python",
   "nbconvert_exporter": "python",
   "pygments_lexer": "ipython3",
   "version": "3.6.5"
  }
 },
 "nbformat": 4,
 "nbformat_minor": 2
}
