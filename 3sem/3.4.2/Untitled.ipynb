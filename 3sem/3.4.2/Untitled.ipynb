{
 "cells": [
  {
   "cell_type": "code",
   "execution_count": 256,
   "metadata": {},
   "outputs": [],
   "source": [
    "import numpy as np"
   ]
  },
  {
   "cell_type": "code",
   "execution_count": 257,
   "metadata": {},
   "outputs": [],
   "source": [
    "# LabPlt created by Nikita Balagansky. MIPT.\n",
    "# https://github.com/PUSSYMIPT/labplot\n",
    "# This Python file uses the following encoding: utf-8\n",
    "\n",
    "def leastsqr(x, y):\n",
    "    import numpy as np\n",
    "    b = (np.mean(x * y) - np.mean(x) * np.mean(y)) /\\\n",
    "        (np.mean(x * x) - np.mean(x) ** 2)\n",
    "    a = np.mean(y) - b * np.mean(x)\n",
    "    sig_b = np.sqrt(((np.mean(y ** 2) - np.mean(y) ** 2)/((np.mean(x ** 2) - np.mean(x) ** 2)) - b ** 2)/len(x))\n",
    "    sig_a = sig_b * (np.mean(x * x) - np.mean(x) ** 2) ** 0.5\n",
    "    return b, a, sig_b, sig_a\n",
    "\n",
    "\n",
    "def make_plot(x, y, lab_x='', lab_y='', title='', err_y=None, grid=True,\n",
    "                y_scale='linear', interpolate_type='RBF', degree=None,\n",
    "                smooth=True, linear=True, borders=True):\n",
    "    import numpy as np\n",
    "    from matplotlib import pyplot as plt\n",
    "    from scipy.interpolate import Rbf, InterpolatedUnivariateSpline, interpolate, BarycentricInterpolator\n",
    "    from sklearn.pipeline import make_pipeline\n",
    "    from sklearn.preprocessing import PolynomialFeatures\n",
    "    from sklearn.linear_model import TheilSenRegressor, Ridge\n",
    "    left_boarder = min(x) if borders else min(x) - 0.1 * (max(x) - min(x))\n",
    "    right_boarder = max(x) if borders else max(x) + 0.1 * (max(x) - min(x))\n",
    "    x1 = np.linspace(left_boarder, right_boarder, 400)\n",
    "    fig, ax = plt.subplots(figsize=(12, 8))\n",
    "    plt.xlabel(lab_x)\n",
    "    plt.ylabel(lab_y)\n",
    "    plt.grid(grid)\n",
    "    ax.set_yscale(y_scale)\n",
    "    ax.errorbar(x, y, yerr=err_y, color='r', label=u'Данные', fmt='.')\n",
    "    if smooth:\n",
    "        X_plot = x1[:, np.newaxis]\n",
    "        flag_model = False\n",
    "        if interpolate_type == 'RBF':\n",
    "            smth = Rbf(x, y)\n",
    "        elif interpolate_type == 'IUS':\n",
    "            smth = InterpolatedUnivariateSpline(x, y)\n",
    "        elif interpolate_type == 'cubic':\n",
    "            smth = interpolate(x, y, kind='cubic', bc_type='natural')\n",
    "        elif interpolate_type == 'polynomial_r':\n",
    "            X = x[:, np.newaxis]\n",
    "            degree = int(degree)\n",
    "            import warnings\n",
    "            warnings.filterwarnings(action=\"ignore\", module=\"scipy\",\n",
    "                                    message=\"^internal gelsd\")\n",
    "            smth = make_pipeline(PolynomialFeatures(degree),\n",
    "                                 Ridge(alpha=1*10**-16))\n",
    "            smth.fit(X, y)\n",
    "            flag_model = True\n",
    "        elif interpolate_type == 'polynomial_t':\n",
    "            X = x[:, np.newaxis]\n",
    "            degree = int(degree)\n",
    "            import warnings\n",
    "            warnings.filterwarnings(action=\"ignore\", module=\"scipy\",\n",
    "                                    message=\"^internal gelsd\")\n",
    "            smth = make_pipeline(PolynomialFeatures(degree),\n",
    "                                 TheilSenRegressor())\n",
    "            smth.fit(X, y)\n",
    "            flag_model = True\n",
    "        else:\n",
    "            print(\"Invalid interpolate type: You can choose\\\n",
    "                   RBF, IUS, cubic or polynomial\")\n",
    "            return\n",
    "        if flag_model:\n",
    "            y1 = smth.predict(X_plot)\n",
    "        else:\n",
    "            y1 = smth(x1)\n",
    "        plt.plot(x1, y1, color='g', label=u'Сглаживание')\n",
    "    b1, a1, sig_b1, sig_a1 = leastsqr(x, y)\n",
    "    label_ = u'\\nb={}±{}  a={}±{}'.format(np.round(b1, 3), np.round(sig_b1, 3),\n",
    "                                          np.round(a1, 3), np.round(sig_a1, 3))\n",
    "    ax.set_title(title)\n",
    "    if linear:\n",
    "        plt.plot(x1, b1 * x1 + a1, label=u'Линейная апроксимация' + label_)\n",
    "    plt.legend()\n",
    "    return fig, ax\n",
    "\n",
    "\n",
    "def make_plots(x_array, y_array, labels, err_y=0, title='', x_label='',\n",
    "               style='different', y_label='', grid=False, method='cubic',\n",
    "               degree=1):\n",
    "    import numpy as np\n",
    "    from matplotlib import pyplot as plt\n",
    "    from scipy.interpolate import CubicSpline\n",
    "    from sklearn.pipeline import make_pipeline\n",
    "    from sklearn.preprocessing import PolynomialFeatures\n",
    "    from sklearn.linear_model import LinearRegression, Ridge\n",
    "    from matplotlib import cm\n",
    "    fig, ax = plt.subplots(figsize=(12, 8))\n",
    "    if style == 'blue':\n",
    "        colors_points = cm.autumn(np.linspace(0, 1, len(x_array)))\n",
    "        colors_plots = ['b' for i in range(len(x_array))]\n",
    "    if style == 'different':\n",
    "        colors_points = cm.tab10(np.linspace(0, 0.49, len(x_array)))\n",
    "        colors_plots = cm.tab10(np.linspace(0.5, 1, len(x_array)))\n",
    "    \n",
    "    if err_y:\n",
    "        for x, y, c_point, l, c_plot, e_y in zip(x_array, y_array, colors_points,\n",
    "                                        labels, colors_plots, err_y):\n",
    "            x_plot = np.linspace(min(x), max(x), 200)\n",
    "            ax.errorbar(x, y, fmt='o', yerr=e_y, label=l, color=c_point)\n",
    "            plt.legend()\n",
    "            if method == 'cubic':\n",
    "                smth = CubicSpline(x, y)\n",
    "                y_plot = smth(x_plot)\n",
    "            elif method == 'polynomial':\n",
    "                x_pol = x[:, np.newaxis]\n",
    "                degree = int(degree)\n",
    "                import warnings\n",
    "                warnings.filterwarnings(action=\"ignore\", module=\"scipy\",\n",
    "                                        message=\"^internal gelsd\")\n",
    "                smth = make_pipeline(PolynomialFeatures(degree),\n",
    "                                     Ridge(alpha=1*10**-16))\n",
    "                smth.fit(x_pol, y)\n",
    "                y_plot = smth.predict(x_plot[:, np.newaxis])\n",
    "            plt.plot(x_plot, y_plot, color=c_plot)\n",
    "    else:\n",
    "        for x, y, c_point, l, c_plot in zip(x_array, y_array, colors_points,\n",
    "                                        labels, colors_plots):\n",
    "            x_plot = np.linspace(min(x), max(x), 200)\n",
    "            ax.errorbar(x, y, fmt='o', yerr=0, label=l, color=c_point)\n",
    "            plt.legend()\n",
    "            if method == 'cubic':\n",
    "                smth = CubicSpline(x, y)\n",
    "                y_plot = smth(x_plot)\n",
    "            elif method == 'polynomial':\n",
    "                x_pol = x[:, np.newaxis]\n",
    "                degree = int(degree)\n",
    "                import warnings\n",
    "                warnings.filterwarnings(action=\"ignore\", module=\"scipy\",\n",
    "                                        message=\"^internal gelsd\")\n",
    "                smth = make_pipeline(PolynomialFeatures(degree),\n",
    "                                     Ridge(alpha=1*10**-16))\n",
    "                smth.fit(x_pol, y)\n",
    "                y_plot = smth.predict(x_plot[:, np.newaxis])\n",
    "            plt.plot(x_plot, y_plot, color=c_plot)\n",
    "    ax.set_title(title)\n",
    "    plt.grid(grid)\n",
    "    plt.xlabel(x_label)\n",
    "    plt.ylabel(y_label)\n",
    "\n",
    "\n",
    "def interpolate_values(x, y, method='cubic'):\n",
    "    from scipy.interpolate import CubicSpline\n",
    "    import numpy as np\n",
    "    x_interpolated = np.linspace(min(x), max(x), 500)\n",
    "    if method == 'cubic':\n",
    "        smth = CubicSpline(x, y)\n",
    "        y_interpolated = smth(x_interpolated)\n",
    "    return x_interpolated, y_interpolated\n",
    "\n",
    "\n",
    "def find_nearest(array, value):\n",
    "    import numpy as np\n",
    "    array = np.asarray(array)\n",
    "    idx = (np.abs(array - value)).argmin()\n",
    "    return idx\n"
   ]
  },
  {
   "cell_type": "markdown",
   "metadata": {},
   "source": [
    "Параметры установки."
   ]
  },
  {
   "cell_type": "code",
   "execution_count": 258,
   "metadata": {},
   "outputs": [],
   "source": [
    "t_0 = 9.045\n",
    "k = 24"
   ]
  },
  {
   "cell_type": "markdown",
   "metadata": {},
   "source": [
    "Таблица 1."
   ]
  },
  {
   "cell_type": "code",
   "execution_count": 259,
   "metadata": {},
   "outputs": [],
   "source": [
    "x1_params = ['T','мкс','мВ']"
   ]
  },
  {
   "cell_type": "code",
   "execution_count": 260,
   "metadata": {},
   "outputs": [],
   "source": [
    "x1 = np.array([[14.4, 16.12, 18.09, 20, 22.02, 24.02, 26, 28.6, 30.01, 32, 34, 36, 38, 40], \n",
    "              [10.77, 10.66, 10.49, 10.31, 9.96, 9.59, 9.43, 9.33, 9.28, 9.25, 9.22, 9.20, 9.19, 9.17], \n",
    "              [-0.0035, -0.0033, -0.0056, -0.0141, -0.013, -0.014, -0.016, -0.014, -0.015, -0.016, -0.018, -0.018, -0.018, -0.017]])"
   ]
  },
  {
   "cell_type": "markdown",
   "metadata": {},
   "source": [
    "Таблица 2."
   ]
  },
  {
   "cell_type": "code",
   "execution_count": 261,
   "metadata": {},
   "outputs": [],
   "source": [
    "x2_params = ['T\"','мкс','мВ']"
   ]
  },
  {
   "cell_type": "code",
   "execution_count": 262,
   "metadata": {},
   "outputs": [],
   "source": [
    "temp = x1[0] + x1[2] * k\n",
    "x2 = np.array([temp, x1[1], x1[2]])"
   ]
  },
  {
   "cell_type": "code",
   "execution_count": 263,
   "metadata": {},
   "outputs": [
    {
     "name": "stdout",
     "output_type": "stream",
     "text": [
      "[[ 1.43160e+01  1.60408e+01  1.79556e+01  1.96616e+01  2.17080e+01\n",
      "   2.36840e+01  2.56160e+01  2.82640e+01  2.96500e+01  3.16160e+01\n",
      "   3.35680e+01  3.55680e+01  3.75680e+01  3.95920e+01]\n",
      " [ 1.07700e+01  1.06600e+01  1.04900e+01  1.03100e+01  9.96000e+00\n",
      "   9.59000e+00  9.43000e+00  9.33000e+00  9.28000e+00  9.25000e+00\n",
      "   9.22000e+00  9.20000e+00  9.19000e+00  9.17000e+00]\n",
      " [-3.50000e-03 -3.30000e-03 -5.60000e-03 -1.41000e-02 -1.30000e-02\n",
      "  -1.40000e-02 -1.60000e-02 -1.40000e-02 -1.50000e-02 -1.60000e-02\n",
      "  -1.80000e-02 -1.80000e-02 -1.80000e-02 -1.70000e-02]]\n"
     ]
    }
   ],
   "source": [
    "print(x2)"
   ]
  },
  {
   "cell_type": "code",
   "execution_count": 264,
   "metadata": {},
   "outputs": [
    {
     "name": "stdout",
     "output_type": "stream",
     "text": [
      "[14.316  16.0408 17.9556 19.6616 21.708  23.684  25.616  28.264  29.65\n",
      " 31.616  33.568  35.568  37.568  39.592 ]\n"
     ]
    }
   ],
   "source": [
    "print(x2[0])"
   ]
  },
  {
   "cell_type": "markdown",
   "metadata": {},
   "source": [
    "Погрешность вольтметра: 12 единиц младшего разряда\n",
    "Постоянная термопары: 14 град/мВ"
   ]
  },
  {
   "cell_type": "code",
   "execution_count": 265,
   "metadata": {},
   "outputs": [],
   "source": [
    "import matplotlib.pyplot as plt"
   ]
  },
  {
   "cell_type": "markdown",
   "metadata": {},
   "source": [
    "График 1."
   ]
  },
  {
   "cell_type": "code",
   "execution_count": 266,
   "metadata": {},
   "outputs": [],
   "source": [
    "newx = np.array([(i**2 - t_0**2) for i in x2[1]])"
   ]
  },
  {
   "cell_type": "code",
   "execution_count": 267,
   "metadata": {},
   "outputs": [
    {
     "name": "stdout",
     "output_type": "stream",
     "text": [
      "Populating the interactive namespace from numpy and matplotlib\n"
     ]
    },
    {
     "data": {
      "image/png": "[encoded data removed]",
      "text/plain": [
       "<Figure size 1080x648 with 1 Axes>"
      ]
     },
     "metadata": {},
     "output_type": "display_data"
    }
   ],
   "source": [
    "%pylab inline\n",
    "fig0 = plt.figure(figsize=(15,9))\n",
    "plt.plot(x2[0], newx)\n",
    "plt.grid(True)\n",
    "plt.xlabel('Температура, C', fontsize=14)\n",
    "plt.ylabel('t^2 - t_0^2, мкс^2', fontsize=14)\n",
    "plt.show()"
   ]
  },
  {
   "cell_type": "markdown",
   "metadata": {},
   "source": [
    "График 2."
   ]
  },
  {
   "cell_type": "code",
   "execution_count": 268,
   "metadata": {},
   "outputs": [],
   "source": [
    "newx = np.array([1/(i**2 - t_0**2) for i in x2[1]])"
   ]
  },
  {
   "cell_type": "code",
   "execution_count": 269,
   "metadata": {},
   "outputs": [
    {
     "data": {
      "image/png": "[encoded data removed]",
      "text/plain": [
       "<Figure size 432x288 with 1 Axes>"
      ]
     },
     "metadata": {},
     "output_type": "display_data"
    }
   ],
   "source": [
    "plt.plot(x2[0], newx, '+')\n",
    "plt.grid(True)\n",
    "plt.xlabel('Температура', fontsize=14)\n",
    "plt.ylabel('t^2 - t_0^2', fontsize=14)\n",
    "plt.show()"
   ]
  },
  {
   "cell_type": "code",
   "execution_count": 270,
   "metadata": {},
   "outputs": [
    {
     "data": {
      "image/png": "[encoded data removed]",
      "text/plain": [
       "<Figure size 432x288 with 1 Axes>"
      ]
     },
     "metadata": {},
     "output_type": "display_data"
    }
   ],
   "source": [
    "plt.plot(x2[0][:4], newx[:4], 'v')\n",
    "plt.plot(x2[0][4:], newx[4:], 's')\n",
    "plt.grid(grid)\n",
    "plt.xlabel('Температура', fontsize=14)\n",
    "plt.ylabel('1/(t^2 - t_0^2)', fontsize=14)\n",
    "plt.show()"
   ]
  },
  {
   "cell_type": "code",
   "execution_count": 290,
   "metadata": {},
   "outputs": [
    {
     "name": "stdout",
     "output_type": "stream",
     "text": [
      "Populating the interactive namespace from numpy and matplotlib\n"
     ]
    },
    {
     "data": {
      "text/plain": [
       "(0, 0.45)"
      ]
     },
     "execution_count": 290,
     "metadata": {},
     "output_type": "execute_result"
    },
    {
     "data": {
      "image/png": "[encoded data removed]",
      "text/plain": [
       "<Figure size 1080x648 with 1 Axes>"
      ]
     },
     "metadata": {},
     "output_type": "display_data"
    }
   ],
   "source": [
    "X = [x2[0][4:], x2[0][:4]]\n",
    "Y = [newx[4:], newx[:4]]\n",
    "\n",
    "labels = ['', '']\n",
    "\n",
    "from matplotlib import pyplot as plt\n",
    "%pylab inline\n",
    "fig0 = plt.figure(figsize=(15,9))\n",
    "i = 0\n",
    "for x, y in zip(X, Y):\n",
    "    b, a, sigb, siga = leastsqr(x,y)\n",
    "    plt.scatter(x,y)\n",
    "    if i:\n",
    "        x = np.append(x, 21.5)\n",
    "    else:\n",
    "        x = np.append(x, 15)\n",
    "    plt.grid(True)\n",
    "    plt.xlabel('Температура, C', fontsize=14)\n",
    "    plt.ylabel('1/(t^2 - t_0^2), 1/мкс^2', fontsize=14)    \n",
    "    plt.plot(x, x*b + a)\n",
    "    x = x[:-1]\n",
    "    i += 1\n",
    "\n",
    "plt.ylim((0, 0.45))\n",
    "\n",
    "#make_plots(X, Y, x_label='Температура, C', y_label='1/(t^2 - t_0^2), 1/мкс', labels=labels, method='polynomial', degree=1)"
   ]
  },
  {
   "cell_type": "markdown",
   "metadata": {},
   "source": [
    "Уравнение синей (слева) прямой:"
   ]
  },
  {
   "cell_type": "code",
   "execution_count": 277,
   "metadata": {},
   "outputs": [
    {
     "name": "stdout",
     "output_type": "stream",
     "text": [
      "0.0021577865661618015 -0.0024313534581420423 0.00020525595558378566 0.00041206171568361954\n"
     ]
    }
   ],
   "source": [
    "b1, a1, sig_b1, sig_a1 = leastsqr(x2[0][:4], newx[:4])\n",
    "# y = bx + a\n",
    "print(b1, a1, sig_b1, sig_a1)"
   ]
  },
  {
   "cell_type": "markdown",
   "metadata": {},
   "source": [
    "Уравнение коричневой (справа) прямой:"
   ]
  },
  {
   "cell_type": "code",
   "execution_count": 278,
   "metadata": {},
   "outputs": [
    {
     "name": "stdout",
     "output_type": "stream",
     "text": [
      "0.021043228746893544 -0.3986551751180013 0.00031880306615169576 0.0018089376150399372\n"
     ]
    }
   ],
   "source": [
    "b1, a1, sig_b1, sig_a1 = leastsqr(x2[0][4:], newx[4:])\n",
    "# y = bx + a\n",
    "print(b1, a1, sig_b1, sig_a1)"
   ]
  },
  {
   "cell_type": "markdown",
   "metadata": {},
   "source": [
    "Точка пересечения с Ох: 0 = 0.021x -0.399"
   ]
  },
  {
   "cell_type": "code",
   "execution_count": 285,
   "metadata": {},
   "outputs": [],
   "source": [
    "x = 0.3986551751180013/0.021043228746893544"
   ]
  },
  {
   "cell_type": "code",
   "execution_count": 286,
   "metadata": {},
   "outputs": [
    {
     "data": {
      "text/plain": [
       "18.944582122496378"
      ]
     },
     "execution_count": 286,
     "metadata": {},
     "output_type": "execute_result"
    }
   ],
   "source": [
    "x"
   ]
  },
  {
   "cell_type": "code",
   "execution_count": 287,
   "metadata": {},
   "outputs": [
    {
     "data": {
      "text/plain": [
       "1.837895807710546"
      ]
     },
     "execution_count": 287,
     "metadata": {},
     "output_type": "execute_result"
    }
   ],
   "source": [
    "(0.319**2 + 1.81**2)**0.5"
   ]
  },
  {
   "cell_type": "code",
   "execution_count": 288,
   "metadata": {},
   "outputs": [
    {
     "data": {
      "text/plain": [
       "0.09682539682539684"
      ]
     },
     "execution_count": 288,
     "metadata": {},
     "output_type": "execute_result"
    }
   ],
   "source": [
    "1.83/18.9"
   ]
  },
  {
   "cell_type": "code",
   "execution_count": null,
   "metadata": {},
   "outputs": [],
   "source": []
  }
 ],
 "metadata": {
  "kernelspec": {
   "display_name": "Python 3",
   "language": "python",
   "name": "python3"
  },
  "language_info": {
   "codemirror_mode": {
    "name": "ipython",
    "version": 3
   },
   "file_extension": ".py",
   "mimetype": "text/x-python",
   "name": "python",
   "nbconvert_exporter": "python",
   "pygments_lexer": "ipython3",
   "version": "3.6.5"
  }
 },
 "nbformat": 4,
 "nbformat_minor": 2
}
