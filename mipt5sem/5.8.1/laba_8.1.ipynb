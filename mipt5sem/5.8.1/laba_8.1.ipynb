{
 "cells": [
  {
   "cell_type": "code",
   "execution_count": 80,
   "metadata": {
    "ExecuteTime": {
     "end_time": "2019-09-06T12:08:13.766711Z",
     "start_time": "2019-09-06T12:08:13.759625Z"
    },
    "hide_input": false,
    "run_control": {
     "marked": false
    }
   },
   "outputs": [],
   "source": [
    "import numpy as np\n",
    "import pandas as pd\n",
    "from plotly import graph_objects as go\n"
   ]
  },
  {
   "cell_type": "code",
   "execution_count": 5,
   "metadata": {
    "ExecuteTime": {
     "end_time": "2019-09-06T08:43:35.432003Z",
     "start_time": "2019-09-06T08:43:35.421615Z"
    }
   },
   "outputs": [],
   "source": [
    "def leastsqr(x, y):\n",
    "    b = (np.mean(x * y) - np.mean(x) * np.mean(y)) /\\\n",
    "        (np.mean(x * x) - np.mean(x) ** 2)\n",
    "    a = np.mean(y) - b * np.mean(x)\n",
    "    sig_b = np.sqrt(((np.mean(y ** 2) - np.mean(y) ** 2) /\n",
    "                    ((np.mean(x ** 2) - np.mean(x) ** 2)) - b ** 2)/len(x))\n",
    "    sig_a = sig_b * (np.mean(x * x) - np.mean(x) ** 2) ** 0.5\n",
    "    return b, a, sig_b, sig_a\n",
    "\n"
   ]
  },
  {
   "cell_type": "markdown",
   "metadata": {},
   "source": [
    "# Результаты измерений"
   ]
  },
  {
   "cell_type": "code",
   "execution_count": 83,
   "metadata": {
    "ExecuteTime": {
     "end_time": "2019-09-06T12:10:24.242109Z",
     "start_time": "2019-09-06T12:10:24.218513Z"
    }
   },
   "outputs": [
    {
     "data": {
      "text/html": [
       "<div>\n",
       "<style scoped>\n",
       "    .dataframe tbody tr th:only-of-type {\n",
       "        vertical-align: middle;\n",
       "    }\n",
       "\n",
       "    .dataframe tbody tr th {\n",
       "        vertical-align: top;\n",
       "    }\n",
       "\n",
       "    .dataframe thead th {\n",
       "        text-align: right;\n",
       "    }\n",
       "</style>\n",
       "<table border=\"1\" class=\"dataframe\">\n",
       "  <thead>\n",
       "    <tr style=\"text-align: right;\">\n",
       "      <th></th>\n",
       "      <th>Напряжение на нити (В)</th>\n",
       "      <th>Сила тока на нити (А)</th>\n",
       "      <th>Температура (°C)</th>\n",
       "    </tr>\n",
       "  </thead>\n",
       "  <tbody>\n",
       "    <tr>\n",
       "      <th>0</th>\n",
       "      <td>0.596</td>\n",
       "      <td>2.470</td>\n",
       "      <td>1090.0</td>\n",
       "    </tr>\n",
       "    <tr>\n",
       "      <th>1</th>\n",
       "      <td>0.641</td>\n",
       "      <td>2.935</td>\n",
       "      <td>1150.0</td>\n",
       "    </tr>\n",
       "    <tr>\n",
       "      <th>2</th>\n",
       "      <td>0.668</td>\n",
       "      <td>3.222</td>\n",
       "      <td>1250.0</td>\n",
       "    </tr>\n",
       "    <tr>\n",
       "      <th>3</th>\n",
       "      <td>0.673</td>\n",
       "      <td>3.280</td>\n",
       "      <td>1324.0</td>\n",
       "    </tr>\n",
       "    <tr>\n",
       "      <th>4</th>\n",
       "      <td>0.707</td>\n",
       "      <td>3.658</td>\n",
       "      <td>1386.0</td>\n",
       "    </tr>\n",
       "    <tr>\n",
       "      <th>5</th>\n",
       "      <td>0.740</td>\n",
       "      <td>4.030</td>\n",
       "      <td>1450.0</td>\n",
       "    </tr>\n",
       "    <tr>\n",
       "      <th>6</th>\n",
       "      <td>0.833</td>\n",
       "      <td>5.185</td>\n",
       "      <td>1564.0</td>\n",
       "    </tr>\n",
       "    <tr>\n",
       "      <th>7</th>\n",
       "      <td>0.909</td>\n",
       "      <td>6.190</td>\n",
       "      <td>1722.0</td>\n",
       "    </tr>\n",
       "    <tr>\n",
       "      <th>8</th>\n",
       "      <td>0.855</td>\n",
       "      <td>5.465</td>\n",
       "      <td>1670.0</td>\n",
       "    </tr>\n",
       "    <tr>\n",
       "      <th>9</th>\n",
       "      <td>0.883</td>\n",
       "      <td>5.830</td>\n",
       "      <td>1703.0</td>\n",
       "    </tr>\n",
       "    <tr>\n",
       "      <th>10</th>\n",
       "      <td>0.813</td>\n",
       "      <td>4.930</td>\n",
       "      <td>1500.0</td>\n",
       "    </tr>\n",
       "    <tr>\n",
       "      <th>11</th>\n",
       "      <td>0.927</td>\n",
       "      <td>6.438</td>\n",
       "      <td>1800.0</td>\n",
       "    </tr>\n",
       "    <tr>\n",
       "      <th>12</th>\n",
       "      <td>1.010</td>\n",
       "      <td>7.635</td>\n",
       "      <td>1900.0</td>\n",
       "    </tr>\n",
       "    <tr>\n",
       "      <th>13</th>\n",
       "      <td>1.070</td>\n",
       "      <td>8.560</td>\n",
       "      <td>1960.0</td>\n",
       "    </tr>\n",
       "  </tbody>\n",
       "</table>\n",
       "</div>"
      ],
      "text/plain": [
       "    Напряжение на нити (В)  Сила тока на нити (А)  Температура (°C)\n",
       "0                    0.596                  2.470            1090.0\n",
       "1                    0.641                  2.935            1150.0\n",
       "2                    0.668                  3.222            1250.0\n",
       "3                    0.673                  3.280            1324.0\n",
       "4                    0.707                  3.658            1386.0\n",
       "5                    0.740                  4.030            1450.0\n",
       "6                    0.833                  5.185            1564.0\n",
       "7                    0.909                  6.190            1722.0\n",
       "8                    0.855                  5.465            1670.0\n",
       "9                    0.883                  5.830            1703.0\n",
       "10                   0.813                  4.930            1500.0\n",
       "11                   0.927                  6.438            1800.0\n",
       "12                   1.010                  7.635            1900.0\n",
       "13                   1.070                  8.560            1960.0"
      ]
     },
     "execution_count": 83,
     "metadata": {},
     "output_type": "execute_result"
    }
   ],
   "source": [
    "t = [1090, 1150, 1250, 1324, 1386, 1450, 1564, 1722, 1670, 1703, 1500, 1800, 1900, 1960]\n",
    "a = [0.596, 0.641, 0.668, 0.673, 0.707, 0.740, 0.833, 0.909, 0.855, 0.883, 0.813, 0.927, 1.010, 1.07]\n",
    "v = [2.47, 2.935, 3.222, 3.28, 3.658, 4.03, 5.185, 6.190, 5.465, 5.830, 4.930, 6.438, 7.635, 8.560]\n",
    "a = np.array(a)\n",
    "v = np.array(v)\n",
    "y = np.sort(a * v)\n",
    "x = np.sort(t)\n",
    "data = pd.DataFrame([a, v, t]).T\n",
    "data.columns= ['Напряжение на нити (В)', 'Сила тока на нити (А)', 'Температура (°C)']\n",
    "data"
   ]
  },
  {
   "cell_type": "markdown",
   "metadata": {},
   "source": [
    "## Зависимость температуры от энергии\n",
    "В теории должна описоваться согласно формуле\n",
    "$$\n",
    "W=\\varepsilon_{T} B T^{n},\n",
    "$$\n",
    "где $n=4$"
   ]
  },
  {
   "cell_type": "code",
   "execution_count": 85,
   "metadata": {
    "ExecuteTime": {
     "end_time": "2019-09-06T12:28:31.418154Z",
     "start_time": "2019-09-06T12:28:27.535871Z"
    }
   },
   "outputs": [
    {
     "data": {
      "application/vnd.plotly.v1+json": {
       "config": {
        "plotlyServerURL": "https://plot.ly"
       },
       "data": [
        {
         "line": {
          "shape": "spline"
         },
         "marker": {
          "color": "red"
         },
         "mode": "lines+markers",
         "name": "[1090, 1150, 1250, 1324, 1386, 1450, 1564, 1722, 1670, 1703, 1500, 1800, 1900, 1960] час",
         "type": "scatter",
         "x": [
          1090,
          1150,
          1250,
          1324,
          1386,
          1450,
          1500,
          1564,
          1670,
          1703,
          1722,
          1800,
          1900,
          1960
         ],
         "y": [
          1.47212,
          1.881335,
          2.152296,
          2.20744,
          2.586206,
          2.9822,
          4.008089999999999,
          4.3191049999999995,
          4.672575,
          5.14789,
          5.62671,
          5.968026,
          7.7113499999999995,
          9.1592
         ]
        }
       ],
       "layout": {
        "height": 500,
        "template": {
         "data": {
          "bar": [
           {
            "error_x": {
             "color": "#2a3f5f"
            },
            "error_y": {
             "color": "#2a3f5f"
            },
            "marker": {
             "line": {
              "color": "#E5ECF6",
              "width": 0.5
             }
            },
            "type": "bar"
           }
          ],
          "barpolar": [
           {
            "marker": {
             "line": {
              "color": "#E5ECF6",
              "width": 0.5
             }
            },
            "type": "barpolar"
           }
          ],
          "carpet": [
           {
            "aaxis": {
             "endlinecolor": "#2a3f5f",
             "gridcolor": "white",
             "linecolor": "white",
             "minorgridcolor": "white",
             "startlinecolor": "#2a3f5f"
            },
            "baxis": {
             "endlinecolor": "#2a3f5f",
             "gridcolor": "white",
             "linecolor": "white",
             "minorgridcolor": "white",
             "startlinecolor": "#2a3f5f"
            },
            "type": "carpet"
           }
          ],
          "choropleth": [
           {
            "colorbar": {
             "outlinewidth": 0,
             "ticks": ""
            },
            "type": "choropleth"
           }
          ],
          "contour": [
           {
            "colorbar": {
             "outlinewidth": 0,
             "ticks": ""
            },
            "colorscale": [
             [
              0,
              "#0d0887"
             ],
             [
              0.1111111111111111,
              "#46039f"
             ],
             [
              0.2222222222222222,
              "#7201a8"
             ],
             [
              0.3333333333333333,
              "#9c179e"
             ],
             [
              0.4444444444444444,
              "#bd3786"
             ],
             [
              0.5555555555555556,
              "#d8576b"
             ],
             [
              0.6666666666666666,
              "#ed7953"
             ],
             [
              0.7777777777777778,
              "#fb9f3a"
             ],
             [
              0.8888888888888888,
              "#fdca26"
             ],
             [
              1,
              "#f0f921"
             ]
            ],
            "type": "contour"
           }
          ],
          "contourcarpet": [
           {
            "colorbar": {
             "outlinewidth": 0,
             "ticks": ""
            },
            "type": "contourcarpet"
           }
          ],
          "heatmap": [
           {
            "colorbar": {
             "outlinewidth": 0,
             "ticks": ""
            },
            "colorscale": [
             [
              0,
              "#0d0887"
             ],
             [
              0.1111111111111111,
              "#46039f"
             ],
             [
              0.2222222222222222,
              "#7201a8"
             ],
             [
              0.3333333333333333,
              "#9c179e"
             ],
             [
              0.4444444444444444,
              "#bd3786"
             ],
             [
              0.5555555555555556,
              "#d8576b"
             ],
             [
              0.6666666666666666,
              "#ed7953"
             ],
             [
              0.7777777777777778,
              "#fb9f3a"
             ],
             [
              0.8888888888888888,
              "#fdca26"
             ],
             [
              1,
              "#f0f921"
             ]
            ],
            "type": "heatmap"
           }
          ],
          "heatmapgl": [
           {
            "colorbar": {
             "outlinewidth": 0,
             "ticks": ""
            },
            "colorscale": [
             [
              0,
              "#0d0887"
             ],
             [
              0.1111111111111111,
              "#46039f"
             ],
             [
              0.2222222222222222,
              "#7201a8"
             ],
             [
              0.3333333333333333,
              "#9c179e"
             ],
             [
              0.4444444444444444,
              "#bd3786"
             ],
             [
              0.5555555555555556,
              "#d8576b"
             ],
             [
              0.6666666666666666,
              "#ed7953"
             ],
             [
              0.7777777777777778,
              "#fb9f3a"
             ],
             [
              0.8888888888888888,
              "#fdca26"
             ],
             [
              1,
              "#f0f921"
             ]
            ],
            "type": "heatmapgl"
           }
          ],
          "histogram": [
           {
            "marker": {
             "colorbar": {
              "outlinewidth": 0,
              "ticks": ""
             }
            },
            "type": "histogram"
           }
          ],
          "histogram2d": [
           {
            "colorbar": {
             "outlinewidth": 0,
             "ticks": ""
            },
            "colorscale": [
             [
              0,
              "#0d0887"
             ],
             [
              0.1111111111111111,
              "#46039f"
             ],
             [
              0.2222222222222222,
              "#7201a8"
             ],
             [
              0.3333333333333333,
              "#9c179e"
             ],
             [
              0.4444444444444444,
              "#bd3786"
             ],
             [
              0.5555555555555556,
              "#d8576b"
             ],
             [
              0.6666666666666666,
              "#ed7953"
             ],
             [
              0.7777777777777778,
              "#fb9f3a"
             ],
             [
              0.8888888888888888,
              "#fdca26"
             ],
             [
              1,
              "#f0f921"
             ]
            ],
            "type": "histogram2d"
           }
          ],
          "histogram2dcontour": [
           {
            "colorbar": {
             "outlinewidth": 0,
             "ticks": ""
            },
            "colorscale": [
             [
              0,
              "#0d0887"
             ],
             [
              0.1111111111111111,
              "#46039f"
             ],
             [
              0.2222222222222222,
              "#7201a8"
             ],
             [
              0.3333333333333333,
              "#9c179e"
             ],
             [
              0.4444444444444444,
              "#bd3786"
             ],
             [
              0.5555555555555556,
              "#d8576b"
             ],
             [
              0.6666666666666666,
              "#ed7953"
             ],
             [
              0.7777777777777778,
              "#fb9f3a"
             ],
             [
              0.8888888888888888,
              "#fdca26"
             ],
             [
              1,
              "#f0f921"
             ]
            ],
            "type": "histogram2dcontour"
           }
          ],
          "mesh3d": [
           {
            "colorbar": {
             "outlinewidth": 0,
             "ticks": ""
            },
            "type": "mesh3d"
           }
          ],
          "parcoords": [
           {
            "line": {
             "colorbar": {
              "outlinewidth": 0,
              "ticks": ""
             }
            },
            "type": "parcoords"
           }
          ],
          "scatter": [
           {
            "marker": {
             "colorbar": {
              "outlinewidth": 0,
              "ticks": ""
             }
            },
            "type": "scatter"
           }
          ],
          "scatter3d": [
           {
            "line": {
             "colorbar": {
              "outlinewidth": 0,
              "ticks": ""
             }
            },
            "marker": {
             "colorbar": {
              "outlinewidth": 0,
              "ticks": ""
             }
            },
            "type": "scatter3d"
           }
          ],
          "scattercarpet": [
           {
            "marker": {
             "colorbar": {
              "outlinewidth": 0,
              "ticks": ""
             }
            },
            "type": "scattercarpet"
           }
          ],
          "scattergeo": [
           {
            "marker": {
             "colorbar": {
              "outlinewidth": 0,
              "ticks": ""
             }
            },
            "type": "scattergeo"
           }
          ],
          "scattergl": [
           {
            "marker": {
             "colorbar": {
              "outlinewidth": 0,
              "ticks": ""
             }
            },
            "type": "scattergl"
           }
          ],
          "scattermapbox": [
           {
            "marker": {
             "colorbar": {
              "outlinewidth": 0,
              "ticks": ""
             }
            },
            "type": "scattermapbox"
           }
          ],
          "scatterpolar": [
           {
            "marker": {
             "colorbar": {
              "outlinewidth": 0,
              "ticks": ""
             }
            },
            "type": "scatterpolar"
           }
          ],
          "scatterpolargl": [
           {
            "marker": {
             "colorbar": {
              "outlinewidth": 0,
              "ticks": ""
             }
            },
            "type": "scatterpolargl"
           }
          ],
          "scatterternary": [
           {
            "marker": {
             "colorbar": {
              "outlinewidth": 0,
              "ticks": ""
             }
            },
            "type": "scatterternary"
           }
          ],
          "surface": [
           {
            "colorbar": {
             "outlinewidth": 0,
             "ticks": ""
            },
            "colorscale": [
             [
              0,
              "#0d0887"
             ],
             [
              0.1111111111111111,
              "#46039f"
             ],
             [
              0.2222222222222222,
              "#7201a8"
             ],
             [
              0.3333333333333333,
              "#9c179e"
             ],
             [
              0.4444444444444444,
              "#bd3786"
             ],
             [
              0.5555555555555556,
              "#d8576b"
             ],
             [
              0.6666666666666666,
              "#ed7953"
             ],
             [
              0.7777777777777778,
              "#fb9f3a"
             ],
             [
              0.8888888888888888,
              "#fdca26"
             ],
             [
              1,
              "#f0f921"
             ]
            ],
            "type": "surface"
           }
          ],
          "table": [
           {
            "cells": {
             "fill": {
              "color": "#EBF0F8"
             },
             "line": {
              "color": "white"
             }
            },
            "header": {
             "fill": {
              "color": "#C8D4E3"
             },
             "line": {
              "color": "white"
             }
            },
            "type": "table"
           }
          ]
         },
         "layout": {
          "annotationdefaults": {
           "arrowcolor": "#2a3f5f",
           "arrowhead": 0,
           "arrowwidth": 1
          },
          "colorscale": {
           "diverging": [
            [
             0,
             "#8e0152"
            ],
            [
             0.1,
             "#c51b7d"
            ],
            [
             0.2,
             "#de77ae"
            ],
            [
             0.3,
             "#f1b6da"
            ],
            [
             0.4,
             "#fde0ef"
            ],
            [
             0.5,
             "#f7f7f7"
            ],
            [
             0.6,
             "#e6f5d0"
            ],
            [
             0.7,
             "#b8e186"
            ],
            [
             0.8,
             "#7fbc41"
            ],
            [
             0.9,
             "#4d9221"
            ],
            [
             1,
             "#276419"
            ]
           ],
           "sequential": [
            [
             0,
             "#0d0887"
            ],
            [
             0.1111111111111111,
             "#46039f"
            ],
            [
             0.2222222222222222,
             "#7201a8"
            ],
            [
             0.3333333333333333,
             "#9c179e"
            ],
            [
             0.4444444444444444,
             "#bd3786"
            ],
            [
             0.5555555555555556,
             "#d8576b"
            ],
            [
             0.6666666666666666,
             "#ed7953"
            ],
            [
             0.7777777777777778,
             "#fb9f3a"
            ],
            [
             0.8888888888888888,
             "#fdca26"
            ],
            [
             1,
             "#f0f921"
            ]
           ],
           "sequentialminus": [
            [
             0,
             "#0d0887"
            ],
            [
             0.1111111111111111,
             "#46039f"
            ],
            [
             0.2222222222222222,
             "#7201a8"
            ],
            [
             0.3333333333333333,
             "#9c179e"
            ],
            [
             0.4444444444444444,
             "#bd3786"
            ],
            [
             0.5555555555555556,
             "#d8576b"
            ],
            [
             0.6666666666666666,
             "#ed7953"
            ],
            [
             0.7777777777777778,
             "#fb9f3a"
            ],
            [
             0.8888888888888888,
             "#fdca26"
            ],
            [
             1,
             "#f0f921"
            ]
           ]
          },
          "colorway": [
           "#636efa",
           "#EF553B",
           "#00cc96",
           "#ab63fa",
           "#FFA15A",
           "#19d3f3",
           "#FF6692",
           "#B6E880",
           "#FF97FF",
           "#FECB52"
          ],
          "font": {
           "color": "#2a3f5f"
          },
          "geo": {
           "bgcolor": "white",
           "lakecolor": "white",
           "landcolor": "#E5ECF6",
           "showlakes": true,
           "showland": true,
           "subunitcolor": "white"
          },
          "hoverlabel": {
           "align": "left"
          },
          "hovermode": "closest",
          "mapbox": {
           "style": "light"
          },
          "paper_bgcolor": "white",
          "plot_bgcolor": "#E5ECF6",
          "polar": {
           "angularaxis": {
            "gridcolor": "white",
            "linecolor": "white",
            "ticks": ""
           },
           "bgcolor": "#E5ECF6",
           "radialaxis": {
            "gridcolor": "white",
            "linecolor": "white",
            "ticks": ""
           }
          },
          "scene": {
           "xaxis": {
            "backgroundcolor": "#E5ECF6",
            "gridcolor": "white",
            "gridwidth": 2,
            "linecolor": "white",
            "showbackground": true,
            "ticks": "",
            "zerolinecolor": "white"
           },
           "yaxis": {
            "backgroundcolor": "#E5ECF6",
            "gridcolor": "white",
            "gridwidth": 2,
            "linecolor": "white",
            "showbackground": true,
            "ticks": "",
            "zerolinecolor": "white"
           },
           "zaxis": {
            "backgroundcolor": "#E5ECF6",
            "gridcolor": "white",
            "gridwidth": 2,
            "linecolor": "white",
            "showbackground": true,
            "ticks": "",
            "zerolinecolor": "white"
           }
          },
          "shapedefaults": {
           "line": {
            "color": "#2a3f5f"
           }
          },
          "ternary": {
           "aaxis": {
            "gridcolor": "white",
            "linecolor": "white",
            "ticks": ""
           },
           "baxis": {
            "gridcolor": "white",
            "linecolor": "white",
            "ticks": ""
           },
           "bgcolor": "#E5ECF6",
           "caxis": {
            "gridcolor": "white",
            "linecolor": "white",
            "ticks": ""
           }
          },
          "title": {
           "x": 0.05
          },
          "xaxis": {
           "automargin": true,
           "gridcolor": "white",
           "linecolor": "white",
           "ticks": "",
           "zerolinecolor": "white",
           "zerolinewidth": 2
          },
          "yaxis": {
           "automargin": true,
           "gridcolor": "white",
           "linecolor": "white",
           "ticks": "",
           "zerolinecolor": "white",
           "zerolinewidth": 2
          }
         }
        },
        "title": {
         "text": "Результаты"
        },
        "width": 700,
        "xaxis": {
         "title": {
          "text": "Температура (°C)"
         }
        },
        "yaxis": {
         "title": {
          "text": "Мощность (Вт)"
         }
        }
       }
      },
      "text/html": [
       "<div>\n",
       "        \n",
       "        \n",
       "            <div id=\"d7f96dbd-c2db-449b-b845-0e40f498d0fa\" class=\"plotly-graph-div\" style=\"height:500px; width:700px;\"></div>\n",
       "            <script type=\"text/javascript\">\n",
       "                require([\"plotly\"], function(Plotly) {\n",
       "                    window.PLOTLYENV=window.PLOTLYENV || {};\n",
       "                    \n",
       "                if (document.getElementById(\"d7f96dbd-c2db-449b-b845-0e40f498d0fa\")) {\n",
       "                    Plotly.newPlot(\n",
       "                        'd7f96dbd-c2db-449b-b845-0e40f498d0fa',\n",
       "                        [{\"line\": {\"shape\": \"spline\"}, \"marker\": {\"color\": \"red\"}, \"mode\": \"lines+markers\", \"name\": \"[1090, 1150, 1250, 1324, 1386, 1450, 1564, 1722, 1670, 1703, 1500, 1800, 1900, 1960] \\u0447\\u0430\\u0441\", \"type\": \"scatter\", \"x\": [1090, 1150, 1250, 1324, 1386, 1450, 1500, 1564, 1670, 1703, 1722, 1800, 1900, 1960], \"y\": [1.47212, 1.881335, 2.152296, 2.20744, 2.586206, 2.9822, 4.008089999999999, 4.3191049999999995, 4.672575, 5.14789, 5.62671, 5.968026, 7.7113499999999995, 9.1592]}],\n",
       "                        {\"height\": 500, \"template\": {\"data\": {\"bar\": [{\"error_x\": {\"color\": \"#2a3f5f\"}, \"error_y\": {\"color\": \"#2a3f5f\"}, \"marker\": {\"line\": {\"color\": \"#E5ECF6\", \"width\": 0.5}}, \"type\": \"bar\"}], \"barpolar\": [{\"marker\": {\"line\": {\"color\": \"#E5ECF6\", \"width\": 0.5}}, \"type\": \"barpolar\"}], \"carpet\": [{\"aaxis\": {\"endlinecolor\": \"#2a3f5f\", \"gridcolor\": \"white\", \"linecolor\": \"white\", \"minorgridcolor\": \"white\", \"startlinecolor\": \"#2a3f5f\"}, \"baxis\": {\"endlinecolor\": \"#2a3f5f\", \"gridcolor\": \"white\", \"linecolor\": \"white\", \"minorgridcolor\": \"white\", \"startlinecolor\": \"#2a3f5f\"}, \"type\": \"carpet\"}], \"choropleth\": [{\"colorbar\": {\"outlinewidth\": 0, \"ticks\": \"\"}, \"type\": \"choropleth\"}], \"contour\": [{\"colorbar\": {\"outlinewidth\": 0, \"ticks\": \"\"}, \"colorscale\": [[0.0, \"#0d0887\"], [0.1111111111111111, \"#46039f\"], [0.2222222222222222, \"#7201a8\"], [0.3333333333333333, \"#9c179e\"], [0.4444444444444444, \"#bd3786\"], [0.5555555555555556, \"#d8576b\"], [0.6666666666666666, \"#ed7953\"], [0.7777777777777778, \"#fb9f3a\"], [0.8888888888888888, \"#fdca26\"], [1.0, \"#f0f921\"]], \"type\": \"contour\"}], \"contourcarpet\": [{\"colorbar\": {\"outlinewidth\": 0, \"ticks\": \"\"}, \"type\": \"contourcarpet\"}], \"heatmap\": [{\"colorbar\": {\"outlinewidth\": 0, \"ticks\": \"\"}, \"colorscale\": [[0.0, \"#0d0887\"], [0.1111111111111111, \"#46039f\"], [0.2222222222222222, \"#7201a8\"], [0.3333333333333333, \"#9c179e\"], [0.4444444444444444, \"#bd3786\"], [0.5555555555555556, \"#d8576b\"], [0.6666666666666666, \"#ed7953\"], [0.7777777777777778, \"#fb9f3a\"], [0.8888888888888888, \"#fdca26\"], [1.0, \"#f0f921\"]], \"type\": \"heatmap\"}], \"heatmapgl\": [{\"colorbar\": {\"outlinewidth\": 0, \"ticks\": \"\"}, \"colorscale\": [[0.0, \"#0d0887\"], [0.1111111111111111, \"#46039f\"], [0.2222222222222222, \"#7201a8\"], [0.3333333333333333, \"#9c179e\"], [0.4444444444444444, \"#bd3786\"], [0.5555555555555556, \"#d8576b\"], [0.6666666666666666, \"#ed7953\"], [0.7777777777777778, \"#fb9f3a\"], [0.8888888888888888, \"#fdca26\"], [1.0, \"#f0f921\"]], \"type\": \"heatmapgl\"}], \"histogram\": [{\"marker\": {\"colorbar\": {\"outlinewidth\": 0, \"ticks\": \"\"}}, \"type\": \"histogram\"}], \"histogram2d\": [{\"colorbar\": {\"outlinewidth\": 0, \"ticks\": \"\"}, \"colorscale\": [[0.0, \"#0d0887\"], [0.1111111111111111, \"#46039f\"], [0.2222222222222222, \"#7201a8\"], [0.3333333333333333, \"#9c179e\"], [0.4444444444444444, \"#bd3786\"], [0.5555555555555556, \"#d8576b\"], [0.6666666666666666, \"#ed7953\"], [0.7777777777777778, \"#fb9f3a\"], [0.8888888888888888, \"#fdca26\"], [1.0, \"#f0f921\"]], \"type\": \"histogram2d\"}], \"histogram2dcontour\": [{\"colorbar\": {\"outlinewidth\": 0, \"ticks\": \"\"}, \"colorscale\": [[0.0, \"#0d0887\"], [0.1111111111111111, \"#46039f\"], [0.2222222222222222, \"#7201a8\"], [0.3333333333333333, \"#9c179e\"], [0.4444444444444444, \"#bd3786\"], [0.5555555555555556, \"#d8576b\"], [0.6666666666666666, \"#ed7953\"], [0.7777777777777778, \"#fb9f3a\"], [0.8888888888888888, \"#fdca26\"], [1.0, \"#f0f921\"]], \"type\": \"histogram2dcontour\"}], \"mesh3d\": [{\"colorbar\": {\"outlinewidth\": 0, \"ticks\": \"\"}, \"type\": \"mesh3d\"}], \"parcoords\": [{\"line\": {\"colorbar\": {\"outlinewidth\": 0, \"ticks\": \"\"}}, \"type\": \"parcoords\"}], \"scatter\": [{\"marker\": {\"colorbar\": {\"outlinewidth\": 0, \"ticks\": \"\"}}, \"type\": \"scatter\"}], \"scatter3d\": [{\"line\": {\"colorbar\": {\"outlinewidth\": 0, \"ticks\": \"\"}}, \"marker\": {\"colorbar\": {\"outlinewidth\": 0, \"ticks\": \"\"}}, \"type\": \"scatter3d\"}], \"scattercarpet\": [{\"marker\": {\"colorbar\": {\"outlinewidth\": 0, \"ticks\": \"\"}}, \"type\": \"scattercarpet\"}], \"scattergeo\": [{\"marker\": {\"colorbar\": {\"outlinewidth\": 0, \"ticks\": \"\"}}, \"type\": \"scattergeo\"}], \"scattergl\": [{\"marker\": {\"colorbar\": {\"outlinewidth\": 0, \"ticks\": \"\"}}, \"type\": \"scattergl\"}], \"scattermapbox\": [{\"marker\": {\"colorbar\": {\"outlinewidth\": 0, \"ticks\": \"\"}}, \"type\": \"scattermapbox\"}], \"scatterpolar\": [{\"marker\": {\"colorbar\": {\"outlinewidth\": 0, \"ticks\": \"\"}}, \"type\": \"scatterpolar\"}], \"scatterpolargl\": [{\"marker\": {\"colorbar\": {\"outlinewidth\": 0, \"ticks\": \"\"}}, \"type\": \"scatterpolargl\"}], \"scatterternary\": [{\"marker\": {\"colorbar\": {\"outlinewidth\": 0, \"ticks\": \"\"}}, \"type\": \"scatterternary\"}], \"surface\": [{\"colorbar\": {\"outlinewidth\": 0, \"ticks\": \"\"}, \"colorscale\": [[0.0, \"#0d0887\"], [0.1111111111111111, \"#46039f\"], [0.2222222222222222, \"#7201a8\"], [0.3333333333333333, \"#9c179e\"], [0.4444444444444444, \"#bd3786\"], [0.5555555555555556, \"#d8576b\"], [0.6666666666666666, \"#ed7953\"], [0.7777777777777778, \"#fb9f3a\"], [0.8888888888888888, \"#fdca26\"], [1.0, \"#f0f921\"]], \"type\": \"surface\"}], \"table\": [{\"cells\": {\"fill\": {\"color\": \"#EBF0F8\"}, \"line\": {\"color\": \"white\"}}, \"header\": {\"fill\": {\"color\": \"#C8D4E3\"}, \"line\": {\"color\": \"white\"}}, \"type\": \"table\"}]}, \"layout\": {\"annotationdefaults\": {\"arrowcolor\": \"#2a3f5f\", \"arrowhead\": 0, \"arrowwidth\": 1}, \"colorscale\": {\"diverging\": [[0, \"#8e0152\"], [0.1, \"#c51b7d\"], [0.2, \"#de77ae\"], [0.3, \"#f1b6da\"], [0.4, \"#fde0ef\"], [0.5, \"#f7f7f7\"], [0.6, \"#e6f5d0\"], [0.7, \"#b8e186\"], [0.8, \"#7fbc41\"], [0.9, \"#4d9221\"], [1, \"#276419\"]], \"sequential\": [[0.0, \"#0d0887\"], [0.1111111111111111, \"#46039f\"], [0.2222222222222222, \"#7201a8\"], [0.3333333333333333, \"#9c179e\"], [0.4444444444444444, \"#bd3786\"], [0.5555555555555556, \"#d8576b\"], [0.6666666666666666, \"#ed7953\"], [0.7777777777777778, \"#fb9f3a\"], [0.8888888888888888, \"#fdca26\"], [1.0, \"#f0f921\"]], \"sequentialminus\": [[0.0, \"#0d0887\"], [0.1111111111111111, \"#46039f\"], [0.2222222222222222, \"#7201a8\"], [0.3333333333333333, \"#9c179e\"], [0.4444444444444444, \"#bd3786\"], [0.5555555555555556, \"#d8576b\"], [0.6666666666666666, \"#ed7953\"], [0.7777777777777778, \"#fb9f3a\"], [0.8888888888888888, \"#fdca26\"], [1.0, \"#f0f921\"]]}, \"colorway\": [\"#636efa\", \"#EF553B\", \"#00cc96\", \"#ab63fa\", \"#FFA15A\", \"#19d3f3\", \"#FF6692\", \"#B6E880\", \"#FF97FF\", \"#FECB52\"], \"font\": {\"color\": \"#2a3f5f\"}, \"geo\": {\"bgcolor\": \"white\", \"lakecolor\": \"white\", \"landcolor\": \"#E5ECF6\", \"showlakes\": true, \"showland\": true, \"subunitcolor\": \"white\"}, \"hoverlabel\": {\"align\": \"left\"}, \"hovermode\": \"closest\", \"mapbox\": {\"style\": \"light\"}, \"paper_bgcolor\": \"white\", \"plot_bgcolor\": \"#E5ECF6\", \"polar\": {\"angularaxis\": {\"gridcolor\": \"white\", \"linecolor\": \"white\", \"ticks\": \"\"}, \"bgcolor\": \"#E5ECF6\", \"radialaxis\": {\"gridcolor\": \"white\", \"linecolor\": \"white\", \"ticks\": \"\"}}, \"scene\": {\"xaxis\": {\"backgroundcolor\": \"#E5ECF6\", \"gridcolor\": \"white\", \"gridwidth\": 2, \"linecolor\": \"white\", \"showbackground\": true, \"ticks\": \"\", \"zerolinecolor\": \"white\"}, \"yaxis\": {\"backgroundcolor\": \"#E5ECF6\", \"gridcolor\": \"white\", \"gridwidth\": 2, \"linecolor\": \"white\", \"showbackground\": true, \"ticks\": \"\", \"zerolinecolor\": \"white\"}, \"zaxis\": {\"backgroundcolor\": \"#E5ECF6\", \"gridcolor\": \"white\", \"gridwidth\": 2, \"linecolor\": \"white\", \"showbackground\": true, \"ticks\": \"\", \"zerolinecolor\": \"white\"}}, \"shapedefaults\": {\"line\": {\"color\": \"#2a3f5f\"}}, \"ternary\": {\"aaxis\": {\"gridcolor\": \"white\", \"linecolor\": \"white\", \"ticks\": \"\"}, \"baxis\": {\"gridcolor\": \"white\", \"linecolor\": \"white\", \"ticks\": \"\"}, \"bgcolor\": \"#E5ECF6\", \"caxis\": {\"gridcolor\": \"white\", \"linecolor\": \"white\", \"ticks\": \"\"}}, \"title\": {\"x\": 0.05}, \"xaxis\": {\"automargin\": true, \"gridcolor\": \"white\", \"linecolor\": \"white\", \"ticks\": \"\", \"zerolinecolor\": \"white\", \"zerolinewidth\": 2}, \"yaxis\": {\"automargin\": true, \"gridcolor\": \"white\", \"linecolor\": \"white\", \"ticks\": \"\", \"zerolinecolor\": \"white\", \"zerolinewidth\": 2}}}, \"title\": {\"text\": \"\\u0420\\u0435\\u0437\\u0443\\u043b\\u044c\\u0442\\u0430\\u0442\\u044b\"}, \"width\": 700, \"xaxis\": {\"title\": {\"text\": \"\\u0422\\u0435\\u043c\\u043f\\u0435\\u0440\\u0430\\u0442\\u0443\\u0440\\u0430 (\\u00b0C)\"}}, \"yaxis\": {\"title\": {\"text\": \"\\u041c\\u043e\\u0449\\u043d\\u043e\\u0441\\u0442\\u044c (\\u0412\\u0442)\"}}},\n",
       "                        {\"responsive\": true}\n",
       "                    ).then(function(){\n",
       "                            \n",
       "var gd = document.getElementById('d7f96dbd-c2db-449b-b845-0e40f498d0fa');\n",
       "var x = new MutationObserver(function (mutations, observer) {{\n",
       "        var display = window.getComputedStyle(gd).display;\n",
       "        if (!display || display === 'none') {{\n",
       "            console.log([gd, 'removed!']);\n",
       "            Plotly.purge(gd);\n",
       "            observer.disconnect();\n",
       "        }}\n",
       "}});\n",
       "\n",
       "// Listen for the removal of the full notebook cells\n",
       "var notebookContainer = gd.closest('#notebook-container');\n",
       "if (notebookContainer) {{\n",
       "    x.observe(notebookContainer, {childList: true});\n",
       "}}\n",
       "\n",
       "// Listen for the clearing of the current output cell\n",
       "var outputEl = gd.closest('.output');\n",
       "if (outputEl) {{\n",
       "    x.observe(outputEl, {childList: true});\n",
       "}}\n",
       "\n",
       "                        })\n",
       "                };\n",
       "                });\n",
       "            </script>\n",
       "        </div>"
      ]
     },
     "metadata": {},
     "output_type": "display_data"
    }
   ],
   "source": [
    "cur_trace = go.Scatter({\n",
    "        'x': x,\n",
    "        'y': y,\n",
    "        \n",
    "        'marker': {\n",
    "            'color': 'red'\n",
    "        },\n",
    "        'name': '{} час'.format(t),\n",
    "        \n",
    "        'line_shape': 'spline',\n",
    "        'mode': 'lines+markers'\n",
    "    })\n",
    "\n",
    "layout = go.Layout({\n",
    "    'title': 'Результаты',\n",
    "    'height': 500,\n",
    "    'width': 700,\n",
    "    'xaxis': {\n",
    "        'title': 'Температура (°C)',\n",
    "    },\n",
    "    'yaxis': {\n",
    "        'title': 'Мощность (Вт)'\n",
    "    }\n",
    "})\n",
    "\n",
    "go.Figure(data=[cur_trace], layout=layout)   "
   ]
  },
  {
   "cell_type": "markdown",
   "metadata": {},
   "source": [
    "Прологарифмировав обе части выражения (1) получим:\n",
    "$$\n",
    "\\ln W=\\ln \\left(\\varepsilon_{T} B\\right)+n \\ln T\n",
    "$$\n",
    "Тогда коэффициент n может быть найден из метода наименьших квадратов как коэффициент наклона прямой"
   ]
  },
  {
   "cell_type": "code",
   "execution_count": 87,
   "metadata": {
    "ExecuteTime": {
     "end_time": "2019-09-06T12:28:57.967070Z",
     "start_time": "2019-09-06T12:28:57.694330Z"
    }
   },
   "outputs": [
    {
     "name": "stdout",
     "output_type": "stream",
     "text": [
      "Коэффициент наклона прямой: 2.99±0.12\n"
     ]
    },
    {
     "data": {
      "application/vnd.plotly.v1+json": {
       "config": {
        "plotlyServerURL": "https://plot.ly"
       },
       "data": [
        {
         "error_y": {
          "type": "constant",
          "value": 0.1
         },
         "mode": "markers",
         "name": "Измерения",
         "type": "scatter",
         "x": [
          6.993932975223189,
          7.047517221357296,
          7.1308988302963465,
          7.188412736496954,
          7.234177179749849,
          7.27931883541462,
          7.313220387090301,
          7.355001921105257,
          7.4205789054108005,
          7.440146680662688,
          7.451241684987676,
          7.495541943884256,
          7.549609165154532,
          7.580699752224563
         ],
         "y": [
          0.3867035387230986,
          0.6319816312185927,
          0.7665351793092914,
          0.7918334730586432,
          0.9501919368831095,
          1.09266128317467,
          1.388314818620272,
          1.4630482048661961,
          1.541710311583125,
          1.638586921984224,
          1.7275249018918466,
          1.7864162194603346,
          2.0426932695237636,
          2.2147588386274655
         ]
        },
        {
         "name": "Линейная апроксимация",
         "type": "scatter",
         "x": [
          6.993932975223189,
          6.996881551992041,
          6.999830128760892,
          7.002778705529742,
          7.005727282298594,
          7.008675859067445,
          7.011624435836296,
          7.0145730126051475,
          7.017521589373998,
          7.020470166142849,
          7.0234187429117005,
          7.026367319680552,
          7.029315896449403,
          7.0322644732182535,
          7.035213049987105,
          7.038161626755956,
          7.041110203524807,
          7.044058780293659,
          7.047007357062509,
          7.04995593383136,
          7.052904510600212,
          7.055853087369063,
          7.058801664137914,
          7.061750240906765,
          7.064698817675616,
          7.067647394444467,
          7.070595971213319,
          7.07354454798217,
          7.076493124751021,
          7.079441701519872,
          7.082390278288723,
          7.085338855057574,
          7.0882874318264255,
          7.091236008595277,
          7.094184585364127,
          7.0971331621329785,
          7.10008173890183,
          7.103030315670681,
          7.105978892439532,
          7.108927469208383,
          7.111876045977234,
          7.114824622746085,
          7.117773199514937,
          7.120721776283788,
          7.123670353052638,
          7.12661892982149,
          7.129567506590341,
          7.132516083359192,
          7.135464660128044,
          7.138413236896894,
          7.141361813665745,
          7.144310390434597,
          7.147258967203448,
          7.150207543972299,
          7.15315612074115,
          7.156104697510001,
          7.159053274278852,
          7.1620018510477035,
          7.164950427816555,
          7.167899004585405,
          7.1708475813542565,
          7.173796158123108,
          7.176744734891959,
          7.17969331166081,
          7.182641888429661,
          7.185590465198512,
          7.188539041967363,
          7.191487618736215,
          7.194436195505066,
          7.197384772273917,
          7.200333349042768,
          7.203281925811619,
          7.20623050258047,
          7.209179079349322,
          7.212127656118172,
          7.215076232887023,
          7.218024809655875,
          7.220973386424726,
          7.223921963193577,
          7.2268705399624285,
          7.229819116731279,
          7.23276769350013,
          7.2357162702689815,
          7.238664847037833,
          7.241613423806684,
          7.2445620005755345,
          7.247510577344386,
          7.250459154113237,
          7.253407730882088,
          7.25635630765094,
          7.25930488441979,
          7.262253461188641,
          7.265202037957493,
          7.268150614726344,
          7.271099191495195,
          7.274047768264046,
          7.276996345032897,
          7.279944921801748,
          7.2828934985705995,
          7.285842075339451,
          7.288790652108301,
          7.2917392288771525,
          7.294687805646004,
          7.297636382414855,
          7.300584959183706,
          7.303533535952557,
          7.306482112721408,
          7.309430689490259,
          7.312379266259111,
          7.315327843027962,
          7.318276419796812,
          7.321224996565664,
          7.324173573334515,
          7.327122150103366,
          7.330070726872218,
          7.333019303641068,
          7.335967880409919,
          7.338916457178771,
          7.341865033947622,
          7.344813610716473,
          7.3477621874853245,
          7.350710764254175,
          7.353659341023026,
          7.3566079177918775,
          7.359556494560729,
          7.362505071329579,
          7.3654536480984305,
          7.368402224867282,
          7.371350801636133,
          7.374299378404984,
          7.377247955173836,
          7.380196531942686,
          7.383145108711537,
          7.386093685480389,
          7.38904226224924,
          7.391990839018091,
          7.394939415786942,
          7.397887992555793,
          7.400836569324644,
          7.403785146093496,
          7.406733722862347,
          7.409682299631197,
          7.412630876400049,
          7.4155794531689,
          7.418528029937751,
          7.4214766067066025,
          7.424425183475453,
          7.427373760244304,
          7.4303223370131555,
          7.433270913782007,
          7.436219490550858,
          7.4391680673197085,
          7.44211664408856,
          7.445065220857411,
          7.448013797626262,
          7.450962374395114,
          7.453910951163964,
          7.456859527932815,
          7.459808104701667,
          7.462756681470518,
          7.465705258239369,
          7.4686538350082206,
          7.471602411777071,
          7.474550988545922,
          7.4774995653147736,
          7.480448142083625,
          7.483396718852475,
          7.486345295621327,
          7.489293872390178,
          7.492242449159029,
          7.4951910259278804,
          7.498139602696732,
          7.501088179465582,
          7.5040367562344334,
          7.506985333003285,
          7.509933909772136,
          7.5128824865409864,
          7.515831063309838,
          7.518779640078689,
          7.52172821684754,
          7.524676793616392,
          7.527625370385243,
          7.530573947154093,
          7.533522523922945,
          7.536471100691796,
          7.539419677460647,
          7.5423682542294985,
          7.545316830998349,
          7.5482654077672,
          7.5512139845360515,
          7.554162561304903,
          7.557111138073754,
          7.5600597148426045,
          7.563008291611456,
          7.565956868380307,
          7.568905445149158,
          7.57185402191801,
          7.57480259868686,
          7.577751175455711,
          7.580699752224563
         ],
         "y": [
          0.341393544503898,
          0.35020552211053513,
          0.35901749971717223,
          0.36782947732380933,
          0.37664145493044643,
          0.38545343253708353,
          0.39426541014372063,
          0.40307738775035773,
          0.41188936535699483,
          0.42070134296363193,
          0.42951332057026903,
          0.43832529817690613,
          0.4471372757835468,
          0.45594925339018033,
          0.46476123099681743,
          0.47357320860345453,
          0.4823851862100952,
          0.4911971638167323,
          0.5000091414233658,
          0.5088211190300029,
          0.5176330966366436,
          0.5264450742432807,
          0.5352570518499178,
          0.5440690294565549,
          0.552881007063192,
          0.5616929846698291,
          0.5705049622764662,
          0.5793169398831033,
          0.5881289174897439,
          0.5969408950963775,
          0.6057528727030146,
          0.6145648503096517,
          0.6233768279162923,
          0.6321888055229294,
          0.641000783129563,
          0.6498127607362001,
          0.6586247383428407,
          0.6674367159494778,
          0.6762486935561149,
          0.6850606711627485,
          0.6938726487693891,
          0.7026846263760262,
          0.7114966039826633,
          0.7203085815893004,
          0.7291205591959375,
          0.7379325368025746,
          0.7467445144092117,
          0.7555564920158488,
          0.764368469622486,
          0.773180447229123,
          0.7819924248357601,
          0.7908044024423972,
          0.7996163800490343,
          0.808428357655675,
          0.8172403352623085,
          0.8260523128689456,
          0.8348642904755827,
          0.8436762680822234,
          0.8524882456888605,
          0.861300223295494,
          0.8701122009021347,
          0.8789241785087718,
          0.8877361561154089,
          0.896548133722046,
          0.9053601113286831,
          0.9141720889353202,
          0.9229840665419573,
          0.9317960441485944,
          0.9406080217552315,
          0.9494199993618722,
          0.9582319769685057,
          0.9670439545751428,
          0.9758559321817799,
          0.9846679097884206,
          0.9934798873950541,
          1.0022918650016912,
          1.0111038426083283,
          1.019915820214969,
          1.028727797821606,
          1.0375397754282432,
          1.0463517530348767,
          1.0551637306415174,
          1.0639757082481545,
          1.0727876858547916,
          1.0815996634614287,
          1.0904116410680658,
          1.0992236186747029,
          1.10803559628134,
          1.116847573887977,
          1.1256595514946142,
          1.1344715291012513,
          1.1432835067078884,
          1.1520954843145255,
          1.1609074619211626,
          1.1697194395278032,
          1.1785314171344368,
          1.1873433947410739,
          1.1961553723477145,
          1.2049673499543516,
          1.2137793275609887,
          1.2225913051676223,
          1.231403282774263,
          1.2402152603809,
          1.2490272379875371,
          1.2578392155941742,
          1.2666511932008113,
          1.2754631708074484,
          1.2842751484140855,
          1.2930871260207226,
          1.3018991036273597,
          1.3107110812339968,
          1.319523058840634,
          1.328335036447271,
          1.3371470140539081,
          1.3459589916605488,
          1.3547709692671823,
          1.3635829468738194,
          1.3723949244804565,
          1.3812069020870972,
          1.3900188796937343,
          1.3988308573003714,
          1.407642834907005,
          1.4164548125136456,
          1.4252667901202827,
          1.4340787677269198,
          1.4428907453335569,
          1.451702722940194,
          1.460514700546831,
          1.4693266781534682,
          1.4781386557601053,
          1.4869506333667424,
          1.4957626109733795,
          1.5045745885800166,
          1.5133865661866537,
          1.5221985437932943,
          1.5310105213999314,
          1.539822499006565,
          1.548634476613202,
          1.5574464542198427,
          1.5662584318264798,
          1.575070409433117,
          1.5838823870397505,
          1.5926943646463911,
          1.6015063422530282,
          1.6103183198596653,
          1.6191302974663024,
          1.6279422750729395,
          1.6367542526795766,
          1.6455662302862137,
          1.6543782078928508,
          1.663190185499488,
          1.672002163106125,
          1.6808141407127621,
          1.6896261183193992,
          1.6984380959260363,
          1.707250073532677,
          1.7160620511393105,
          1.7248740287459476,
          1.7336860063525847,
          1.7424979839592254,
          1.7513099615658625,
          1.7601219391724996,
          1.7689339167791331,
          1.7777458943857738,
          1.786557871992411,
          1.795369849599048,
          1.804181827205685,
          1.8129938048123222,
          1.8218057824189593,
          1.8306177600255964,
          1.8394297376322335,
          1.8482417152388741,
          1.8570536928455077,
          1.8658656704521448,
          1.874677648058782,
          1.8834896256654226,
          1.892301603272056,
          1.9011135808786932,
          1.9099255584853303,
          1.918737536091971,
          1.927549513698608,
          1.9363614913052452,
          1.9451734689118787,
          1.9539854465185194,
          1.9627974241251565,
          1.9716094017317936,
          1.9804213793384307,
          1.9892333569450678,
          1.9980453345517049,
          2.006857312158342,
          2.015669289764979,
          2.024481267371616,
          2.0332932449782533,
          2.0421052225848904,
          2.0509172001915275,
          2.0597291777981646,
          2.068541155404805,
          2.0773531330114388,
          2.086165110618076,
          2.094977088224713
         ]
        }
       ],
       "layout": {
        "height": 500,
        "template": {
         "data": {
          "bar": [
           {
            "error_x": {
             "color": "#2a3f5f"
            },
            "error_y": {
             "color": "#2a3f5f"
            },
            "marker": {
             "line": {
              "color": "#E5ECF6",
              "width": 0.5
             }
            },
            "type": "bar"
           }
          ],
          "barpolar": [
           {
            "marker": {
             "line": {
              "color": "#E5ECF6",
              "width": 0.5
             }
            },
            "type": "barpolar"
           }
          ],
          "carpet": [
           {
            "aaxis": {
             "endlinecolor": "#2a3f5f",
             "gridcolor": "white",
             "linecolor": "white",
             "minorgridcolor": "white",
             "startlinecolor": "#2a3f5f"
            },
            "baxis": {
             "endlinecolor": "#2a3f5f",
             "gridcolor": "white",
             "linecolor": "white",
             "minorgridcolor": "white",
             "startlinecolor": "#2a3f5f"
            },
            "type": "carpet"
           }
          ],
          "choropleth": [
           {
            "colorbar": {
             "outlinewidth": 0,
             "ticks": ""
            },
            "type": "choropleth"
           }
          ],
          "contour": [
           {
            "colorbar": {
             "outlinewidth": 0,
             "ticks": ""
            },
            "colorscale": [
             [
              0,
              "#0d0887"
             ],
             [
              0.1111111111111111,
              "#46039f"
             ],
             [
              0.2222222222222222,
              "#7201a8"
             ],
             [
              0.3333333333333333,
              "#9c179e"
             ],
             [
              0.4444444444444444,
              "#bd3786"
             ],
             [
              0.5555555555555556,
              "#d8576b"
             ],
             [
              0.6666666666666666,
              "#ed7953"
             ],
             [
              0.7777777777777778,
              "#fb9f3a"
             ],
             [
              0.8888888888888888,
              "#fdca26"
             ],
             [
              1,
              "#f0f921"
             ]
            ],
            "type": "contour"
           }
          ],
          "contourcarpet": [
           {
            "colorbar": {
             "outlinewidth": 0,
             "ticks": ""
            },
            "type": "contourcarpet"
           }
          ],
          "heatmap": [
           {
            "colorbar": {
             "outlinewidth": 0,
             "ticks": ""
            },
            "colorscale": [
             [
              0,
              "#0d0887"
             ],
             [
              0.1111111111111111,
              "#46039f"
             ],
             [
              0.2222222222222222,
              "#7201a8"
             ],
             [
              0.3333333333333333,
              "#9c179e"
             ],
             [
              0.4444444444444444,
              "#bd3786"
             ],
             [
              0.5555555555555556,
              "#d8576b"
             ],
             [
              0.6666666666666666,
              "#ed7953"
             ],
             [
              0.7777777777777778,
              "#fb9f3a"
             ],
             [
              0.8888888888888888,
              "#fdca26"
             ],
             [
              1,
              "#f0f921"
             ]
            ],
            "type": "heatmap"
           }
          ],
          "heatmapgl": [
           {
            "colorbar": {
             "outlinewidth": 0,
             "ticks": ""
            },
            "colorscale": [
             [
              0,
              "#0d0887"
             ],
             [
              0.1111111111111111,
              "#46039f"
             ],
             [
              0.2222222222222222,
              "#7201a8"
             ],
             [
              0.3333333333333333,
              "#9c179e"
             ],
             [
              0.4444444444444444,
              "#bd3786"
             ],
             [
              0.5555555555555556,
              "#d8576b"
             ],
             [
              0.6666666666666666,
              "#ed7953"
             ],
             [
              0.7777777777777778,
              "#fb9f3a"
             ],
             [
              0.8888888888888888,
              "#fdca26"
             ],
             [
              1,
              "#f0f921"
             ]
            ],
            "type": "heatmapgl"
           }
          ],
          "histogram": [
           {
            "marker": {
             "colorbar": {
              "outlinewidth": 0,
              "ticks": ""
             }
            },
            "type": "histogram"
           }
          ],
          "histogram2d": [
           {
            "colorbar": {
             "outlinewidth": 0,
             "ticks": ""
            },
            "colorscale": [
             [
              0,
              "#0d0887"
             ],
             [
              0.1111111111111111,
              "#46039f"
             ],
             [
              0.2222222222222222,
              "#7201a8"
             ],
             [
              0.3333333333333333,
              "#9c179e"
             ],
             [
              0.4444444444444444,
              "#bd3786"
             ],
             [
              0.5555555555555556,
              "#d8576b"
             ],
             [
              0.6666666666666666,
              "#ed7953"
             ],
             [
              0.7777777777777778,
              "#fb9f3a"
             ],
             [
              0.8888888888888888,
              "#fdca26"
             ],
             [
              1,
              "#f0f921"
             ]
            ],
            "type": "histogram2d"
           }
          ],
          "histogram2dcontour": [
           {
            "colorbar": {
             "outlinewidth": 0,
             "ticks": ""
            },
            "colorscale": [
             [
              0,
              "#0d0887"
             ],
             [
              0.1111111111111111,
              "#46039f"
             ],
             [
              0.2222222222222222,
              "#7201a8"
             ],
             [
              0.3333333333333333,
              "#9c179e"
             ],
             [
              0.4444444444444444,
              "#bd3786"
             ],
             [
              0.5555555555555556,
              "#d8576b"
             ],
             [
              0.6666666666666666,
              "#ed7953"
             ],
             [
              0.7777777777777778,
              "#fb9f3a"
             ],
             [
              0.8888888888888888,
              "#fdca26"
             ],
             [
              1,
              "#f0f921"
             ]
            ],
            "type": "histogram2dcontour"
           }
          ],
          "mesh3d": [
           {
            "colorbar": {
             "outlinewidth": 0,
             "ticks": ""
            },
            "type": "mesh3d"
           }
          ],
          "parcoords": [
           {
            "line": {
             "colorbar": {
              "outlinewidth": 0,
              "ticks": ""
             }
            },
            "type": "parcoords"
           }
          ],
          "scatter": [
           {
            "marker": {
             "colorbar": {
              "outlinewidth": 0,
              "ticks": ""
             }
            },
            "type": "scatter"
           }
          ],
          "scatter3d": [
           {
            "line": {
             "colorbar": {
              "outlinewidth": 0,
              "ticks": ""
             }
            },
            "marker": {
             "colorbar": {
              "outlinewidth": 0,
              "ticks": ""
             }
            },
            "type": "scatter3d"
           }
          ],
          "scattercarpet": [
           {
            "marker": {
             "colorbar": {
              "outlinewidth": 0,
              "ticks": ""
             }
            },
            "type": "scattercarpet"
           }
          ],
          "scattergeo": [
           {
            "marker": {
             "colorbar": {
              "outlinewidth": 0,
              "ticks": ""
             }
            },
            "type": "scattergeo"
           }
          ],
          "scattergl": [
           {
            "marker": {
             "colorbar": {
              "outlinewidth": 0,
              "ticks": ""
             }
            },
            "type": "scattergl"
           }
          ],
          "scattermapbox": [
           {
            "marker": {
             "colorbar": {
              "outlinewidth": 0,
              "ticks": ""
             }
            },
            "type": "scattermapbox"
           }
          ],
          "scatterpolar": [
           {
            "marker": {
             "colorbar": {
              "outlinewidth": 0,
              "ticks": ""
             }
            },
            "type": "scatterpolar"
           }
          ],
          "scatterpolargl": [
           {
            "marker": {
             "colorbar": {
              "outlinewidth": 0,
              "ticks": ""
             }
            },
            "type": "scatterpolargl"
           }
          ],
          "scatterternary": [
           {
            "marker": {
             "colorbar": {
              "outlinewidth": 0,
              "ticks": ""
             }
            },
            "type": "scatterternary"
           }
          ],
          "surface": [
           {
            "colorbar": {
             "outlinewidth": 0,
             "ticks": ""
            },
            "colorscale": [
             [
              0,
              "#0d0887"
             ],
             [
              0.1111111111111111,
              "#46039f"
             ],
             [
              0.2222222222222222,
              "#7201a8"
             ],
             [
              0.3333333333333333,
              "#9c179e"
             ],
             [
              0.4444444444444444,
              "#bd3786"
             ],
             [
              0.5555555555555556,
              "#d8576b"
             ],
             [
              0.6666666666666666,
              "#ed7953"
             ],
             [
              0.7777777777777778,
              "#fb9f3a"
             ],
             [
              0.8888888888888888,
              "#fdca26"
             ],
             [
              1,
              "#f0f921"
             ]
            ],
            "type": "surface"
           }
          ],
          "table": [
           {
            "cells": {
             "fill": {
              "color": "#EBF0F8"
             },
             "line": {
              "color": "white"
             }
            },
            "header": {
             "fill": {
              "color": "#C8D4E3"
             },
             "line": {
              "color": "white"
             }
            },
            "type": "table"
           }
          ]
         },
         "layout": {
          "annotationdefaults": {
           "arrowcolor": "#2a3f5f",
           "arrowhead": 0,
           "arrowwidth": 1
          },
          "colorscale": {
           "diverging": [
            [
             0,
             "#8e0152"
            ],
            [
             0.1,
             "#c51b7d"
            ],
            [
             0.2,
             "#de77ae"
            ],
            [
             0.3,
             "#f1b6da"
            ],
            [
             0.4,
             "#fde0ef"
            ],
            [
             0.5,
             "#f7f7f7"
            ],
            [
             0.6,
             "#e6f5d0"
            ],
            [
             0.7,
             "#b8e186"
            ],
            [
             0.8,
             "#7fbc41"
            ],
            [
             0.9,
             "#4d9221"
            ],
            [
             1,
             "#276419"
            ]
           ],
           "sequential": [
            [
             0,
             "#0d0887"
            ],
            [
             0.1111111111111111,
             "#46039f"
            ],
            [
             0.2222222222222222,
             "#7201a8"
            ],
            [
             0.3333333333333333,
             "#9c179e"
            ],
            [
             0.4444444444444444,
             "#bd3786"
            ],
            [
             0.5555555555555556,
             "#d8576b"
            ],
            [
             0.6666666666666666,
             "#ed7953"
            ],
            [
             0.7777777777777778,
             "#fb9f3a"
            ],
            [
             0.8888888888888888,
             "#fdca26"
            ],
            [
             1,
             "#f0f921"
            ]
           ],
           "sequentialminus": [
            [
             0,
             "#0d0887"
            ],
            [
             0.1111111111111111,
             "#46039f"
            ],
            [
             0.2222222222222222,
             "#7201a8"
            ],
            [
             0.3333333333333333,
             "#9c179e"
            ],
            [
             0.4444444444444444,
             "#bd3786"
            ],
            [
             0.5555555555555556,
             "#d8576b"
            ],
            [
             0.6666666666666666,
             "#ed7953"
            ],
            [
             0.7777777777777778,
             "#fb9f3a"
            ],
            [
             0.8888888888888888,
             "#fdca26"
            ],
            [
             1,
             "#f0f921"
            ]
           ]
          },
          "colorway": [
           "#636efa",
           "#EF553B",
           "#00cc96",
           "#ab63fa",
           "#FFA15A",
           "#19d3f3",
           "#FF6692",
           "#B6E880",
           "#FF97FF",
           "#FECB52"
          ],
          "font": {
           "color": "#2a3f5f"
          },
          "geo": {
           "bgcolor": "white",
           "lakecolor": "white",
           "landcolor": "#E5ECF6",
           "showlakes": true,
           "showland": true,
           "subunitcolor": "white"
          },
          "hoverlabel": {
           "align": "left"
          },
          "hovermode": "closest",
          "mapbox": {
           "style": "light"
          },
          "paper_bgcolor": "white",
          "plot_bgcolor": "#E5ECF6",
          "polar": {
           "angularaxis": {
            "gridcolor": "white",
            "linecolor": "white",
            "ticks": ""
           },
           "bgcolor": "#E5ECF6",
           "radialaxis": {
            "gridcolor": "white",
            "linecolor": "white",
            "ticks": ""
           }
          },
          "scene": {
           "xaxis": {
            "backgroundcolor": "#E5ECF6",
            "gridcolor": "white",
            "gridwidth": 2,
            "linecolor": "white",
            "showbackground": true,
            "ticks": "",
            "zerolinecolor": "white"
           },
           "yaxis": {
            "backgroundcolor": "#E5ECF6",
            "gridcolor": "white",
            "gridwidth": 2,
            "linecolor": "white",
            "showbackground": true,
            "ticks": "",
            "zerolinecolor": "white"
           },
           "zaxis": {
            "backgroundcolor": "#E5ECF6",
            "gridcolor": "white",
            "gridwidth": 2,
            "linecolor": "white",
            "showbackground": true,
            "ticks": "",
            "zerolinecolor": "white"
           }
          },
          "shapedefaults": {
           "line": {
            "color": "#2a3f5f"
           }
          },
          "ternary": {
           "aaxis": {
            "gridcolor": "white",
            "linecolor": "white",
            "ticks": ""
           },
           "baxis": {
            "gridcolor": "white",
            "linecolor": "white",
            "ticks": ""
           },
           "bgcolor": "#E5ECF6",
           "caxis": {
            "gridcolor": "white",
            "linecolor": "white",
            "ticks": ""
           }
          },
          "title": {
           "x": 0.05
          },
          "xaxis": {
           "automargin": true,
           "gridcolor": "white",
           "linecolor": "white",
           "ticks": "",
           "zerolinecolor": "white",
           "zerolinewidth": 2
          },
          "yaxis": {
           "automargin": true,
           "gridcolor": "white",
           "linecolor": "white",
           "ticks": "",
           "zerolinecolor": "white",
           "zerolinewidth": 2
          }
         }
        },
        "title": {
         "text": "Логарифмическая зависимость мощности от температуры"
        },
        "width": 800,
        "xaxis": {
         "title": {
          "text": "log(T)"
         }
        },
        "yaxis": {
         "title": {
          "text": "log(W)"
         }
        }
       }
      },
      "text/html": [
       "<div>\n",
       "        \n",
       "        \n",
       "            <div id=\"46b4f7d2-60d1-42dc-82f4-4c4aaeb85f11\" class=\"plotly-graph-div\" style=\"height:500px; width:800px;\"></div>\n",
       "            <script type=\"text/javascript\">\n",
       "                require([\"plotly\"], function(Plotly) {\n",
       "                    window.PLOTLYENV=window.PLOTLYENV || {};\n",
       "                    \n",
       "                if (document.getElementById(\"46b4f7d2-60d1-42dc-82f4-4c4aaeb85f11\")) {\n",
       "                    Plotly.newPlot(\n",
       "                        '46b4f7d2-60d1-42dc-82f4-4c4aaeb85f11',\n",
       "                        [{\"error_y\": {\"type\": \"constant\", \"value\": 0.1}, \"mode\": \"markers\", \"name\": \"\\u0418\\u0437\\u043c\\u0435\\u0440\\u0435\\u043d\\u0438\\u044f\", \"type\": \"scatter\", \"x\": [6.993932975223189, 7.047517221357296, 7.1308988302963465, 7.188412736496954, 7.234177179749849, 7.27931883541462, 7.313220387090301, 7.355001921105257, 7.4205789054108005, 7.440146680662688, 7.451241684987676, 7.495541943884256, 7.549609165154532, 7.580699752224563], \"y\": [0.3867035387230986, 0.6319816312185927, 0.7665351793092914, 0.7918334730586432, 0.9501919368831095, 1.09266128317467, 1.388314818620272, 1.4630482048661961, 1.541710311583125, 1.638586921984224, 1.7275249018918466, 1.7864162194603346, 2.0426932695237636, 2.2147588386274655]}, {\"name\": \"\\u041b\\u0438\\u043d\\u0435\\u0439\\u043d\\u0430\\u044f \\u0430\\u043f\\u0440\\u043e\\u043a\\u0441\\u0438\\u043c\\u0430\\u0446\\u0438\\u044f\", \"type\": \"scatter\", \"x\": [6.993932975223189, 6.996881551992041, 6.999830128760892, 7.002778705529742, 7.005727282298594, 7.008675859067445, 7.011624435836296, 7.0145730126051475, 7.017521589373998, 7.020470166142849, 7.0234187429117005, 7.026367319680552, 7.029315896449403, 7.0322644732182535, 7.035213049987105, 7.038161626755956, 7.041110203524807, 7.044058780293659, 7.047007357062509, 7.04995593383136, 7.052904510600212, 7.055853087369063, 7.058801664137914, 7.061750240906765, 7.064698817675616, 7.067647394444467, 7.070595971213319, 7.07354454798217, 7.076493124751021, 7.079441701519872, 7.082390278288723, 7.085338855057574, 7.0882874318264255, 7.091236008595277, 7.094184585364127, 7.0971331621329785, 7.10008173890183, 7.103030315670681, 7.105978892439532, 7.108927469208383, 7.111876045977234, 7.114824622746085, 7.117773199514937, 7.120721776283788, 7.123670353052638, 7.12661892982149, 7.129567506590341, 7.132516083359192, 7.135464660128044, 7.138413236896894, 7.141361813665745, 7.144310390434597, 7.147258967203448, 7.150207543972299, 7.15315612074115, 7.156104697510001, 7.159053274278852, 7.1620018510477035, 7.164950427816555, 7.167899004585405, 7.1708475813542565, 7.173796158123108, 7.176744734891959, 7.17969331166081, 7.182641888429661, 7.185590465198512, 7.188539041967363, 7.191487618736215, 7.194436195505066, 7.197384772273917, 7.200333349042768, 7.203281925811619, 7.20623050258047, 7.209179079349322, 7.212127656118172, 7.215076232887023, 7.218024809655875, 7.220973386424726, 7.223921963193577, 7.2268705399624285, 7.229819116731279, 7.23276769350013, 7.2357162702689815, 7.238664847037833, 7.241613423806684, 7.2445620005755345, 7.247510577344386, 7.250459154113237, 7.253407730882088, 7.25635630765094, 7.25930488441979, 7.262253461188641, 7.265202037957493, 7.268150614726344, 7.271099191495195, 7.274047768264046, 7.276996345032897, 7.279944921801748, 7.2828934985705995, 7.285842075339451, 7.288790652108301, 7.2917392288771525, 7.294687805646004, 7.297636382414855, 7.300584959183706, 7.303533535952557, 7.306482112721408, 7.309430689490259, 7.312379266259111, 7.315327843027962, 7.318276419796812, 7.321224996565664, 7.324173573334515, 7.327122150103366, 7.330070726872218, 7.333019303641068, 7.335967880409919, 7.338916457178771, 7.341865033947622, 7.344813610716473, 7.3477621874853245, 7.350710764254175, 7.353659341023026, 7.3566079177918775, 7.359556494560729, 7.362505071329579, 7.3654536480984305, 7.368402224867282, 7.371350801636133, 7.374299378404984, 7.377247955173836, 7.380196531942686, 7.383145108711537, 7.386093685480389, 7.38904226224924, 7.391990839018091, 7.394939415786942, 7.397887992555793, 7.400836569324644, 7.403785146093496, 7.406733722862347, 7.409682299631197, 7.412630876400049, 7.4155794531689, 7.418528029937751, 7.4214766067066025, 7.424425183475453, 7.427373760244304, 7.4303223370131555, 7.433270913782007, 7.436219490550858, 7.4391680673197085, 7.44211664408856, 7.445065220857411, 7.448013797626262, 7.450962374395114, 7.453910951163964, 7.456859527932815, 7.459808104701667, 7.462756681470518, 7.465705258239369, 7.4686538350082206, 7.471602411777071, 7.474550988545922, 7.4774995653147736, 7.480448142083625, 7.483396718852475, 7.486345295621327, 7.489293872390178, 7.492242449159029, 7.4951910259278804, 7.498139602696732, 7.501088179465582, 7.5040367562344334, 7.506985333003285, 7.509933909772136, 7.5128824865409864, 7.515831063309838, 7.518779640078689, 7.52172821684754, 7.524676793616392, 7.527625370385243, 7.530573947154093, 7.533522523922945, 7.536471100691796, 7.539419677460647, 7.5423682542294985, 7.545316830998349, 7.5482654077672, 7.5512139845360515, 7.554162561304903, 7.557111138073754, 7.5600597148426045, 7.563008291611456, 7.565956868380307, 7.568905445149158, 7.57185402191801, 7.57480259868686, 7.577751175455711, 7.580699752224563], \"y\": [0.341393544503898, 0.35020552211053513, 0.35901749971717223, 0.36782947732380933, 0.37664145493044643, 0.38545343253708353, 0.39426541014372063, 0.40307738775035773, 0.41188936535699483, 0.42070134296363193, 0.42951332057026903, 0.43832529817690613, 0.4471372757835468, 0.45594925339018033, 0.46476123099681743, 0.47357320860345453, 0.4823851862100952, 0.4911971638167323, 0.5000091414233658, 0.5088211190300029, 0.5176330966366436, 0.5264450742432807, 0.5352570518499178, 0.5440690294565549, 0.552881007063192, 0.5616929846698291, 0.5705049622764662, 0.5793169398831033, 0.5881289174897439, 0.5969408950963775, 0.6057528727030146, 0.6145648503096517, 0.6233768279162923, 0.6321888055229294, 0.641000783129563, 0.6498127607362001, 0.6586247383428407, 0.6674367159494778, 0.6762486935561149, 0.6850606711627485, 0.6938726487693891, 0.7026846263760262, 0.7114966039826633, 0.7203085815893004, 0.7291205591959375, 0.7379325368025746, 0.7467445144092117, 0.7555564920158488, 0.764368469622486, 0.773180447229123, 0.7819924248357601, 0.7908044024423972, 0.7996163800490343, 0.808428357655675, 0.8172403352623085, 0.8260523128689456, 0.8348642904755827, 0.8436762680822234, 0.8524882456888605, 0.861300223295494, 0.8701122009021347, 0.8789241785087718, 0.8877361561154089, 0.896548133722046, 0.9053601113286831, 0.9141720889353202, 0.9229840665419573, 0.9317960441485944, 0.9406080217552315, 0.9494199993618722, 0.9582319769685057, 0.9670439545751428, 0.9758559321817799, 0.9846679097884206, 0.9934798873950541, 1.0022918650016912, 1.0111038426083283, 1.019915820214969, 1.028727797821606, 1.0375397754282432, 1.0463517530348767, 1.0551637306415174, 1.0639757082481545, 1.0727876858547916, 1.0815996634614287, 1.0904116410680658, 1.0992236186747029, 1.10803559628134, 1.116847573887977, 1.1256595514946142, 1.1344715291012513, 1.1432835067078884, 1.1520954843145255, 1.1609074619211626, 1.1697194395278032, 1.1785314171344368, 1.1873433947410739, 1.1961553723477145, 1.2049673499543516, 1.2137793275609887, 1.2225913051676223, 1.231403282774263, 1.2402152603809, 1.2490272379875371, 1.2578392155941742, 1.2666511932008113, 1.2754631708074484, 1.2842751484140855, 1.2930871260207226, 1.3018991036273597, 1.3107110812339968, 1.319523058840634, 1.328335036447271, 1.3371470140539081, 1.3459589916605488, 1.3547709692671823, 1.3635829468738194, 1.3723949244804565, 1.3812069020870972, 1.3900188796937343, 1.3988308573003714, 1.407642834907005, 1.4164548125136456, 1.4252667901202827, 1.4340787677269198, 1.4428907453335569, 1.451702722940194, 1.460514700546831, 1.4693266781534682, 1.4781386557601053, 1.4869506333667424, 1.4957626109733795, 1.5045745885800166, 1.5133865661866537, 1.5221985437932943, 1.5310105213999314, 1.539822499006565, 1.548634476613202, 1.5574464542198427, 1.5662584318264798, 1.575070409433117, 1.5838823870397505, 1.5926943646463911, 1.6015063422530282, 1.6103183198596653, 1.6191302974663024, 1.6279422750729395, 1.6367542526795766, 1.6455662302862137, 1.6543782078928508, 1.663190185499488, 1.672002163106125, 1.6808141407127621, 1.6896261183193992, 1.6984380959260363, 1.707250073532677, 1.7160620511393105, 1.7248740287459476, 1.7336860063525847, 1.7424979839592254, 1.7513099615658625, 1.7601219391724996, 1.7689339167791331, 1.7777458943857738, 1.786557871992411, 1.795369849599048, 1.804181827205685, 1.8129938048123222, 1.8218057824189593, 1.8306177600255964, 1.8394297376322335, 1.8482417152388741, 1.8570536928455077, 1.8658656704521448, 1.874677648058782, 1.8834896256654226, 1.892301603272056, 1.9011135808786932, 1.9099255584853303, 1.918737536091971, 1.927549513698608, 1.9363614913052452, 1.9451734689118787, 1.9539854465185194, 1.9627974241251565, 1.9716094017317936, 1.9804213793384307, 1.9892333569450678, 1.9980453345517049, 2.006857312158342, 2.015669289764979, 2.024481267371616, 2.0332932449782533, 2.0421052225848904, 2.0509172001915275, 2.0597291777981646, 2.068541155404805, 2.0773531330114388, 2.086165110618076, 2.094977088224713]}],\n",
       "                        {\"height\": 500, \"template\": {\"data\": {\"bar\": [{\"error_x\": {\"color\": \"#2a3f5f\"}, \"error_y\": {\"color\": \"#2a3f5f\"}, \"marker\": {\"line\": {\"color\": \"#E5ECF6\", \"width\": 0.5}}, \"type\": \"bar\"}], \"barpolar\": [{\"marker\": {\"line\": {\"color\": \"#E5ECF6\", \"width\": 0.5}}, \"type\": \"barpolar\"}], \"carpet\": [{\"aaxis\": {\"endlinecolor\": \"#2a3f5f\", \"gridcolor\": \"white\", \"linecolor\": \"white\", \"minorgridcolor\": \"white\", \"startlinecolor\": \"#2a3f5f\"}, \"baxis\": {\"endlinecolor\": \"#2a3f5f\", \"gridcolor\": \"white\", \"linecolor\": \"white\", \"minorgridcolor\": \"white\", \"startlinecolor\": \"#2a3f5f\"}, \"type\": \"carpet\"}], \"choropleth\": [{\"colorbar\": {\"outlinewidth\": 0, \"ticks\": \"\"}, \"type\": \"choropleth\"}], \"contour\": [{\"colorbar\": {\"outlinewidth\": 0, \"ticks\": \"\"}, \"colorscale\": [[0.0, \"#0d0887\"], [0.1111111111111111, \"#46039f\"], [0.2222222222222222, \"#7201a8\"], [0.3333333333333333, \"#9c179e\"], [0.4444444444444444, \"#bd3786\"], [0.5555555555555556, \"#d8576b\"], [0.6666666666666666, \"#ed7953\"], [0.7777777777777778, \"#fb9f3a\"], [0.8888888888888888, \"#fdca26\"], [1.0, \"#f0f921\"]], \"type\": \"contour\"}], \"contourcarpet\": [{\"colorbar\": {\"outlinewidth\": 0, \"ticks\": \"\"}, \"type\": \"contourcarpet\"}], \"heatmap\": [{\"colorbar\": {\"outlinewidth\": 0, \"ticks\": \"\"}, \"colorscale\": [[0.0, \"#0d0887\"], [0.1111111111111111, \"#46039f\"], [0.2222222222222222, \"#7201a8\"], [0.3333333333333333, \"#9c179e\"], [0.4444444444444444, \"#bd3786\"], [0.5555555555555556, \"#d8576b\"], [0.6666666666666666, \"#ed7953\"], [0.7777777777777778, \"#fb9f3a\"], [0.8888888888888888, \"#fdca26\"], [1.0, \"#f0f921\"]], \"type\": \"heatmap\"}], \"heatmapgl\": [{\"colorbar\": {\"outlinewidth\": 0, \"ticks\": \"\"}, \"colorscale\": [[0.0, \"#0d0887\"], [0.1111111111111111, \"#46039f\"], [0.2222222222222222, \"#7201a8\"], [0.3333333333333333, \"#9c179e\"], [0.4444444444444444, \"#bd3786\"], [0.5555555555555556, \"#d8576b\"], [0.6666666666666666, \"#ed7953\"], [0.7777777777777778, \"#fb9f3a\"], [0.8888888888888888, \"#fdca26\"], [1.0, \"#f0f921\"]], \"type\": \"heatmapgl\"}], \"histogram\": [{\"marker\": {\"colorbar\": {\"outlinewidth\": 0, \"ticks\": \"\"}}, \"type\": \"histogram\"}], \"histogram2d\": [{\"colorbar\": {\"outlinewidth\": 0, \"ticks\": \"\"}, \"colorscale\": [[0.0, \"#0d0887\"], [0.1111111111111111, \"#46039f\"], [0.2222222222222222, \"#7201a8\"], [0.3333333333333333, \"#9c179e\"], [0.4444444444444444, \"#bd3786\"], [0.5555555555555556, \"#d8576b\"], [0.6666666666666666, \"#ed7953\"], [0.7777777777777778, \"#fb9f3a\"], [0.8888888888888888, \"#fdca26\"], [1.0, \"#f0f921\"]], \"type\": \"histogram2d\"}], \"histogram2dcontour\": [{\"colorbar\": {\"outlinewidth\": 0, \"ticks\": \"\"}, \"colorscale\": [[0.0, \"#0d0887\"], [0.1111111111111111, \"#46039f\"], [0.2222222222222222, \"#7201a8\"], [0.3333333333333333, \"#9c179e\"], [0.4444444444444444, \"#bd3786\"], [0.5555555555555556, \"#d8576b\"], [0.6666666666666666, \"#ed7953\"], [0.7777777777777778, \"#fb9f3a\"], [0.8888888888888888, \"#fdca26\"], [1.0, \"#f0f921\"]], \"type\": \"histogram2dcontour\"}], \"mesh3d\": [{\"colorbar\": {\"outlinewidth\": 0, \"ticks\": \"\"}, \"type\": \"mesh3d\"}], \"parcoords\": [{\"line\": {\"colorbar\": {\"outlinewidth\": 0, \"ticks\": \"\"}}, \"type\": \"parcoords\"}], \"scatter\": [{\"marker\": {\"colorbar\": {\"outlinewidth\": 0, \"ticks\": \"\"}}, \"type\": \"scatter\"}], \"scatter3d\": [{\"line\": {\"colorbar\": {\"outlinewidth\": 0, \"ticks\": \"\"}}, \"marker\": {\"colorbar\": {\"outlinewidth\": 0, \"ticks\": \"\"}}, \"type\": \"scatter3d\"}], \"scattercarpet\": [{\"marker\": {\"colorbar\": {\"outlinewidth\": 0, \"ticks\": \"\"}}, \"type\": \"scattercarpet\"}], \"scattergeo\": [{\"marker\": {\"colorbar\": {\"outlinewidth\": 0, \"ticks\": \"\"}}, \"type\": \"scattergeo\"}], \"scattergl\": [{\"marker\": {\"colorbar\": {\"outlinewidth\": 0, \"ticks\": \"\"}}, \"type\": \"scattergl\"}], \"scattermapbox\": [{\"marker\": {\"colorbar\": {\"outlinewidth\": 0, \"ticks\": \"\"}}, \"type\": \"scattermapbox\"}], \"scatterpolar\": [{\"marker\": {\"colorbar\": {\"outlinewidth\": 0, \"ticks\": \"\"}}, \"type\": \"scatterpolar\"}], \"scatterpolargl\": [{\"marker\": {\"colorbar\": {\"outlinewidth\": 0, \"ticks\": \"\"}}, \"type\": \"scatterpolargl\"}], \"scatterternary\": [{\"marker\": {\"colorbar\": {\"outlinewidth\": 0, \"ticks\": \"\"}}, \"type\": \"scatterternary\"}], \"surface\": [{\"colorbar\": {\"outlinewidth\": 0, \"ticks\": \"\"}, \"colorscale\": [[0.0, \"#0d0887\"], [0.1111111111111111, \"#46039f\"], [0.2222222222222222, \"#7201a8\"], [0.3333333333333333, \"#9c179e\"], [0.4444444444444444, \"#bd3786\"], [0.5555555555555556, \"#d8576b\"], [0.6666666666666666, \"#ed7953\"], [0.7777777777777778, \"#fb9f3a\"], [0.8888888888888888, \"#fdca26\"], [1.0, \"#f0f921\"]], \"type\": \"surface\"}], \"table\": [{\"cells\": {\"fill\": {\"color\": \"#EBF0F8\"}, \"line\": {\"color\": \"white\"}}, \"header\": {\"fill\": {\"color\": \"#C8D4E3\"}, \"line\": {\"color\": \"white\"}}, \"type\": \"table\"}]}, \"layout\": {\"annotationdefaults\": {\"arrowcolor\": \"#2a3f5f\", \"arrowhead\": 0, \"arrowwidth\": 1}, \"colorscale\": {\"diverging\": [[0, \"#8e0152\"], [0.1, \"#c51b7d\"], [0.2, \"#de77ae\"], [0.3, \"#f1b6da\"], [0.4, \"#fde0ef\"], [0.5, \"#f7f7f7\"], [0.6, \"#e6f5d0\"], [0.7, \"#b8e186\"], [0.8, \"#7fbc41\"], [0.9, \"#4d9221\"], [1, \"#276419\"]], \"sequential\": [[0.0, \"#0d0887\"], [0.1111111111111111, \"#46039f\"], [0.2222222222222222, \"#7201a8\"], [0.3333333333333333, \"#9c179e\"], [0.4444444444444444, \"#bd3786\"], [0.5555555555555556, \"#d8576b\"], [0.6666666666666666, \"#ed7953\"], [0.7777777777777778, \"#fb9f3a\"], [0.8888888888888888, \"#fdca26\"], [1.0, \"#f0f921\"]], \"sequentialminus\": [[0.0, \"#0d0887\"], [0.1111111111111111, \"#46039f\"], [0.2222222222222222, \"#7201a8\"], [0.3333333333333333, \"#9c179e\"], [0.4444444444444444, \"#bd3786\"], [0.5555555555555556, \"#d8576b\"], [0.6666666666666666, \"#ed7953\"], [0.7777777777777778, \"#fb9f3a\"], [0.8888888888888888, \"#fdca26\"], [1.0, \"#f0f921\"]]}, \"colorway\": [\"#636efa\", \"#EF553B\", \"#00cc96\", \"#ab63fa\", \"#FFA15A\", \"#19d3f3\", \"#FF6692\", \"#B6E880\", \"#FF97FF\", \"#FECB52\"], \"font\": {\"color\": \"#2a3f5f\"}, \"geo\": {\"bgcolor\": \"white\", \"lakecolor\": \"white\", \"landcolor\": \"#E5ECF6\", \"showlakes\": true, \"showland\": true, \"subunitcolor\": \"white\"}, \"hoverlabel\": {\"align\": \"left\"}, \"hovermode\": \"closest\", \"mapbox\": {\"style\": \"light\"}, \"paper_bgcolor\": \"white\", \"plot_bgcolor\": \"#E5ECF6\", \"polar\": {\"angularaxis\": {\"gridcolor\": \"white\", \"linecolor\": \"white\", \"ticks\": \"\"}, \"bgcolor\": \"#E5ECF6\", \"radialaxis\": {\"gridcolor\": \"white\", \"linecolor\": \"white\", \"ticks\": \"\"}}, \"scene\": {\"xaxis\": {\"backgroundcolor\": \"#E5ECF6\", \"gridcolor\": \"white\", \"gridwidth\": 2, \"linecolor\": \"white\", \"showbackground\": true, \"ticks\": \"\", \"zerolinecolor\": \"white\"}, \"yaxis\": {\"backgroundcolor\": \"#E5ECF6\", \"gridcolor\": \"white\", \"gridwidth\": 2, \"linecolor\": \"white\", \"showbackground\": true, \"ticks\": \"\", \"zerolinecolor\": \"white\"}, \"zaxis\": {\"backgroundcolor\": \"#E5ECF6\", \"gridcolor\": \"white\", \"gridwidth\": 2, \"linecolor\": \"white\", \"showbackground\": true, \"ticks\": \"\", \"zerolinecolor\": \"white\"}}, \"shapedefaults\": {\"line\": {\"color\": \"#2a3f5f\"}}, \"ternary\": {\"aaxis\": {\"gridcolor\": \"white\", \"linecolor\": \"white\", \"ticks\": \"\"}, \"baxis\": {\"gridcolor\": \"white\", \"linecolor\": \"white\", \"ticks\": \"\"}, \"bgcolor\": \"#E5ECF6\", \"caxis\": {\"gridcolor\": \"white\", \"linecolor\": \"white\", \"ticks\": \"\"}}, \"title\": {\"x\": 0.05}, \"xaxis\": {\"automargin\": true, \"gridcolor\": \"white\", \"linecolor\": \"white\", \"ticks\": \"\", \"zerolinecolor\": \"white\", \"zerolinewidth\": 2}, \"yaxis\": {\"automargin\": true, \"gridcolor\": \"white\", \"linecolor\": \"white\", \"ticks\": \"\", \"zerolinecolor\": \"white\", \"zerolinewidth\": 2}}}, \"title\": {\"text\": \"\\u041b\\u043e\\u0433\\u0430\\u0440\\u0438\\u0444\\u043c\\u0438\\u0447\\u0435\\u0441\\u043a\\u0430\\u044f \\u0437\\u0430\\u0432\\u0438\\u0441\\u0438\\u043c\\u043e\\u0441\\u0442\\u044c \\u043c\\u043e\\u0449\\u043d\\u043e\\u0441\\u0442\\u0438 \\u043e\\u0442 \\u0442\\u0435\\u043c\\u043f\\u0435\\u0440\\u0430\\u0442\\u0443\\u0440\\u044b\"}, \"width\": 800, \"xaxis\": {\"title\": {\"text\": \"log(T)\"}}, \"yaxis\": {\"title\": {\"text\": \"log(W)\"}}},\n",
       "                        {\"responsive\": true}\n",
       "                    ).then(function(){\n",
       "                            \n",
       "var gd = document.getElementById('46b4f7d2-60d1-42dc-82f4-4c4aaeb85f11');\n",
       "var x = new MutationObserver(function (mutations, observer) {{\n",
       "        var display = window.getComputedStyle(gd).display;\n",
       "        if (!display || display === 'none') {{\n",
       "            console.log([gd, 'removed!']);\n",
       "            Plotly.purge(gd);\n",
       "            observer.disconnect();\n",
       "        }}\n",
       "}});\n",
       "\n",
       "// Listen for the removal of the full notebook cells\n",
       "var notebookContainer = gd.closest('#notebook-container');\n",
       "if (notebookContainer) {{\n",
       "    x.observe(notebookContainer, {childList: true});\n",
       "}}\n",
       "\n",
       "// Listen for the clearing of the current output cell\n",
       "var outputEl = gd.closest('.output');\n",
       "if (outputEl) {{\n",
       "    x.observe(outputEl, {childList: true});\n",
       "}}\n",
       "\n",
       "                        })\n",
       "                };\n",
       "                });\n",
       "            </script>\n",
       "        </div>"
      ]
     },
     "metadata": {},
     "output_type": "display_data"
    }
   ],
   "source": [
    "points = go.Scatter({\n",
    "    'x': np.log(x),\n",
    "    'y': np.log(y),\n",
    "    'name': 'Измерения',  \n",
    "    'error_y': {\n",
    "        'type': 'constant',\n",
    "        'value':0.1,\n",
    "    },\n",
    "    'mode': 'markers'\n",
    "    })\n",
    "\n",
    "x_linspace = np.linspace(min(np.log(x)), max(np.log(x)), 200)\n",
    "\n",
    "n_1, ln_eps, sig_n1, sig_ln_eps = leastsqr(np.log(x), np.log(y))\n",
    "\n",
    "linear_approx = go.Scatter({\n",
    "    'x': x_linspace,\n",
    "    'y': n_1 * x_linspace + ln_eps,\n",
    "    'name': 'Линейная апроксимация',\n",
    "    \n",
    "})\n",
    "\n",
    "layout = go.Layout({\n",
    "    'title': 'Логарифмическая зависимость мощности от температуры',\n",
    "    'height': 500,\n",
    "    'width': 800,\n",
    "    'xaxis': {\n",
    "        'title': 'log(T)'\n",
    "    },\n",
    "    'yaxis': {\n",
    "        'title': 'log(W)'\n",
    "    }\n",
    "})\n",
    "print('Коэффициент наклона прямой: {0:.2f}±{1:.2f}'.format(n_1, sig_n1))\n",
    "go.Figure(data=[points, linear_approx], layout=layout) "
   ]
  },
  {
   "cell_type": "markdown",
   "metadata": {},
   "source": [
    "Если выкинуть все значения меньше 1700K получим:"
   ]
  },
  {
   "cell_type": "code",
   "execution_count": 88,
   "metadata": {
    "ExecuteTime": {
     "end_time": "2019-09-06T12:29:12.466520Z",
     "start_time": "2019-09-06T12:29:12.164412Z"
    }
   },
   "outputs": [
    {
     "name": "stdout",
     "output_type": "stream",
     "text": [
      "Коэффициент наклона прямой: 3.92±0.26\n"
     ]
    },
    {
     "data": {
      "application/vnd.plotly.v1+json": {
       "config": {
        "plotlyServerURL": "https://plot.ly"
       },
       "data": [
        {
         "error_y": {
          "type": "constant",
          "value": 0.1
         },
         "mode": "markers",
         "name": "Измерения",
         "type": "scatter",
         "x": [
          7.4205789054108005,
          7.440146680662688,
          7.451241684987676,
          7.495541943884256,
          7.549609165154532,
          7.580699752224563
         ],
         "y": [
          1.541710311583125,
          1.638586921984224,
          1.7275249018918466,
          1.7864162194603346,
          2.0426932695237636,
          2.2147588386274655
         ]
        },
        {
         "name": "Линейная апроксимация",
         "type": "scatter",
         "x": [
          7.4205789054108005,
          7.421383532781724,
          7.422188160152647,
          7.422992787523571,
          7.423797414894494,
          7.424602042265418,
          7.425406669636341,
          7.4262112970072645,
          7.427015924378188,
          7.427820551749111,
          7.428625179120035,
          7.429429806490958,
          7.430234433861882,
          7.431039061232805,
          7.4318436886037285,
          7.432648315974652,
          7.433452943345575,
          7.434257570716499,
          7.435062198087422,
          7.435866825458346,
          7.436671452829269,
          7.4374760802001925,
          7.438280707571116,
          7.439085334942039,
          7.439889962312963,
          7.440694589683886,
          7.44149921705481,
          7.442303844425733,
          7.4431084717966565,
          7.44391309916758,
          7.444717726538503,
          7.445522353909427,
          7.44632698128035,
          7.447131608651274,
          7.447936236022197,
          7.4487408633931205,
          7.449545490764044,
          7.450350118134967,
          7.451154745505891,
          7.451959372876814,
          7.452764000247738,
          7.453568627618661,
          7.4543732549895845,
          7.455177882360508,
          7.455982509731431,
          7.456787137102355,
          7.457591764473278,
          7.458396391844202,
          7.459201019215125,
          7.4600056465860485,
          7.460810273956972,
          7.461614901327895,
          7.462419528698819,
          7.463224156069742,
          7.464028783440666,
          7.464833410811589,
          7.4656380381825125,
          7.466442665553436,
          7.467247292924359,
          7.468051920295283,
          7.468856547666206,
          7.46966117503713,
          7.470465802408053,
          7.4712704297789765,
          7.4720750571499,
          7.472879684520823,
          7.473684311891747,
          7.47448893926267,
          7.475293566633594,
          7.476098194004517,
          7.4769028213754405,
          7.477707448746364,
          7.478512076117287,
          7.479316703488211,
          7.480121330859134,
          7.480925958230058,
          7.481730585600981,
          7.4825352129719045,
          7.483339840342828,
          7.484144467713751,
          7.484949095084675,
          7.485753722455598,
          7.486558349826522,
          7.487362977197445,
          7.4881676045683685,
          7.488972231939292,
          7.489776859310215,
          7.490581486681139,
          7.491386114052062,
          7.492190741422986,
          7.492995368793909,
          7.4937999961648325,
          7.494604623535756,
          7.495409250906679,
          7.496213878277603,
          7.497018505648526,
          7.49782313301945,
          7.498627760390373,
          7.4994323877612965,
          7.50023701513222,
          7.501041642503143,
          7.501846269874067,
          7.50265089724499,
          7.503455524615914,
          7.504260151986837,
          7.5050647793577605,
          7.505869406728684,
          7.506674034099607,
          7.507478661470531,
          7.508283288841454,
          7.509087916212378,
          7.509892543583301,
          7.5106971709542245,
          7.511501798325148,
          7.512306425696071,
          7.513111053066995,
          7.513915680437918,
          7.514720307808842,
          7.515524935179765,
          7.5163295625506885,
          7.517134189921612,
          7.517938817292535,
          7.518743444663459,
          7.519548072034382,
          7.520352699405305,
          7.521157326776229,
          7.5219619541471525,
          7.522766581518076,
          7.523571208888999,
          7.524375836259923,
          7.525180463630846,
          7.525985091001769,
          7.526789718372693,
          7.5275943457436165,
          7.52839897311454,
          7.529203600485463,
          7.530008227856387,
          7.53081285522731,
          7.531617482598233,
          7.532422109969157,
          7.5332267373400805,
          7.534031364711004,
          7.534835992081927,
          7.535640619452851,
          7.536445246823774,
          7.537249874194697,
          7.538054501565621,
          7.5388591289365445,
          7.539663756307468,
          7.540468383678391,
          7.541273011049315,
          7.542077638420238,
          7.542882265791161,
          7.543686893162085,
          7.5444915205330085,
          7.545296147903932,
          7.546100775274855,
          7.546905402645779,
          7.547710030016702,
          7.548514657387625,
          7.549319284758549,
          7.5501239121294725,
          7.550928539500396,
          7.551733166871319,
          7.552537794242243,
          7.553342421613166,
          7.554147048984089,
          7.554951676355013,
          7.5557563037259365,
          7.55656093109686,
          7.557365558467783,
          7.558170185838707,
          7.55897481320963,
          7.559779440580553,
          7.560584067951477,
          7.5613886953224005,
          7.562193322693324,
          7.562997950064247,
          7.563802577435171,
          7.564607204806094,
          7.565411832177017,
          7.566216459547941,
          7.5670210869188645,
          7.567825714289788,
          7.568630341660711,
          7.569434969031635,
          7.570239596402558,
          7.571044223773481,
          7.571848851144405,
          7.5726534785153286,
          7.573458105886252,
          7.574262733257175,
          7.575067360628099,
          7.575871987999022,
          7.576676615369945,
          7.577481242740869,
          7.5782858701117926,
          7.579090497482716,
          7.579895124853639,
          7.580699752224563
         ],
         "y": [
          1.5544581509179913,
          1.5576136696293688,
          1.560769188340739,
          1.5639247070521165,
          1.5670802257634904,
          1.5702357444748642,
          1.5733912631862381,
          1.576546781897612,
          1.5797023006089859,
          1.5828578193203597,
          1.5860133380317336,
          1.5891688567431075,
          1.592324375454485,
          1.5954798941658552,
          1.598635412877229,
          1.6017909315886065,
          1.6049464502999768,
          1.6081019690113507,
          1.6112574877227281,
          1.614413006434102,
          1.6175685251454723,
          1.6207240438568498,
          1.6238795625682236,
          1.627035081279594,
          1.6301905999909714,
          1.6333461187023453,
          1.6365016374137191,
          1.639657156125093,
          1.6428126748364669,
          1.6459681935478407,
          1.6491237122592146,
          1.6522792309705885,
          1.655434749681966,
          1.6585902683933398,
          1.66174578710471,
          1.6649013058160875,
          1.6680568245274614,
          1.6712123432388317,
          1.6743678619502091,
          1.677523380661583,
          1.680678899372957,
          1.6838344180843308,
          1.6869899367957046,
          1.6901454555070785,
          1.6933009742184524,
          1.6964564929298263,
          1.6996120116412001,
          1.7027675303525776,
          1.7059230490639479,
          1.7090785677753217,
          1.7122340864866992,
          1.7153896051980695,
          1.7185451239094434,
          1.7217006426208208,
          1.7248561613321947,
          1.728011680043565,
          1.7311671987549424,
          1.7343227174663163,
          1.7374782361776866,
          1.740633754889064,
          1.743789273600438,
          1.7469447923118153,
          1.7501003110231856,
          1.7532558297345595,
          1.756411348445937,
          1.7595668671573073,
          1.7627223858686811,
          1.7658779045800586,
          1.7690334232914324,
          1.7721889420028027,
          1.7753444607141802,
          1.778499979425554,
          1.7816554981369244,
          1.7848110168483018,
          1.7879665355596757,
          1.7911220542710495,
          1.7942775729824234,
          1.7974330916937973,
          1.8005886104051712,
          1.803744129116545,
          1.806899647827919,
          1.8100551665392928,
          1.8132106852506702,
          1.8163662039620405,
          1.8195217226734144,
          1.8226772413847918,
          1.8258327600961621,
          1.828988278807536,
          1.8321437975189134,
          1.8352993162302873,
          1.8384548349416612,
          1.841610353653035,
          1.844765872364409,
          1.8479213910757828,
          1.8510769097871567,
          1.8542324284985305,
          1.857387947209908,
          1.8605434659212783,
          1.8636989846326522,
          1.8668545033440296,
          1.8700100220554,
          1.8731655407667738,
          1.8763210594781512,
          1.879476578189525,
          1.8826320969008954,
          1.8857876156122728,
          1.8889431343236467,
          1.892098653035017,
          1.8952541717463944,
          1.8984096904577683,
          1.9015652091691422,
          1.904720727880516,
          1.90787624659189,
          1.9110317653032638,
          1.9141872840146377,
          1.9173428027260115,
          1.9204983214373854,
          1.9236538401487628,
          1.9268093588601332,
          1.9299648775715106,
          1.9331203962828845,
          1.9362759149942548,
          1.9394314337056322,
          1.942586952417006,
          1.9457424711283764,
          1.9488979898397538,
          1.9520535085511277,
          1.9552090272625016,
          1.9583645459738754,
          1.9615200646852493,
          1.9646755833966232,
          1.967831102107997,
          1.970986620819371,
          1.9741421395307448,
          1.9772976582421222,
          1.9804531769534925,
          1.9836086956648664,
          1.9867642143762438,
          1.9899197330876142,
          1.993075251798988,
          1.9962307705103655,
          1.9993862892217393,
          2.0025418079331097,
          2.005697326644487,
          2.008852845355861,
          2.012008364067235,
          2.0151638827786087,
          2.0183194014899826,
          2.02147492020136,
          2.0246304389127303,
          2.027785957624104,
          2.0309414763354816,
          2.034096995046852,
          2.037252513758226,
          2.0404080324696032,
          2.043563551180977,
          2.0467190698923474,
          2.049874588603725,
          2.0530301073150987,
          2.056185626026469,
          2.0593411447378465,
          2.0624966634492203,
          2.065652182160594,
          2.068807700871968,
          2.071963219583342,
          2.075118738294716,
          2.0782742570060897,
          2.0814297757174636,
          2.0845852944288374,
          2.087740813140215,
          2.090896331851585,
          2.094051850562959,
          2.0972073692743365,
          2.100362887985707,
          2.1035184066970842,
          2.106673925408458,
          2.109829444119832,
          2.112984962831206,
          2.1161404815425797,
          2.1192960002539536,
          2.1224515189653275,
          2.1256070376767013,
          2.128762556388075,
          2.1319180750994526,
          2.135073593810823,
          2.138229112522197,
          2.1413846312335743,
          2.1445401499449446,
          2.1476956686563184,
          2.150851187367696,
          2.1540067060790697,
          2.15716222479044,
          2.1603177435018175,
          2.1634732622131914,
          2.1666287809245617,
          2.169784299635939,
          2.172939818347313,
          2.176095337058687,
          2.1792508557700607,
          2.1824063744814346
         ]
        }
       ],
       "layout": {
        "height": 500,
        "template": {
         "data": {
          "bar": [
           {
            "error_x": {
             "color": "#2a3f5f"
            },
            "error_y": {
             "color": "#2a3f5f"
            },
            "marker": {
             "line": {
              "color": "#E5ECF6",
              "width": 0.5
             }
            },
            "type": "bar"
           }
          ],
          "barpolar": [
           {
            "marker": {
             "line": {
              "color": "#E5ECF6",
              "width": 0.5
             }
            },
            "type": "barpolar"
           }
          ],
          "carpet": [
           {
            "aaxis": {
             "endlinecolor": "#2a3f5f",
             "gridcolor": "white",
             "linecolor": "white",
             "minorgridcolor": "white",
             "startlinecolor": "#2a3f5f"
            },
            "baxis": {
             "endlinecolor": "#2a3f5f",
             "gridcolor": "white",
             "linecolor": "white",
             "minorgridcolor": "white",
             "startlinecolor": "#2a3f5f"
            },
            "type": "carpet"
           }
          ],
          "choropleth": [
           {
            "colorbar": {
             "outlinewidth": 0,
             "ticks": ""
            },
            "type": "choropleth"
           }
          ],
          "contour": [
           {
            "colorbar": {
             "outlinewidth": 0,
             "ticks": ""
            },
            "colorscale": [
             [
              0,
              "#0d0887"
             ],
             [
              0.1111111111111111,
              "#46039f"
             ],
             [
              0.2222222222222222,
              "#7201a8"
             ],
             [
              0.3333333333333333,
              "#9c179e"
             ],
             [
              0.4444444444444444,
              "#bd3786"
             ],
             [
              0.5555555555555556,
              "#d8576b"
             ],
             [
              0.6666666666666666,
              "#ed7953"
             ],
             [
              0.7777777777777778,
              "#fb9f3a"
             ],
             [
              0.8888888888888888,
              "#fdca26"
             ],
             [
              1,
              "#f0f921"
             ]
            ],
            "type": "contour"
           }
          ],
          "contourcarpet": [
           {
            "colorbar": {
             "outlinewidth": 0,
             "ticks": ""
            },
            "type": "contourcarpet"
           }
          ],
          "heatmap": [
           {
            "colorbar": {
             "outlinewidth": 0,
             "ticks": ""
            },
            "colorscale": [
             [
              0,
              "#0d0887"
             ],
             [
              0.1111111111111111,
              "#46039f"
             ],
             [
              0.2222222222222222,
              "#7201a8"
             ],
             [
              0.3333333333333333,
              "#9c179e"
             ],
             [
              0.4444444444444444,
              "#bd3786"
             ],
             [
              0.5555555555555556,
              "#d8576b"
             ],
             [
              0.6666666666666666,
              "#ed7953"
             ],
             [
              0.7777777777777778,
              "#fb9f3a"
             ],
             [
              0.8888888888888888,
              "#fdca26"
             ],
             [
              1,
              "#f0f921"
             ]
            ],
            "type": "heatmap"
           }
          ],
          "heatmapgl": [
           {
            "colorbar": {
             "outlinewidth": 0,
             "ticks": ""
            },
            "colorscale": [
             [
              0,
              "#0d0887"
             ],
             [
              0.1111111111111111,
              "#46039f"
             ],
             [
              0.2222222222222222,
              "#7201a8"
             ],
             [
              0.3333333333333333,
              "#9c179e"
             ],
             [
              0.4444444444444444,
              "#bd3786"
             ],
             [
              0.5555555555555556,
              "#d8576b"
             ],
             [
              0.6666666666666666,
              "#ed7953"
             ],
             [
              0.7777777777777778,
              "#fb9f3a"
             ],
             [
              0.8888888888888888,
              "#fdca26"
             ],
             [
              1,
              "#f0f921"
             ]
            ],
            "type": "heatmapgl"
           }
          ],
          "histogram": [
           {
            "marker": {
             "colorbar": {
              "outlinewidth": 0,
              "ticks": ""
             }
            },
            "type": "histogram"
           }
          ],
          "histogram2d": [
           {
            "colorbar": {
             "outlinewidth": 0,
             "ticks": ""
            },
            "colorscale": [
             [
              0,
              "#0d0887"
             ],
             [
              0.1111111111111111,
              "#46039f"
             ],
             [
              0.2222222222222222,
              "#7201a8"
             ],
             [
              0.3333333333333333,
              "#9c179e"
             ],
             [
              0.4444444444444444,
              "#bd3786"
             ],
             [
              0.5555555555555556,
              "#d8576b"
             ],
             [
              0.6666666666666666,
              "#ed7953"
             ],
             [
              0.7777777777777778,
              "#fb9f3a"
             ],
             [
              0.8888888888888888,
              "#fdca26"
             ],
             [
              1,
              "#f0f921"
             ]
            ],
            "type": "histogram2d"
           }
          ],
          "histogram2dcontour": [
           {
            "colorbar": {
             "outlinewidth": 0,
             "ticks": ""
            },
            "colorscale": [
             [
              0,
              "#0d0887"
             ],
             [
              0.1111111111111111,
              "#46039f"
             ],
             [
              0.2222222222222222,
              "#7201a8"
             ],
             [
              0.3333333333333333,
              "#9c179e"
             ],
             [
              0.4444444444444444,
              "#bd3786"
             ],
             [
              0.5555555555555556,
              "#d8576b"
             ],
             [
              0.6666666666666666,
              "#ed7953"
             ],
             [
              0.7777777777777778,
              "#fb9f3a"
             ],
             [
              0.8888888888888888,
              "#fdca26"
             ],
             [
              1,
              "#f0f921"
             ]
            ],
            "type": "histogram2dcontour"
           }
          ],
          "mesh3d": [
           {
            "colorbar": {
             "outlinewidth": 0,
             "ticks": ""
            },
            "type": "mesh3d"
           }
          ],
          "parcoords": [
           {
            "line": {
             "colorbar": {
              "outlinewidth": 0,
              "ticks": ""
             }
            },
            "type": "parcoords"
           }
          ],
          "scatter": [
           {
            "marker": {
             "colorbar": {
              "outlinewidth": 0,
              "ticks": ""
             }
            },
            "type": "scatter"
           }
          ],
          "scatter3d": [
           {
            "line": {
             "colorbar": {
              "outlinewidth": 0,
              "ticks": ""
             }
            },
            "marker": {
             "colorbar": {
              "outlinewidth": 0,
              "ticks": ""
             }
            },
            "type": "scatter3d"
           }
          ],
          "scattercarpet": [
           {
            "marker": {
             "colorbar": {
              "outlinewidth": 0,
              "ticks": ""
             }
            },
            "type": "scattercarpet"
           }
          ],
          "scattergeo": [
           {
            "marker": {
             "colorbar": {
              "outlinewidth": 0,
              "ticks": ""
             }
            },
            "type": "scattergeo"
           }
          ],
          "scattergl": [
           {
            "marker": {
             "colorbar": {
              "outlinewidth": 0,
              "ticks": ""
             }
            },
            "type": "scattergl"
           }
          ],
          "scattermapbox": [
           {
            "marker": {
             "colorbar": {
              "outlinewidth": 0,
              "ticks": ""
             }
            },
            "type": "scattermapbox"
           }
          ],
          "scatterpolar": [
           {
            "marker": {
             "colorbar": {
              "outlinewidth": 0,
              "ticks": ""
             }
            },
            "type": "scatterpolar"
           }
          ],
          "scatterpolargl": [
           {
            "marker": {
             "colorbar": {
              "outlinewidth": 0,
              "ticks": ""
             }
            },
            "type": "scatterpolargl"
           }
          ],
          "scatterternary": [
           {
            "marker": {
             "colorbar": {
              "outlinewidth": 0,
              "ticks": ""
             }
            },
            "type": "scatterternary"
           }
          ],
          "surface": [
           {
            "colorbar": {
             "outlinewidth": 0,
             "ticks": ""
            },
            "colorscale": [
             [
              0,
              "#0d0887"
             ],
             [
              0.1111111111111111,
              "#46039f"
             ],
             [
              0.2222222222222222,
              "#7201a8"
             ],
             [
              0.3333333333333333,
              "#9c179e"
             ],
             [
              0.4444444444444444,
              "#bd3786"
             ],
             [
              0.5555555555555556,
              "#d8576b"
             ],
             [
              0.6666666666666666,
              "#ed7953"
             ],
             [
              0.7777777777777778,
              "#fb9f3a"
             ],
             [
              0.8888888888888888,
              "#fdca26"
             ],
             [
              1,
              "#f0f921"
             ]
            ],
            "type": "surface"
           }
          ],
          "table": [
           {
            "cells": {
             "fill": {
              "color": "#EBF0F8"
             },
             "line": {
              "color": "white"
             }
            },
            "header": {
             "fill": {
              "color": "#C8D4E3"
             },
             "line": {
              "color": "white"
             }
            },
            "type": "table"
           }
          ]
         },
         "layout": {
          "annotationdefaults": {
           "arrowcolor": "#2a3f5f",
           "arrowhead": 0,
           "arrowwidth": 1
          },
          "colorscale": {
           "diverging": [
            [
             0,
             "#8e0152"
            ],
            [
             0.1,
             "#c51b7d"
            ],
            [
             0.2,
             "#de77ae"
            ],
            [
             0.3,
             "#f1b6da"
            ],
            [
             0.4,
             "#fde0ef"
            ],
            [
             0.5,
             "#f7f7f7"
            ],
            [
             0.6,
             "#e6f5d0"
            ],
            [
             0.7,
             "#b8e186"
            ],
            [
             0.8,
             "#7fbc41"
            ],
            [
             0.9,
             "#4d9221"
            ],
            [
             1,
             "#276419"
            ]
           ],
           "sequential": [
            [
             0,
             "#0d0887"
            ],
            [
             0.1111111111111111,
             "#46039f"
            ],
            [
             0.2222222222222222,
             "#7201a8"
            ],
            [
             0.3333333333333333,
             "#9c179e"
            ],
            [
             0.4444444444444444,
             "#bd3786"
            ],
            [
             0.5555555555555556,
             "#d8576b"
            ],
            [
             0.6666666666666666,
             "#ed7953"
            ],
            [
             0.7777777777777778,
             "#fb9f3a"
            ],
            [
             0.8888888888888888,
             "#fdca26"
            ],
            [
             1,
             "#f0f921"
            ]
           ],
           "sequentialminus": [
            [
             0,
             "#0d0887"
            ],
            [
             0.1111111111111111,
             "#46039f"
            ],
            [
             0.2222222222222222,
             "#7201a8"
            ],
            [
             0.3333333333333333,
             "#9c179e"
            ],
            [
             0.4444444444444444,
             "#bd3786"
            ],
            [
             0.5555555555555556,
             "#d8576b"
            ],
            [
             0.6666666666666666,
             "#ed7953"
            ],
            [
             0.7777777777777778,
             "#fb9f3a"
            ],
            [
             0.8888888888888888,
             "#fdca26"
            ],
            [
             1,
             "#f0f921"
            ]
           ]
          },
          "colorway": [
           "#636efa",
           "#EF553B",
           "#00cc96",
           "#ab63fa",
           "#FFA15A",
           "#19d3f3",
           "#FF6692",
           "#B6E880",
           "#FF97FF",
           "#FECB52"
          ],
          "font": {
           "color": "#2a3f5f"
          },
          "geo": {
           "bgcolor": "white",
           "lakecolor": "white",
           "landcolor": "#E5ECF6",
           "showlakes": true,
           "showland": true,
           "subunitcolor": "white"
          },
          "hoverlabel": {
           "align": "left"
          },
          "hovermode": "closest",
          "mapbox": {
           "style": "light"
          },
          "paper_bgcolor": "white",
          "plot_bgcolor": "#E5ECF6",
          "polar": {
           "angularaxis": {
            "gridcolor": "white",
            "linecolor": "white",
            "ticks": ""
           },
           "bgcolor": "#E5ECF6",
           "radialaxis": {
            "gridcolor": "white",
            "linecolor": "white",
            "ticks": ""
           }
          },
          "scene": {
           "xaxis": {
            "backgroundcolor": "#E5ECF6",
            "gridcolor": "white",
            "gridwidth": 2,
            "linecolor": "white",
            "showbackground": true,
            "ticks": "",
            "zerolinecolor": "white"
           },
           "yaxis": {
            "backgroundcolor": "#E5ECF6",
            "gridcolor": "white",
            "gridwidth": 2,
            "linecolor": "white",
            "showbackground": true,
            "ticks": "",
            "zerolinecolor": "white"
           },
           "zaxis": {
            "backgroundcolor": "#E5ECF6",
            "gridcolor": "white",
            "gridwidth": 2,
            "linecolor": "white",
            "showbackground": true,
            "ticks": "",
            "zerolinecolor": "white"
           }
          },
          "shapedefaults": {
           "line": {
            "color": "#2a3f5f"
           }
          },
          "ternary": {
           "aaxis": {
            "gridcolor": "white",
            "linecolor": "white",
            "ticks": ""
           },
           "baxis": {
            "gridcolor": "white",
            "linecolor": "white",
            "ticks": ""
           },
           "bgcolor": "#E5ECF6",
           "caxis": {
            "gridcolor": "white",
            "linecolor": "white",
            "ticks": ""
           }
          },
          "title": {
           "x": 0.05
          },
          "xaxis": {
           "automargin": true,
           "gridcolor": "white",
           "linecolor": "white",
           "ticks": "",
           "zerolinecolor": "white",
           "zerolinewidth": 2
          },
          "yaxis": {
           "automargin": true,
           "gridcolor": "white",
           "linecolor": "white",
           "ticks": "",
           "zerolinecolor": "white",
           "zerolinewidth": 2
          }
         }
        },
        "title": {
         "text": "Логарифмическая зависимость мощности от температуры"
        },
        "width": 800,
        "xaxis": {
         "title": {
          "text": "log(T)"
         }
        },
        "yaxis": {
         "title": {
          "text": "log(W)"
         }
        }
       }
      },
      "text/html": [
       "<div>\n",
       "        \n",
       "        \n",
       "            <div id=\"a7453b3f-ecf6-446c-b59b-43f934aa7bdc\" class=\"plotly-graph-div\" style=\"height:500px; width:800px;\"></div>\n",
       "            <script type=\"text/javascript\">\n",
       "                require([\"plotly\"], function(Plotly) {\n",
       "                    window.PLOTLYENV=window.PLOTLYENV || {};\n",
       "                    \n",
       "                if (document.getElementById(\"a7453b3f-ecf6-446c-b59b-43f934aa7bdc\")) {\n",
       "                    Plotly.newPlot(\n",
       "                        'a7453b3f-ecf6-446c-b59b-43f934aa7bdc',\n",
       "                        [{\"error_y\": {\"type\": \"constant\", \"value\": 0.1}, \"mode\": \"markers\", \"name\": \"\\u0418\\u0437\\u043c\\u0435\\u0440\\u0435\\u043d\\u0438\\u044f\", \"type\": \"scatter\", \"x\": [7.4205789054108005, 7.440146680662688, 7.451241684987676, 7.495541943884256, 7.549609165154532, 7.580699752224563], \"y\": [1.541710311583125, 1.638586921984224, 1.7275249018918466, 1.7864162194603346, 2.0426932695237636, 2.2147588386274655]}, {\"name\": \"\\u041b\\u0438\\u043d\\u0435\\u0439\\u043d\\u0430\\u044f \\u0430\\u043f\\u0440\\u043e\\u043a\\u0441\\u0438\\u043c\\u0430\\u0446\\u0438\\u044f\", \"type\": \"scatter\", \"x\": [7.4205789054108005, 7.421383532781724, 7.422188160152647, 7.422992787523571, 7.423797414894494, 7.424602042265418, 7.425406669636341, 7.4262112970072645, 7.427015924378188, 7.427820551749111, 7.428625179120035, 7.429429806490958, 7.430234433861882, 7.431039061232805, 7.4318436886037285, 7.432648315974652, 7.433452943345575, 7.434257570716499, 7.435062198087422, 7.435866825458346, 7.436671452829269, 7.4374760802001925, 7.438280707571116, 7.439085334942039, 7.439889962312963, 7.440694589683886, 7.44149921705481, 7.442303844425733, 7.4431084717966565, 7.44391309916758, 7.444717726538503, 7.445522353909427, 7.44632698128035, 7.447131608651274, 7.447936236022197, 7.4487408633931205, 7.449545490764044, 7.450350118134967, 7.451154745505891, 7.451959372876814, 7.452764000247738, 7.453568627618661, 7.4543732549895845, 7.455177882360508, 7.455982509731431, 7.456787137102355, 7.457591764473278, 7.458396391844202, 7.459201019215125, 7.4600056465860485, 7.460810273956972, 7.461614901327895, 7.462419528698819, 7.463224156069742, 7.464028783440666, 7.464833410811589, 7.4656380381825125, 7.466442665553436, 7.467247292924359, 7.468051920295283, 7.468856547666206, 7.46966117503713, 7.470465802408053, 7.4712704297789765, 7.4720750571499, 7.472879684520823, 7.473684311891747, 7.47448893926267, 7.475293566633594, 7.476098194004517, 7.4769028213754405, 7.477707448746364, 7.478512076117287, 7.479316703488211, 7.480121330859134, 7.480925958230058, 7.481730585600981, 7.4825352129719045, 7.483339840342828, 7.484144467713751, 7.484949095084675, 7.485753722455598, 7.486558349826522, 7.487362977197445, 7.4881676045683685, 7.488972231939292, 7.489776859310215, 7.490581486681139, 7.491386114052062, 7.492190741422986, 7.492995368793909, 7.4937999961648325, 7.494604623535756, 7.495409250906679, 7.496213878277603, 7.497018505648526, 7.49782313301945, 7.498627760390373, 7.4994323877612965, 7.50023701513222, 7.501041642503143, 7.501846269874067, 7.50265089724499, 7.503455524615914, 7.504260151986837, 7.5050647793577605, 7.505869406728684, 7.506674034099607, 7.507478661470531, 7.508283288841454, 7.509087916212378, 7.509892543583301, 7.5106971709542245, 7.511501798325148, 7.512306425696071, 7.513111053066995, 7.513915680437918, 7.514720307808842, 7.515524935179765, 7.5163295625506885, 7.517134189921612, 7.517938817292535, 7.518743444663459, 7.519548072034382, 7.520352699405305, 7.521157326776229, 7.5219619541471525, 7.522766581518076, 7.523571208888999, 7.524375836259923, 7.525180463630846, 7.525985091001769, 7.526789718372693, 7.5275943457436165, 7.52839897311454, 7.529203600485463, 7.530008227856387, 7.53081285522731, 7.531617482598233, 7.532422109969157, 7.5332267373400805, 7.534031364711004, 7.534835992081927, 7.535640619452851, 7.536445246823774, 7.537249874194697, 7.538054501565621, 7.5388591289365445, 7.539663756307468, 7.540468383678391, 7.541273011049315, 7.542077638420238, 7.542882265791161, 7.543686893162085, 7.5444915205330085, 7.545296147903932, 7.546100775274855, 7.546905402645779, 7.547710030016702, 7.548514657387625, 7.549319284758549, 7.5501239121294725, 7.550928539500396, 7.551733166871319, 7.552537794242243, 7.553342421613166, 7.554147048984089, 7.554951676355013, 7.5557563037259365, 7.55656093109686, 7.557365558467783, 7.558170185838707, 7.55897481320963, 7.559779440580553, 7.560584067951477, 7.5613886953224005, 7.562193322693324, 7.562997950064247, 7.563802577435171, 7.564607204806094, 7.565411832177017, 7.566216459547941, 7.5670210869188645, 7.567825714289788, 7.568630341660711, 7.569434969031635, 7.570239596402558, 7.571044223773481, 7.571848851144405, 7.5726534785153286, 7.573458105886252, 7.574262733257175, 7.575067360628099, 7.575871987999022, 7.576676615369945, 7.577481242740869, 7.5782858701117926, 7.579090497482716, 7.579895124853639, 7.580699752224563], \"y\": [1.5544581509179913, 1.5576136696293688, 1.560769188340739, 1.5639247070521165, 1.5670802257634904, 1.5702357444748642, 1.5733912631862381, 1.576546781897612, 1.5797023006089859, 1.5828578193203597, 1.5860133380317336, 1.5891688567431075, 1.592324375454485, 1.5954798941658552, 1.598635412877229, 1.6017909315886065, 1.6049464502999768, 1.6081019690113507, 1.6112574877227281, 1.614413006434102, 1.6175685251454723, 1.6207240438568498, 1.6238795625682236, 1.627035081279594, 1.6301905999909714, 1.6333461187023453, 1.6365016374137191, 1.639657156125093, 1.6428126748364669, 1.6459681935478407, 1.6491237122592146, 1.6522792309705885, 1.655434749681966, 1.6585902683933398, 1.66174578710471, 1.6649013058160875, 1.6680568245274614, 1.6712123432388317, 1.6743678619502091, 1.677523380661583, 1.680678899372957, 1.6838344180843308, 1.6869899367957046, 1.6901454555070785, 1.6933009742184524, 1.6964564929298263, 1.6996120116412001, 1.7027675303525776, 1.7059230490639479, 1.7090785677753217, 1.7122340864866992, 1.7153896051980695, 1.7185451239094434, 1.7217006426208208, 1.7248561613321947, 1.728011680043565, 1.7311671987549424, 1.7343227174663163, 1.7374782361776866, 1.740633754889064, 1.743789273600438, 1.7469447923118153, 1.7501003110231856, 1.7532558297345595, 1.756411348445937, 1.7595668671573073, 1.7627223858686811, 1.7658779045800586, 1.7690334232914324, 1.7721889420028027, 1.7753444607141802, 1.778499979425554, 1.7816554981369244, 1.7848110168483018, 1.7879665355596757, 1.7911220542710495, 1.7942775729824234, 1.7974330916937973, 1.8005886104051712, 1.803744129116545, 1.806899647827919, 1.8100551665392928, 1.8132106852506702, 1.8163662039620405, 1.8195217226734144, 1.8226772413847918, 1.8258327600961621, 1.828988278807536, 1.8321437975189134, 1.8352993162302873, 1.8384548349416612, 1.841610353653035, 1.844765872364409, 1.8479213910757828, 1.8510769097871567, 1.8542324284985305, 1.857387947209908, 1.8605434659212783, 1.8636989846326522, 1.8668545033440296, 1.8700100220554, 1.8731655407667738, 1.8763210594781512, 1.879476578189525, 1.8826320969008954, 1.8857876156122728, 1.8889431343236467, 1.892098653035017, 1.8952541717463944, 1.8984096904577683, 1.9015652091691422, 1.904720727880516, 1.90787624659189, 1.9110317653032638, 1.9141872840146377, 1.9173428027260115, 1.9204983214373854, 1.9236538401487628, 1.9268093588601332, 1.9299648775715106, 1.9331203962828845, 1.9362759149942548, 1.9394314337056322, 1.942586952417006, 1.9457424711283764, 1.9488979898397538, 1.9520535085511277, 1.9552090272625016, 1.9583645459738754, 1.9615200646852493, 1.9646755833966232, 1.967831102107997, 1.970986620819371, 1.9741421395307448, 1.9772976582421222, 1.9804531769534925, 1.9836086956648664, 1.9867642143762438, 1.9899197330876142, 1.993075251798988, 1.9962307705103655, 1.9993862892217393, 2.0025418079331097, 2.005697326644487, 2.008852845355861, 2.012008364067235, 2.0151638827786087, 2.0183194014899826, 2.02147492020136, 2.0246304389127303, 2.027785957624104, 2.0309414763354816, 2.034096995046852, 2.037252513758226, 2.0404080324696032, 2.043563551180977, 2.0467190698923474, 2.049874588603725, 2.0530301073150987, 2.056185626026469, 2.0593411447378465, 2.0624966634492203, 2.065652182160594, 2.068807700871968, 2.071963219583342, 2.075118738294716, 2.0782742570060897, 2.0814297757174636, 2.0845852944288374, 2.087740813140215, 2.090896331851585, 2.094051850562959, 2.0972073692743365, 2.100362887985707, 2.1035184066970842, 2.106673925408458, 2.109829444119832, 2.112984962831206, 2.1161404815425797, 2.1192960002539536, 2.1224515189653275, 2.1256070376767013, 2.128762556388075, 2.1319180750994526, 2.135073593810823, 2.138229112522197, 2.1413846312335743, 2.1445401499449446, 2.1476956686563184, 2.150851187367696, 2.1540067060790697, 2.15716222479044, 2.1603177435018175, 2.1634732622131914, 2.1666287809245617, 2.169784299635939, 2.172939818347313, 2.176095337058687, 2.1792508557700607, 2.1824063744814346]}],\n",
       "                        {\"height\": 500, \"template\": {\"data\": {\"bar\": [{\"error_x\": {\"color\": \"#2a3f5f\"}, \"error_y\": {\"color\": \"#2a3f5f\"}, \"marker\": {\"line\": {\"color\": \"#E5ECF6\", \"width\": 0.5}}, \"type\": \"bar\"}], \"barpolar\": [{\"marker\": {\"line\": {\"color\": \"#E5ECF6\", \"width\": 0.5}}, \"type\": \"barpolar\"}], \"carpet\": [{\"aaxis\": {\"endlinecolor\": \"#2a3f5f\", \"gridcolor\": \"white\", \"linecolor\": \"white\", \"minorgridcolor\": \"white\", \"startlinecolor\": \"#2a3f5f\"}, \"baxis\": {\"endlinecolor\": \"#2a3f5f\", \"gridcolor\": \"white\", \"linecolor\": \"white\", \"minorgridcolor\": \"white\", \"startlinecolor\": \"#2a3f5f\"}, \"type\": \"carpet\"}], \"choropleth\": [{\"colorbar\": {\"outlinewidth\": 0, \"ticks\": \"\"}, \"type\": \"choropleth\"}], \"contour\": [{\"colorbar\": {\"outlinewidth\": 0, \"ticks\": \"\"}, \"colorscale\": [[0.0, \"#0d0887\"], [0.1111111111111111, \"#46039f\"], [0.2222222222222222, \"#7201a8\"], [0.3333333333333333, \"#9c179e\"], [0.4444444444444444, \"#bd3786\"], [0.5555555555555556, \"#d8576b\"], [0.6666666666666666, \"#ed7953\"], [0.7777777777777778, \"#fb9f3a\"], [0.8888888888888888, \"#fdca26\"], [1.0, \"#f0f921\"]], \"type\": \"contour\"}], \"contourcarpet\": [{\"colorbar\": {\"outlinewidth\": 0, \"ticks\": \"\"}, \"type\": \"contourcarpet\"}], \"heatmap\": [{\"colorbar\": {\"outlinewidth\": 0, \"ticks\": \"\"}, \"colorscale\": [[0.0, \"#0d0887\"], [0.1111111111111111, \"#46039f\"], [0.2222222222222222, \"#7201a8\"], [0.3333333333333333, \"#9c179e\"], [0.4444444444444444, \"#bd3786\"], [0.5555555555555556, \"#d8576b\"], [0.6666666666666666, \"#ed7953\"], [0.7777777777777778, \"#fb9f3a\"], [0.8888888888888888, \"#fdca26\"], [1.0, \"#f0f921\"]], \"type\": \"heatmap\"}], \"heatmapgl\": [{\"colorbar\": {\"outlinewidth\": 0, \"ticks\": \"\"}, \"colorscale\": [[0.0, \"#0d0887\"], [0.1111111111111111, \"#46039f\"], [0.2222222222222222, \"#7201a8\"], [0.3333333333333333, \"#9c179e\"], [0.4444444444444444, \"#bd3786\"], [0.5555555555555556, \"#d8576b\"], [0.6666666666666666, \"#ed7953\"], [0.7777777777777778, \"#fb9f3a\"], [0.8888888888888888, \"#fdca26\"], [1.0, \"#f0f921\"]], \"type\": \"heatmapgl\"}], \"histogram\": [{\"marker\": {\"colorbar\": {\"outlinewidth\": 0, \"ticks\": \"\"}}, \"type\": \"histogram\"}], \"histogram2d\": [{\"colorbar\": {\"outlinewidth\": 0, \"ticks\": \"\"}, \"colorscale\": [[0.0, \"#0d0887\"], [0.1111111111111111, \"#46039f\"], [0.2222222222222222, \"#7201a8\"], [0.3333333333333333, \"#9c179e\"], [0.4444444444444444, \"#bd3786\"], [0.5555555555555556, \"#d8576b\"], [0.6666666666666666, \"#ed7953\"], [0.7777777777777778, \"#fb9f3a\"], [0.8888888888888888, \"#fdca26\"], [1.0, \"#f0f921\"]], \"type\": \"histogram2d\"}], \"histogram2dcontour\": [{\"colorbar\": {\"outlinewidth\": 0, \"ticks\": \"\"}, \"colorscale\": [[0.0, \"#0d0887\"], [0.1111111111111111, \"#46039f\"], [0.2222222222222222, \"#7201a8\"], [0.3333333333333333, \"#9c179e\"], [0.4444444444444444, \"#bd3786\"], [0.5555555555555556, \"#d8576b\"], [0.6666666666666666, \"#ed7953\"], [0.7777777777777778, \"#fb9f3a\"], [0.8888888888888888, \"#fdca26\"], [1.0, \"#f0f921\"]], \"type\": \"histogram2dcontour\"}], \"mesh3d\": [{\"colorbar\": {\"outlinewidth\": 0, \"ticks\": \"\"}, \"type\": \"mesh3d\"}], \"parcoords\": [{\"line\": {\"colorbar\": {\"outlinewidth\": 0, \"ticks\": \"\"}}, \"type\": \"parcoords\"}], \"scatter\": [{\"marker\": {\"colorbar\": {\"outlinewidth\": 0, \"ticks\": \"\"}}, \"type\": \"scatter\"}], \"scatter3d\": [{\"line\": {\"colorbar\": {\"outlinewidth\": 0, \"ticks\": \"\"}}, \"marker\": {\"colorbar\": {\"outlinewidth\": 0, \"ticks\": \"\"}}, \"type\": \"scatter3d\"}], \"scattercarpet\": [{\"marker\": {\"colorbar\": {\"outlinewidth\": 0, \"ticks\": \"\"}}, \"type\": \"scattercarpet\"}], \"scattergeo\": [{\"marker\": {\"colorbar\": {\"outlinewidth\": 0, \"ticks\": \"\"}}, \"type\": \"scattergeo\"}], \"scattergl\": [{\"marker\": {\"colorbar\": {\"outlinewidth\": 0, \"ticks\": \"\"}}, \"type\": \"scattergl\"}], \"scattermapbox\": [{\"marker\": {\"colorbar\": {\"outlinewidth\": 0, \"ticks\": \"\"}}, \"type\": \"scattermapbox\"}], \"scatterpolar\": [{\"marker\": {\"colorbar\": {\"outlinewidth\": 0, \"ticks\": \"\"}}, \"type\": \"scatterpolar\"}], \"scatterpolargl\": [{\"marker\": {\"colorbar\": {\"outlinewidth\": 0, \"ticks\": \"\"}}, \"type\": \"scatterpolargl\"}], \"scatterternary\": [{\"marker\": {\"colorbar\": {\"outlinewidth\": 0, \"ticks\": \"\"}}, \"type\": \"scatterternary\"}], \"surface\": [{\"colorbar\": {\"outlinewidth\": 0, \"ticks\": \"\"}, \"colorscale\": [[0.0, \"#0d0887\"], [0.1111111111111111, \"#46039f\"], [0.2222222222222222, \"#7201a8\"], [0.3333333333333333, \"#9c179e\"], [0.4444444444444444, \"#bd3786\"], [0.5555555555555556, \"#d8576b\"], [0.6666666666666666, \"#ed7953\"], [0.7777777777777778, \"#fb9f3a\"], [0.8888888888888888, \"#fdca26\"], [1.0, \"#f0f921\"]], \"type\": \"surface\"}], \"table\": [{\"cells\": {\"fill\": {\"color\": \"#EBF0F8\"}, \"line\": {\"color\": \"white\"}}, \"header\": {\"fill\": {\"color\": \"#C8D4E3\"}, \"line\": {\"color\": \"white\"}}, \"type\": \"table\"}]}, \"layout\": {\"annotationdefaults\": {\"arrowcolor\": \"#2a3f5f\", \"arrowhead\": 0, \"arrowwidth\": 1}, \"colorscale\": {\"diverging\": [[0, \"#8e0152\"], [0.1, \"#c51b7d\"], [0.2, \"#de77ae\"], [0.3, \"#f1b6da\"], [0.4, \"#fde0ef\"], [0.5, \"#f7f7f7\"], [0.6, \"#e6f5d0\"], [0.7, \"#b8e186\"], [0.8, \"#7fbc41\"], [0.9, \"#4d9221\"], [1, \"#276419\"]], \"sequential\": [[0.0, \"#0d0887\"], [0.1111111111111111, \"#46039f\"], [0.2222222222222222, \"#7201a8\"], [0.3333333333333333, \"#9c179e\"], [0.4444444444444444, \"#bd3786\"], [0.5555555555555556, \"#d8576b\"], [0.6666666666666666, \"#ed7953\"], [0.7777777777777778, \"#fb9f3a\"], [0.8888888888888888, \"#fdca26\"], [1.0, \"#f0f921\"]], \"sequentialminus\": [[0.0, \"#0d0887\"], [0.1111111111111111, \"#46039f\"], [0.2222222222222222, \"#7201a8\"], [0.3333333333333333, \"#9c179e\"], [0.4444444444444444, \"#bd3786\"], [0.5555555555555556, \"#d8576b\"], [0.6666666666666666, \"#ed7953\"], [0.7777777777777778, \"#fb9f3a\"], [0.8888888888888888, \"#fdca26\"], [1.0, \"#f0f921\"]]}, \"colorway\": [\"#636efa\", \"#EF553B\", \"#00cc96\", \"#ab63fa\", \"#FFA15A\", \"#19d3f3\", \"#FF6692\", \"#B6E880\", \"#FF97FF\", \"#FECB52\"], \"font\": {\"color\": \"#2a3f5f\"}, \"geo\": {\"bgcolor\": \"white\", \"lakecolor\": \"white\", \"landcolor\": \"#E5ECF6\", \"showlakes\": true, \"showland\": true, \"subunitcolor\": \"white\"}, \"hoverlabel\": {\"align\": \"left\"}, \"hovermode\": \"closest\", \"mapbox\": {\"style\": \"light\"}, \"paper_bgcolor\": \"white\", \"plot_bgcolor\": \"#E5ECF6\", \"polar\": {\"angularaxis\": {\"gridcolor\": \"white\", \"linecolor\": \"white\", \"ticks\": \"\"}, \"bgcolor\": \"#E5ECF6\", \"radialaxis\": {\"gridcolor\": \"white\", \"linecolor\": \"white\", \"ticks\": \"\"}}, \"scene\": {\"xaxis\": {\"backgroundcolor\": \"#E5ECF6\", \"gridcolor\": \"white\", \"gridwidth\": 2, \"linecolor\": \"white\", \"showbackground\": true, \"ticks\": \"\", \"zerolinecolor\": \"white\"}, \"yaxis\": {\"backgroundcolor\": \"#E5ECF6\", \"gridcolor\": \"white\", \"gridwidth\": 2, \"linecolor\": \"white\", \"showbackground\": true, \"ticks\": \"\", \"zerolinecolor\": \"white\"}, \"zaxis\": {\"backgroundcolor\": \"#E5ECF6\", \"gridcolor\": \"white\", \"gridwidth\": 2, \"linecolor\": \"white\", \"showbackground\": true, \"ticks\": \"\", \"zerolinecolor\": \"white\"}}, \"shapedefaults\": {\"line\": {\"color\": \"#2a3f5f\"}}, \"ternary\": {\"aaxis\": {\"gridcolor\": \"white\", \"linecolor\": \"white\", \"ticks\": \"\"}, \"baxis\": {\"gridcolor\": \"white\", \"linecolor\": \"white\", \"ticks\": \"\"}, \"bgcolor\": \"#E5ECF6\", \"caxis\": {\"gridcolor\": \"white\", \"linecolor\": \"white\", \"ticks\": \"\"}}, \"title\": {\"x\": 0.05}, \"xaxis\": {\"automargin\": true, \"gridcolor\": \"white\", \"linecolor\": \"white\", \"ticks\": \"\", \"zerolinecolor\": \"white\", \"zerolinewidth\": 2}, \"yaxis\": {\"automargin\": true, \"gridcolor\": \"white\", \"linecolor\": \"white\", \"ticks\": \"\", \"zerolinecolor\": \"white\", \"zerolinewidth\": 2}}}, \"title\": {\"text\": \"\\u041b\\u043e\\u0433\\u0430\\u0440\\u0438\\u0444\\u043c\\u0438\\u0447\\u0435\\u0441\\u043a\\u0430\\u044f \\u0437\\u0430\\u0432\\u0438\\u0441\\u0438\\u043c\\u043e\\u0441\\u0442\\u044c \\u043c\\u043e\\u0449\\u043d\\u043e\\u0441\\u0442\\u0438 \\u043e\\u0442 \\u0442\\u0435\\u043c\\u043f\\u0435\\u0440\\u0430\\u0442\\u0443\\u0440\\u044b\"}, \"width\": 800, \"xaxis\": {\"title\": {\"text\": \"log(T)\"}}, \"yaxis\": {\"title\": {\"text\": \"log(W)\"}}},\n",
       "                        {\"responsive\": true}\n",
       "                    ).then(function(){\n",
       "                            \n",
       "var gd = document.getElementById('a7453b3f-ecf6-446c-b59b-43f934aa7bdc');\n",
       "var x = new MutationObserver(function (mutations, observer) {{\n",
       "        var display = window.getComputedStyle(gd).display;\n",
       "        if (!display || display === 'none') {{\n",
       "            console.log([gd, 'removed!']);\n",
       "            Plotly.purge(gd);\n",
       "            observer.disconnect();\n",
       "        }}\n",
       "}});\n",
       "\n",
       "// Listen for the removal of the full notebook cells\n",
       "var notebookContainer = gd.closest('#notebook-container');\n",
       "if (notebookContainer) {{\n",
       "    x.observe(notebookContainer, {childList: true});\n",
       "}}\n",
       "\n",
       "// Listen for the clearing of the current output cell\n",
       "var outputEl = gd.closest('.output');\n",
       "if (outputEl) {{\n",
       "    x.observe(outputEl, {childList: true});\n",
       "}}\n",
       "\n",
       "                        })\n",
       "                };\n",
       "                });\n",
       "            </script>\n",
       "        </div>"
      ]
     },
     "metadata": {},
     "output_type": "display_data"
    }
   ],
   "source": [
    "\n",
    "x_ = x[-6:]\n",
    "y_ = y[-6:]\n",
    "\n",
    "points = go.Scatter({\n",
    "    'x': np.log(x_),\n",
    "    'y': np.log(y_),\n",
    "    'name': 'Измерения',  \n",
    "    'error_y': {\n",
    "        'type': 'constant',\n",
    "        'value':0.1,\n",
    "    },\n",
    "    'mode': 'markers'\n",
    "    })\n",
    "\n",
    "x_linspace = np.linspace(min(np.log(x_)), max(np.log(x_)), 200)\n",
    "\n",
    "n_1, ln_eps, sig_n1, sig_ln_eps = leastsqr(np.log(x_), np.log(y_))\n",
    "\n",
    "linear_approx = go.Scatter({\n",
    "    'x': x_linspace,\n",
    "    'y': n_1 * x_linspace + ln_eps,\n",
    "    'name': 'Линейная апроксимация',\n",
    "    \n",
    "})\n",
    "\n",
    "layout = go.Layout({\n",
    "    'title': 'Логарифмическая зависимость мощности от температуры',\n",
    "    'height': 500,\n",
    "    'width': 800,\n",
    "    'xaxis': {\n",
    "        'title': 'log(T)'\n",
    "    },\n",
    "    'yaxis': {\n",
    "        'title': 'log(W)'\n",
    "    }\n",
    "})\n",
    "print('Коэффициент наклона прямой: {0:.2f}±{1:.2f}'.format(n_1, sig_n1))\n",
    "go.Figure(data=[points, linear_approx], layout=layout)"
   ]
  },
  {
   "cell_type": "markdown",
   "metadata": {
    "ExecuteTime": {
     "end_time": "2019-09-06T11:13:00.196637Z",
     "start_time": "2019-09-06T11:13:00.172351Z"
    }
   },
   "source": [
    "## Вычисление коэффициента постоянной Больцмана\n",
    "\n",
    "Ясно, что в формуле (2) \n",
    "$$\n",
    "B=S \\cdot \\sigma,\n",
    "$$\n",
    "где $S$ – эффективная площадь излучающей лампы при температуре более 1500°C, $\\sigma$ – постоянная Стефана-Больцмана; $S = 0,36 \\text{см}^2 $. Тогда:\n",
    "$$\n",
    "\\sigma=\\frac{W}{\\varepsilon_{T} S T^{4}}.\n",
    "$$\n",
    "Найдем ее значение для каждого измеренного значения $T$, превышающего 1700K.\n",
    "Будем считать, что значения коэффициента $\\varepsilon_t$ линейно зависит от температуры. Тогда:"
   ]
  },
  {
   "cell_type": "code",
   "execution_count": 75,
   "metadata": {
    "ExecuteTime": {
     "end_time": "2019-09-06T11:50:42.818129Z",
     "start_time": "2019-09-06T11:50:42.802874Z"
    }
   },
   "outputs": [
    {
     "data": {
      "text/plain": [
       "array([3.76355322e-08, 3.80619728e-08, 3.96274037e-08, 3.45905427e-08,\n",
       "       3.51877822e-08, 3.64003727e-08])"
      ]
     },
     "execution_count": 75,
     "metadata": {},
     "output_type": "execute_result"
    }
   ],
   "source": [
    "S = 0.36 * 10 ** -4\n",
    "x_k = x_ + 273\n",
    "k_1, k_2, sig_k_1, sig_k_2 = leastsqr(np.array([1700, 1800, 1900]), np.array([0.209, 0.223, 0.236]))\n",
    "eps_t = k_1 * (x_k) + k_2\n",
    "sigma = y_ / (eps_t * S * x_k ** 4)\n",
    "sigma"
   ]
  },
  {
   "cell_type": "markdown",
   "metadata": {},
   "source": [
    "Реальное зачение $\\sigma=5,670367(13) \\times 10^{-8} \\text{Вт}  \\cdot \\text{м} ^{-2} \\cdot \\mathrm{K}^{-4}$\n",
    "\n",
    "# Вычисление постоянной планка\n",
    "Постоянная планка может быть вычислена по формуле:\n",
    "$$\n",
    "h=\\sqrt[3]{\\frac{2 \\pi^{5} k_{\\mathrm{\\text{Б}}}^{4}}{15 c^{2} \\sigma}}\n",
    "$$"
   ]
  },
  {
   "cell_type": "code",
   "execution_count": 79,
   "metadata": {
    "ExecuteTime": {
     "end_time": "2019-09-06T12:02:21.362505Z",
     "start_time": "2019-09-06T12:02:21.351756Z"
    }
   },
   "outputs": [
    {
     "data": {
      "text/plain": [
       "array([7.59264950e-34, 7.56418731e-34, 7.46324158e-34, 7.80920662e-34,\n",
       "       7.76477258e-34, 7.67757550e-34])"
      ]
     },
     "execution_count": 79,
     "metadata": {},
     "output_type": "execute_result"
    }
   ],
   "source": [
    "k_b = 1.38064852 * 10 ** -23\n",
    "c = 3 * 10 ** 8\n",
    "h = ((2 * np.pi ** 5 * k_b ** 4) / (15 * c **2 * sigma)) ** (1/3)\n",
    "h"
   ]
  },
  {
   "cell_type": "markdown",
   "metadata": {
    "ExecuteTime": {
     "end_time": "2019-09-06T12:02:04.336501Z",
     "start_time": "2019-09-06T12:02:04.325864Z"
    }
   },
   "source": [
    "Реальное значение $h = 6,62607004 \\times 10^{-34} \\text{Дж} \\cdot \\text{К} $"
   ]
  }
 ],
 "metadata": {
  "hide_input": true,
  "kernelspec": {
   "display_name": "Python 3",
   "language": "python",
   "name": "python3"
  },
  "language_info": {
   "codemirror_mode": {
    "name": "ipython",
    "version": 3
   },
   "file_extension": ".py",
   "mimetype": "text/x-python",
   "name": "python",
   "nbconvert_exporter": "python",
   "pygments_lexer": "ipython3",
   "version": "3.6.8"
  },
  "latex_envs": {
   "LaTeX_envs_menu_present": true,
   "autoclose": false,
   "autocomplete": true,
   "bibliofile": "biblio.bib",
   "cite_by": "apalike",
   "current_citInitial": 1,
   "eqLabelWithNumbers": true,
   "eqNumInitial": 1,
   "hotkeys": {
    "equation": "Ctrl-E",
    "itemize": "Ctrl-I"
   },
   "labels_anchors": false,
   "latex_user_defs": false,
   "report_style_numbering": false,
   "user_envs_cfg": false
  },
  "varInspector": {
   "cols": {
    "lenName": 16,
    "lenType": 16,
    "lenVar": 40
   },
   "kernels_config": {
    "python": {
     "delete_cmd_postfix": "",
     "delete_cmd_prefix": "del ",
     "library": "var_list.py",
     "varRefreshCmd": "print(var_dic_list())"
    },
    "r": {
     "delete_cmd_postfix": ") ",
     "delete_cmd_prefix": "rm(",
     "library": "var_list.r",
     "varRefreshCmd": "cat(var_dic_list()) "
    }
   },
   "types_to_exclude": [
    "module",
    "function",
    "builtin_function_or_method",
    "instance",
    "_Feature"
   ],
   "window_display": false
  }
 },
 "nbformat": 4,
 "nbformat_minor": 2
}
